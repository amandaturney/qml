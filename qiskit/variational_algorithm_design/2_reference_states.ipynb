{
 "cells": [
  {
   "cell_type": "markdown",
   "metadata": {},
   "source": [
    "# Reference States"
   ]
  },
  {
   "cell_type": "markdown",
   "metadata": {},
   "source": [
    "Below are notes from each section of the qiskit course documentation found on this page: https://learn.qiskit.org/course/algorithm-design/reference"
   ]
  },
  {
   "cell_type": "markdown",
   "metadata": {},
   "source": [
    "## Default state"
   ]
  },
  {
   "cell_type": "markdown",
   "metadata": {},
   "source": [
    "A _reference state_ is the initial fixed start of our circuit. The simplest starting point for our circuit/algorithm is the default for many quantum computers, $\\ket{0}^{\\otimes n}$. However, in cases where we have some datapoint or clue for a better starting position $\\ket{\\rho}$ that will cause faster convergence, we can apply a unitary operator (non-parameterized), $U_R$ that will prepare that state. \n",
    "\n",
    "In the simple case, our unitary operator $U_R$ is the identity operator."
   ]
  },
  {
   "cell_type": "markdown",
   "metadata": {},
   "source": [
    "## Classical reference state"
   ]
  },
  {
   "cell_type": "markdown",
   "metadata": {},
   "source": [
    "If we start with 3 qubits, we could prepare an initial state to be $\\ket{001}$ by just applying an $X$ gate on the first qubit. However, this is an example of a purely classical reference state."
   ]
  },
  {
   "cell_type": "code",
   "execution_count": 1,
   "metadata": {},
   "outputs": [
    {
     "data": {
      "image/png": "[encoded data removed]",
      "text/plain": [
       "<Figure size 203.885x284.278 with 1 Axes>"
      ]
     },
     "execution_count": 1,
     "metadata": {},
     "output_type": "execute_result"
    }
   ],
   "source": [
    "from qiskit import QuantumCircuit\n",
    "\n",
    "qc = QuantumCircuit(3)\n",
    "qc.x(0)\n",
    "\n",
    "qc.draw(\"mpl\")"
   ]
  },
  {
   "cell_type": "markdown",
   "metadata": {},
   "source": [
    "## Quantum reference state"
   ]
  },
  {
   "cell_type": "markdown",
   "metadata": {},
   "source": [
    "Now instead, we can create a reference state that is more complex and _quantum_ by adding in superposition and entanglement, such as $\\frac{1}{\\sqrt{2}}(\\ket{100} + \\ket{111})$. We can prepare such a state as shown below:"
   ]
  },
  {
   "cell_type": "code",
   "execution_count": 2,
   "metadata": {},
   "outputs": [
    {
     "data": {
      "image/png": "[encoded data removed]",
      "text/plain": [
       "<Figure size 287.496x284.278 with 1 Axes>"
      ]
     },
     "execution_count": 2,
     "metadata": {},
     "output_type": "execute_result"
    }
   ],
   "source": [
    "qc = QuantumCircuit(3)\n",
    "qc.h(0)\n",
    "qc.cx(0, 1)\n",
    "qc.x(2)\n",
    "\n",
    "qc.draw(\"mpl\")"
   ]
  },
  {
   "cell_type": "markdown",
   "metadata": {},
   "source": [
    "## Constructing reference states using template circuits"
   ]
  },
  {
   "cell_type": "markdown",
   "metadata": {},
   "source": [
    "Reference states can also be created using template circuits from Qiskit given the parameter values for the gates. One example template circuit is TwoLocal, which is shown below: "
   ]
  },
  {
   "cell_type": "code",
   "execution_count": 3,
   "metadata": {},
   "outputs": [
    {
     "data": {
      "image/png": "[encoded data removed]",
      "text/plain": [
       "<Figure size 370.906x200.667 with 1 Axes>"
      ]
     },
     "execution_count": 3,
     "metadata": {},
     "output_type": "execute_result"
    }
   ],
   "source": [
    "from qiskit.circuit.library import TwoLocal\n",
    "from math import pi\n",
    "\n",
    "reference_circuit = TwoLocal(2, \"rx\", \"cz\", entanglement=\"linear\", reps=1)\n",
    "theta_list = [pi / 2, pi / 3, pi / 3, pi / 2]\n",
    "\n",
    "reference_circuit = reference_circuit.bind_parameters(theta_list)\n",
    "\n",
    "reference_circuit.decompose().draw(\"mpl\")"
   ]
  },
  {
   "cell_type": "markdown",
   "metadata": {},
   "source": [
    "<font color=\"red\">Question:</font> The course stated that you can start in all 0 state (default) or some specific state, $\\ket{\\rho}$ based on some datapoint or educated guess about a good starting position which would require some specific unitary operator to prepare. But the TwoLocal seems difference from those 2 use cases since its a tunable, parameterized circuit. Isn't that what the variational form is supposed to do? Why would we parameterize the reference state AND the variational form, especially since the course specifically said the reference state was _not_ parameterized? I understand that this is just an easy way for a user to get a bunch of different reference points they can use but it seems kind of weird."
   ]
  },
  {
   "cell_type": "markdown",
   "metadata": {},
   "source": [
    "## Application-specific reference states"
   ]
  },
  {
   "cell_type": "markdown",
   "metadata": {},
   "source": [
    "### Quantum Chemistry"
   ]
  },
  {
   "cell_type": "markdown",
   "metadata": {},
   "source": [
    "In Quantum Chemistry, the _Hartree-Fock_ state is an approximation of the ground state of an atom or molecule. Given the goal of creating a variational algorithm to find the exact ground state, we can use this known classical approximation as a reference state to help our algorithm converge faster.\n",
    "\n",
    "<font color=\"red\">Question: </font>I thought that one of the successes of quantum mechanics was its ability to predict the energy levels (eigenvalues) of any quantum system containing one or more particles. So why do we need a variational algorithm to find the exact ground state? I thought the point was that we knew what the theoretical lowest energy was and we were interesting in finding a unitary operator (variational form) that would transform a given input into the lowest energy or a value closest to our theoretical lower bounds as possible?"
   ]
  },
  {
   "cell_type": "code",
   "execution_count": null,
   "metadata": {},
   "outputs": [],
   "source": [
    "from qiskit_nature.second_q.circuit.library import HartreeFock\n",
    "from qiskit_nature.second_q.mappers import JordanWignerMapper\n",
    "\n",
    "num_spatial_orbitals = 2\n",
    "num_particles = (1, 1)\n",
    "\n",
    "mapper = JordanWignerMapper()\n",
    "\n",
    "h2_reference_state = HartreeFock(\n",
    "    num_spatial_orbitals=num_spatial_orbitals,\n",
    "    num_particles=num_particles,\n",
    "    qubit_mapper=mapper,\n",
    ")\n",
    "\n",
    "h2_reference_state.decompose().draw(\"mpl\")"
   ]
  },
  {
   "cell_type": "markdown",
   "metadata": {},
   "source": [
    "Example with Lithium hydride (LiH):"
   ]
  },
  {
   "cell_type": "code",
   "execution_count": null,
   "metadata": {},
   "outputs": [],
   "source": [
    "from qiskit_nature.second_q.drivers import PySCFDriver\n",
    "from qiskit_nature.second_q.circuit.library import HartreeFock\n",
    "from qiskit_nature.second_q.mappers import JordanWignerMapper\n",
    "from qiskit_nature.second_q.formats.molecule_info import MoleculeInfo\n",
    "\n",
    "molecule = MoleculeInfo(\n",
    "    # Coordinates in Angstrom\n",
    "    symbols=[\"Li\", \"H\"],\n",
    "    coords=([0.0, 0.0, 0.0], [0.2, 0.0, 0.0]),\n",
    "    multiplicity=1,  # = 2*spin + 1\n",
    "    charge=0,\n",
    ")\n",
    "\n",
    "driver = PySCFDriver.from_molecule(molecule)\n",
    "LiH_problem = driver.run()\n",
    "\n",
    "mapper = JordanWignerMapper()\n",
    "LiH_reference_state = HartreeFock(\n",
    "    num_spatial_orbitals=LiH_problem.num_spatial_orbitals,\n",
    "    num_particles=LiH_problem.num_particles,\n",
    "    qubit_mapper=mapper,\n",
    ")\n",
    "\n",
    "LiH_reference_state.decompose().draw(\"mpl\")"
   ]
  },
  {
   "cell_type": "markdown",
   "metadata": {},
   "source": [
    "### Quantum Machine Learning"
   ]
  },
  {
   "cell_type": "markdown",
   "metadata": {},
   "source": [
    "Variational quantum classifiers (VQC) take training data and encode it into a quantum state with a parameterized circuit known as a feature map where each parameter value represents a data point from the training dataset. Thus given the number of features, a circuit template can be designed to have that many gates that take some parameter for the rotation or phase it applies. Then the specific transformation is based on each classical datapoint's features which transform/encode it to a specific quantum state. One example of how to do this is to use Qiskit's ZZFeatureMap."
   ]
  },
  {
   "cell_type": "code",
   "execution_count": 5,
   "metadata": {},
   "outputs": [
    {
     "data": {
      "image/png": "[encoded data removed]",
      "text/plain": [
       "<Figure size 956.183x200.667 with 1 Axes>"
      ]
     },
     "execution_count": 5,
     "metadata": {},
     "output_type": "execute_result"
    }
   ],
   "source": [
    "from qiskit.circuit.library import ZZFeatureMap\n",
    "\n",
    "data = [0.1, 0.2]\n",
    "\n",
    "zz_feature_map_reference = ZZFeatureMap(feature_dimension=2, reps=2)\n",
    "zz_feature_map_reference = zz_feature_map_reference.bind_parameters(data)\n",
    "zz_feature_map_reference.decompose().draw(\"mpl\")"
   ]
  },
  {
   "cell_type": "markdown",
   "metadata": {},
   "source": [
    "<font color=\"red\">Question: </font>Is there a way to encode _all_ the data together such that a circuit will transform all inputs at the same time? This is similar to how Grover's, Deutch-Jozsa, Shor's algorithms worked. The above seems like you have to run the circuit one per datapoint instead."
   ]
  },
  {
   "cell_type": "markdown",
   "metadata": {},
   "source": [
    "Overall, even though Qiskit introduced classes that built some parameterized, tunable circuits, this should be for ease on the user; reference states are meant to be fixed, initial starting points."
   ]
  }
 ],
 "metadata": {
  "kernelspec": {
   "display_name": "Python 3",
   "language": "python",
   "name": "python3"
  },
  "language_info": {
   "codemirror_mode": {
    "name": "ipython",
    "version": 3
   },
   "file_extension": ".py",
   "mimetype": "text/x-python",
   "name": "python",
   "nbconvert_exporter": "python",
   "pygments_lexer": "ipython3",
   "version": "3.9.17"
  },
  "orig_nbformat": 4
 },
 "nbformat": 4,
 "nbformat_minor": 2
}
