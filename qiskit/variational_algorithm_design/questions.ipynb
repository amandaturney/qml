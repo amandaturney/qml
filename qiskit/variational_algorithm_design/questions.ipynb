{
 "cells": [
  {
   "cell_type": "markdown",
   "metadata": {},
   "source": [
    "# Questions/Topics"
   ]
  },
  {
   "cell_type": "markdown",
   "metadata": {},
   "source": [
    "## 1 Variational Algorithms"
   ]
  },
  {
   "cell_type": "markdown",
   "metadata": {},
   "source": [
    "## 2 Reference States"
   ]
  },
  {
   "cell_type": "markdown",
   "metadata": {},
   "source": [
    "<font color=\"red\">Question: </font>Quantum Chemistry - I thought that one of the successes of quantum mechanics was its ability to predict the energy levels (eigenvalues) of any quantum system containing one or more particles. So why do we need a variational algorithm to find the exact ground state? I thought the point was that we knew what the theoretical lowest energy was and we were interesting in finding a unitary operator (variational form) that would transform a given input into the lowest energy or a value closest to our theoretical lower bounds as possible?\n",
    "\n",
    "<font color=\"blue\">Answer: </font>The issue is that QM gives rise to problems that are intractable for large system. For simple systems, such as a hydrogen atom, we have been able to (classically) solve for energy levels but there's no quantum advantage for the small systems. Thus, the only advantage lies in large/complex systems (100s of molecules). The challenge though is being able to map a system and its configuration of atoms/molecules  to a series of qubit gates/interations. However, there's currently no formulaic way to do this."
   ]
  },
  {
   "cell_type": "markdown",
   "metadata": {},
   "source": [
    "<font color=\"red\">Question: </font>Quantum Machine Learning - Is there a way to encode _all_ the data together such that a circuit will transform all inputs at the same time? This is similar to how Grover's, Deutch-Jozsa, Shor's algorithms worked. The above seems like you have to run the circuit one per datapoint instead.\n",
    "\n",
    "<font color=\"blue\">Answer: </font>This was answered in the next course (Quantum Machine Learning - Data Encoding) where 4 different encoding techniques were shown. Some of those methods encode all the datapoints at once (basis encoding and amplitude encoding) while other methods only encoded 1 datapoint at a time (angle encoding and arbitrary encoding)."
   ]
  },
  {
   "cell_type": "markdown",
   "metadata": {},
   "source": [
    "## 3 Ansatz and Variational Forms"
   ]
  },
  {
   "cell_type": "markdown",
   "metadata": {},
   "source": [
    "<font color=\"red\">Question: </font>Considering that quantum mechanics is entirely linear with linear transformations, how does this setup include any non-linearity other than at the very end with a measurement? It seems like this maybe just is a linear transformation (albeit, a complicated one)?\n",
    "\n",
    "<font color=\"blue\">Answer: </font>The video here: https://www.youtube.com/watch?v=m6EzmYsEOiI&list=PPSV shows a proof that the VQC is a linear classifier but in the quantum space. But practically, I have only seen non-linearity introduced by measurement. Sometimes this is done at the end of the circuit for a whole set of parameters where the unitary operator is some $W(\\theta)$ and sometimes its done much more frequently, such as for each neuron in a QNN."
   ]
  },
  {
   "cell_type": "markdown",
   "metadata": {},
   "source": [
    "## 4 Cost Functions"
   ]
  },
  {
   "cell_type": "markdown",
   "metadata": {},
   "source": [
    "<font color=\"red\">Question: </font> Primitives - How is this eigenvalue actually measured? For instance, given the X operator, we know our eigenstates are plus and minus and their respective eigenvalues are +1 and -1. But if we were to actually measure this state, how would we distinguish between the plus and minus states to get their eigenvalues? I know we could apply the Hadamard to get it back to a definite up or down state, but is there any way to measure the eigenvalue of the plus/minus state _without_ altering it, such as the case where you wouldn't exactly know what arbitrary state you might have but just want to measure it?\n",
    "\n",
    "<font color=\"blue\">Answer: </font> We can only measure in the Z/computational basis in which the qubit is found in either state $\\ket{0}$ or $\\ket{1}$ which belongs to the +1 eigenspace and the -1 eigenspace respectively. If the Hamiltonian/cost function has any other non-Z terms, we must simply rotate the system to put it into the compuational basis and then we measure. For X-terms, this is simply applying a Hadamard and then measuring and for Y-terms, this is requires the $S^{\\dagger}H$ gates. Reference: https://quantumcomputing.stackexchange.com/questions/16608/vqe-how-to-get-from-expectation-value-to-eigenvalue\n",
    "\n",
    "So to answer whhether we can measure the eignevalue without altering it, the answer is we can only measure in the Z/computational basis without any altering. If we want to measure in any other basis, we must \"alter\" or rotate our system accordingly and then measure. So while we may know that we have a plus (minus) state, in the Z-basis this will have an expectation value of 0 but in the X basis, this will have an expectation value of +1."
   ]
  },
  {
   "cell_type": "markdown",
   "metadata": {},
   "source": [
    "## 5 Optimization Loops"
   ]
  },
  {
   "cell_type": "markdown",
   "metadata": {},
   "source": [
    "## 6 Instances and Extensions"
   ]
  },
  {
   "cell_type": "markdown",
   "metadata": {},
   "source": [
    "## 7 Examples and Applications"
   ]
  },
  {
   "cell_type": "markdown",
   "metadata": {},
   "source": [
    "* Write down why I think there are differences in Shor's algorithm with some of the QML approaches:\n",
    "- QML optimizes for a subset of training data points\n",
    "- doesn't operate on all the datapoints at once\n",
    "- less algorithmic? idk \n",
    "\n",
    "All successful quantum algorithms use generate all superpositions then do stuff then QFT...some transformations + FT. But QML doesn't...so this is another difference.\n",
    "\n",
    "Can we describe a general framework for solving any of these problems? relate ML and quantum circuits. Explain ML or optimization problems in that framework."
   ]
  }
 ],
 "metadata": {
  "language_info": {
   "name": "python"
  },
  "orig_nbformat": 4
 },
 "nbformat": 4,
 "nbformat_minor": 2
}
