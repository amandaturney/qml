{
 "cells": [
  {
   "cell_type": "markdown",
   "metadata": {},
   "source": [
    "# Questions/Topics"
   ]
  },
  {
   "cell_type": "markdown",
   "metadata": {},
   "source": [
    "## 1 Variational Algorithms"
   ]
  },
  {
   "cell_type": "markdown",
   "metadata": {},
   "source": [
    "## 2 Reference States"
   ]
  },
  {
   "cell_type": "markdown",
   "metadata": {},
   "source": [
    "<font color=\"red\">Question: </font>Quantum Chemistry - I thought that one of the successes of quantum mechanics was its ability to predict the energy levels (eigenvalues) of any quantum system containing one or more particles. So why do we need a variational algorithm to find the exact ground state? I thought the point was that we knew what the theoretical lowest energy was and we were interesting in finding a unitary operator (variational form) that would transform a given input into the lowest energy or a value closest to our theoretical lower bounds as possible?\n",
    "\n",
    "<font color=\"red\">Question: </font>Quantum Machine Learning - Is there a way to encode _all_ the data together such that a circuit will transform all inputs at the same time? This is similar to how Grover's, Deutch-Jozsa, Shor's algorithms worked. The above seems like you have to run the circuit one per datapoint instead."
   ]
  },
  {
   "cell_type": "markdown",
   "metadata": {},
   "source": [
    "## 3 Ansatz and Variational Forms"
   ]
  },
  {
   "cell_type": "markdown",
   "metadata": {},
   "source": [
    "<font color=\"red\">Question: </font>Considering that quantum mechanics is entirely linear with linear transformations, how does this setup include any non-linearity other than at the very end with a measurement? It seems like this maybe just is a linear transformation (albeit, a complicated one)?"
   ]
  },
  {
   "cell_type": "markdown",
   "metadata": {},
   "source": [
    "## 4 Cost Functions"
   ]
  },
  {
   "cell_type": "markdown",
   "metadata": {},
   "source": [
    "<font color=\"red\">Question: </font> Primitives - How is this eigenvalue actually measured? For instance, given the X operator, we know our eigenstates are plus and minus and their respective eigenvalues are +1 and -1. But if we were to actually measure this state, how would we distinguish between the plus and minus states to get their eigenvalues? I know we could apply the Hadamard to get it back to a definite up or down state, but is there any way to measure the eigenvalue of the plus/minus state _without_ altering it, such as the case where you wouldn't exactly know what arbitrary state you might have but just want to measure it?"
   ]
  },
  {
   "cell_type": "markdown",
   "metadata": {},
   "source": [
    "## 5 Optimization Loops"
   ]
  },
  {
   "cell_type": "markdown",
   "metadata": {},
   "source": [
    "## 6 Instances and Extensions"
   ]
  },
  {
   "cell_type": "markdown",
   "metadata": {},
   "source": [
    "## 7 Examples and Applications"
   ]
  }
 ],
 "metadata": {
  "language_info": {
   "name": "python"
  },
  "orig_nbformat": 4
 },
 "nbformat": 4,
 "nbformat_minor": 2
}
