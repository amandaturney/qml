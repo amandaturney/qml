{
 "cells": [
  {
   "cell_type": "markdown",
   "metadata": {},
   "source": [
    "# Variational Algorithms"
   ]
  },
  {
   "cell_type": "markdown",
   "metadata": {},
   "source": [
    "https://learn.qiskit.org/course/algorithm-design/variational"
   ]
  },
  {
   "cell_type": "markdown",
   "metadata": {},
   "source": [
    "## Simplified hybrid workflow"
   ]
  },
  {
   "cell_type": "markdown",
   "metadata": {},
   "source": [
    "A variational algorithm has several modular components, listed below:\n",
    "\n",
    "* Cost Function: a mathematical description of the specific problem defined by a set of parameters\n",
    "* Ansatz: the search space, defined as a subset of the total space constrained by parameters\n",
    "* Optimizer: helps the algorithm iteratively explore the search space by evaluating the cost function with current parameters and selects next iteration's set of parameters with goal of converging on optimal solution\n",
    "\n",
    "The hybrid nature of these type of algorithms are due to the fact that the cost functions are evaluated on quantum resources while the optimization is done by classical computing.\n",
    "\n",
    "The workflow for a variational algorithm follows the following steps:\n",
    "\n",
    "1. <b>Initialize problem.</b> The quantum computer starts in a _default state_ $\\ket{0}$ and is transformed into some desired, non-parameterized state $\\ket{\\rho}$ called the _reference state_. This transformation is represented as $U_R\\ket{0} = \\ket{\\rho}$.\n",
    "\n",
    "2. <b>Prepare ansatz.</b> Next, we will build a variational form, $U_V(\\theta)$ which is basically a circuit that is tunable. This means we have some sort of template circuit which defines all the gates on each qubit(s) but the actual value for each gate's rotation or phase is parameterized. Thus, a set of parameters defines a specific instance of that circuit. Then, the range of values for each parameter defines the entire search space that the variational form could transform the reference state. \n",
    "\n",
    "3. <b>Evaluate cost function.</b> The cost function, $C(\\theta)$, can be encoded as a linear combination of Pauli operators.\n",
    "\n",
    "4. <b>Optimize parameters.</b> The evaluations of the cost function are analyzed by a classical optimizer which chooses the next set of values for the variational parameters. If there exists a pre-existing optimal solution, it can be set as the initial point of $\\theta_0$ to _bootstrap_the optimiztion and hopefully find a valid solution faster.\n",
    "\n",
    "5. <b>Adjust ansatz parameters with results, and re-run.</b> Rebuild the quantum circuit with the updated parameters for the variational form and rerun the circuit to get the cost function evaluation. That value is then optimized again by the classical optimizer and the process repeats until convergence/termination criteria is met."
   ]
  },
  {
   "cell_type": "markdown",
   "metadata": {},
   "source": [
    "## Variational theorem"
   ]
  },
  {
   "cell_type": "markdown",
   "metadata": {},
   "source": [
    "A common goal of variational algorithms is to find the quantum state with the lowest (or highest) eigenvalue of a certain observable. "
   ]
  },
  {
   "cell_type": "markdown",
   "metadata": {},
   "source": [
    "### Mathematical intuition for energy and ground states"
   ]
  },
  {
   "cell_type": "markdown",
   "metadata": {},
   "source": [
    "The energy of a quantum system is described by the Hamiltonian, which comes in the form of a quantum observable/operator. We can first represent it in its spectral decomposition form:\n",
    "\n",
    "$\\hat{H} = \\Sigma \\lambda_k\\ket{\\phi_k}\\bra{\\phi_k}$\n",
    "\n",
    "from k=0 to N - 1 where N is the dimensionality of the space of states, $\\lambda_k$ is the k-th eigenvalue (or k-th energy level), and $\\ket{\\phi_k}$ is the corresponding eigenstate such that $\\hat{H}\\ket{\\phi_k} = \\lambda_k\\ket{phi_k}$. The expectant energy of a system will thus be:\n",
    "\n",
    "$\\bra{\\psi}\\hat{H}\\ket{\\psi} = \\bra{\\psi} (\\Sigma \\lambda_k \\ket{\\phi_k}\\bra{\\phi_k}) \\ket{\\psi}$ <br>\n",
    "$\\bra{\\psi}\\hat{H}\\ket{\\psi} = \\Sigma \\lambda_k \\bra{\\psi}\\ket{\\phi_k}\\bra{\\phi_k}\\ket{\\psi}$ <br>\n",
    "$\\bra{\\psi}\\hat{H}\\ket{\\psi} = \\Sigma \\lambda_k |\\bra{\\psi}\\ket{\\phi_k}|^2$\n"
   ]
  },
  {
   "cell_type": "markdown",
   "metadata": {},
   "source": [
    "The set of ${\\ket{\\phi}}$ form an orthonormal basis, so in the above, we can see that the $|\\bra{\\psi}\\ket{\\phi_k}|^2$ part is just the probability of observing $\\ket{\\psi}$ in state $\\ket{\\phi_k}$. The sum of probabilities for each of the k-th states will be 1. So when we look at the equation above again and now factor in the $\\lambda_k$, we see that is simply a weighted average of all the eigenvalues; aka the expected energy value. Furthermore, because the eigenvalues are ordered such that $\\lambda_k < \\lambda_{k+1}$, we can state the following:\n",
    "\n",
    "$\\bra{\\psi}\\hat{H}\\ket{\\psi} \\ge \\lambda_0$\n",
    "\n",
    "which means that the expectation value for the energy of a system is always higher than or equal to the lowest or _ground_ state energy. Now this holds for _any_ state $\\ket{\\psi}$ so we can just swap in our parameterized state, $\\ket{\\psi(\\theta)}$ which was the result of our reference state being run through the parameterized variational form circuit. If we then consider the expectation value of the energy for that state as our cost function, then we can aim to minimize it. \n",
    "\n",
    "The minimum value of the cost function, $C(\\theta)$, will be the closest one can get to $\\lambda_0$ using the parameterized states $\\ket{\\psi(\\theta)}$ and equality will only ever be achieved if there exists a $\\theta$ that transforms the state exactly into the 0th eigenvector."
   ]
  },
  {
   "cell_type": "markdown",
   "metadata": {},
   "source": [
    "### Variational theorem of Quantum Mechanics"
   ]
  },
  {
   "cell_type": "markdown",
   "metadata": {},
   "source": [
    "For a state, $\\ket{\\psi}$ that depends on a parameter vector $\\theta$, the optimal approximatation of the ground state is the one that minimizes the expectation value of the Hamiltoninan. The reason why the variational theorem is stated in terms of energy _minima_ is because 1) a finite lower bound to energy always exists and 2) upper bounds of energy generally do not exist.\n",
    "\n",
    "But there is nothing special beyond these assumptions so the theorem can be generalized to other observables so long as they have these same constraints. "
   ]
  }
 ],
 "metadata": {
  "language_info": {
   "name": "python"
  },
  "orig_nbformat": 4
 },
 "nbformat": 4,
 "nbformat_minor": 2
}
