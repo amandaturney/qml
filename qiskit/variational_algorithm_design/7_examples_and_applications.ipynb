{
 "cells": [
  {
   "cell_type": "markdown",
   "metadata": {},
   "source": [
    "# Examples and Applications"
   ]
  },
  {
   "cell_type": "markdown",
   "metadata": {},
   "source": [
    "Below are notes from each section of the qiskit course documentation found on this page: https://learn.qiskit.org/course/algorithm-design/applications"
   ]
  },
  {
   "cell_type": "markdown",
   "metadata": {},
   "source": [
    "## Problem definitions"
   ]
  },
  {
   "cell_type": "markdown",
   "metadata": {},
   "source": [
    "Imagine we have the following observable that we want to find the eigenvalue of:\n",
    "\n",
    "$\\hat{O_1} = 2II - 2XX + 3YY - 3ZZ$\n",
    "\n",
    "This observable has the following eigenvalues: {$\\lambda_0 = -6, \\lambda_1 = 4, \\lambda_2 = 4, \\lambda_3 = 6$} and eigenstates: {$\\ket{\\phi_0} = \\frac{1}{\\sqrt{2}}(\\ket{00} + \\ket{11}), \\ket{\\phi_1} = \\frac{1}{\\sqrt{2}}(\\ket{00} - \\ket{11}), \\ket{\\phi_2} = \\frac{1}{\\sqrt{2}}(\\ket{01} - \\ket{10}), \\ket{\\phi_3} = \\frac{1}{\\sqrt{2}}(\\ket{01} + \\ket{10})$}."
   ]
  },
  {
   "cell_type": "code",
   "execution_count": 1,
   "metadata": {},
   "outputs": [],
   "source": [
    "from qiskit.quantum_info import SparsePauliOp\n",
    "\n",
    "observable = SparsePauliOp.from_list([(\"II\", 2), (\"XX\", -2), (\"YY\", 3), (\"ZZ\", -3)])"
   ]
  },
  {
   "cell_type": "markdown",
   "metadata": {},
   "source": [
    "## Custom VQE"
   ]
  },
  {
   "cell_type": "markdown",
   "metadata": {},
   "source": [
    "Below is how you could find the solution using a custom VQE."
   ]
  },
  {
   "cell_type": "code",
   "execution_count": null,
   "metadata": {},
   "outputs": [],
   "source": [
    "from qiskit.circuit.library import TwoLocal\n",
    "from qiskit.quantum_info import SparsePauliOp\n",
    "from qiskit import QuantumCircuit\n",
    "from qiskit_ibm_runtime import QiskitRuntimeService, Estimator\n",
    "import numpy as np\n",
    "\n",
    "# Add your token below\n",
    "service = QiskitRuntimeService(\n",
    "    channel=\"ibm_quantum\",\n",
    ")\n",
    "\n",
    "def cost_function_vqe(theta):\n",
    "    observable = SparsePauliOp.from_list([(\"II\", 2), (\"XX\", -2), (\"YY\", 3), (\"ZZ\", -3)])\n",
    "    reference_circuit = QuantumCircuit(2)\n",
    "    reference_circuit.x(0)\n",
    "\n",
    "    variational_form = TwoLocal(\n",
    "        2,\n",
    "        rotation_blocks=[\"rz\", \"ry\"],\n",
    "        entanglement_blocks=\"cx\",\n",
    "        entanglement=\"linear\",\n",
    "        reps=1,\n",
    "    )\n",
    "    ansatz = reference_circuit.compose(variational_form)\n",
    "\n",
    "    backend = service.backend(\"ibmq_qasm_simulator\")\n",
    "    \n",
    "    # Use estimator to get the expected values corresponding to each ansatz\n",
    "    estimator = Estimator(session=backend)\n",
    "    job = estimator.run(ansatz, observable, theta)\n",
    "    values = job.result().values\n",
    "\n",
    "    return values"
   ]
  },
  {
   "cell_type": "code",
   "execution_count": null,
   "metadata": {},
   "outputs": [],
   "source": [
    "from qiskit.algorithms.optimizers import COBYLA\n",
    "\n",
    "initial_theta = np.ones(8)\n",
    "optimizer = COBYLA()\n",
    "\n",
    "optimizer_result = optimizer.minimize(fun=cost_function_vqe, x0=initial_theta)\n",
    "\n",
    "optimal_parameters = optimizer_result.x\n",
    "print(optimal_parameters)"
   ]
  },
  {
   "cell_type": "markdown",
   "metadata": {},
   "source": [
    "Now we can use those optimal parameters to calculate the minimum eigenvalues."
   ]
  },
  {
   "cell_type": "code",
   "execution_count": null,
   "metadata": {},
   "outputs": [],
   "source": [
    "observable = SparsePauliOp.from_list([(\"II\", 2), (\"XX\", -2), (\"YY\", 3), (\"ZZ\", -3)])\n",
    "reference_circuit = QuantumCircuit(2)\n",
    "reference_circuit.x(0)\n",
    "\n",
    "variational_form = TwoLocal(\n",
    "    2,\n",
    "    rotation_blocks=[\"rz\", \"ry\"],\n",
    "    entanglement_blocks=\"cx\",\n",
    "    entanglement=\"linear\",\n",
    "    reps=1,\n",
    ")\n",
    "ansatz = reference_circuit.compose(variational_form)\n",
    "solution = ansatz.bind_parameters(optimal_parameters)\n",
    "\n",
    "backend = service.backend(\"ibmq_qasm_simulator\")\n",
    "estimator = Estimator(session=backend)\n",
    "job = estimator.run(solution, observable)\n",
    "values = job.result().values\n",
    "\n",
    "experimental_min_eigenvalue = values[0]\n",
    "print(experimental_min_eigenvalue)"
   ]
  },
  {
   "cell_type": "code",
   "execution_count": null,
   "metadata": {},
   "outputs": [],
   "source": [
    "from numpy.linalg import eigvalsh\n",
    "\n",
    "solution_eigenvalue = min(eigvalsh(observable.to_matrix()))\n",
    "print(\n",
    "    f\"Percent error: {abs((experimental_min_eigenvalue - solution_eigenvalue)/solution_eigenvalue):.2e}\"\n",
    ")"
   ]
  },
  {
   "cell_type": "markdown",
   "metadata": {},
   "source": [
    "## Configuring Qiskit's VQE"
   ]
  },
  {
   "cell_type": "markdown",
   "metadata": {},
   "source": [
    "Qiskit's VQE class can also be used instead."
   ]
  },
  {
   "cell_type": "code",
   "execution_count": null,
   "metadata": {},
   "outputs": [],
   "source": [
    "from qiskit.primitives import Estimator\n",
    "from qiskit.algorithms.optimizers import SLSQP\n",
    "from qiskit.algorithms.minimum_eigensolvers import VQE\n",
    "import numpy as np\n",
    "\n",
    "estimator = Estimator()\n",
    "optimizer = SLSQP()\n",
    "ansatz = TwoLocal(\n",
    "    2,\n",
    "    rotation_blocks=[\"rz\", \"ry\"],\n",
    "    entanglement_blocks=\"cx\",\n",
    "    entanglement=\"linear\",\n",
    "    reps=1,\n",
    ")\n",
    "\n",
    "vqe = VQE(estimator, ansatz, optimizer, initial_point=np.ones(8))\n",
    "\n",
    "result = vqe.compute_minimum_eigenvalue(observable)\n",
    "print(result)\n",
    "\n",
    "print(result.optimizer_result)"
   ]
  },
  {
   "cell_type": "markdown",
   "metadata": {},
   "source": [
    "The eignevalue can also be compared with the theoretical."
   ]
  },
  {
   "cell_type": "code",
   "execution_count": null,
   "metadata": {},
   "outputs": [],
   "source": [
    "from numpy.linalg import eigvalsh\n",
    "\n",
    "eigenvalues = eigvalsh(observable.to_matrix())\n",
    "min_eigenvalue = eigenvalues[0]\n",
    "\n",
    "print(\"EIGENVALUES:\")\n",
    "print(f\"  - Theoretical: {min_eigenvalue}.\")\n",
    "print(f\"  - VQE: {result.eigenvalue}\")\n",
    "print(\n",
    "    f\"Percent error >> {abs((result.eigenvalue - min_eigenvalue)/min_eigenvalue):.2e}\"\n",
    ")"
   ]
  },
  {
   "cell_type": "markdown",
   "metadata": {},
   "source": [
    "### Add reference state"
   ]
  },
  {
   "cell_type": "markdown",
   "metadata": {},
   "source": [
    "We didn't use a reference operator above. Let's consider the following circuit:"
   ]
  },
  {
   "cell_type": "code",
   "execution_count": 3,
   "metadata": {},
   "outputs": [
    {
     "data": {
      "image/png": "[encoded data removed]",
      "text/plain": [
       "<Figure size 287.294x200.667 with 1 Axes>"
      ]
     },
     "execution_count": 3,
     "metadata": {},
     "output_type": "execute_result"
    }
   ],
   "source": [
    "from qiskit import QuantumCircuit\n",
    "\n",
    "ideal_qc = QuantumCircuit(2)\n",
    "ideal_qc.h(0)\n",
    "ideal_qc.cx(0, 1)\n",
    "\n",
    "ideal_qc.draw(\"mpl\")"
   ]
  },
  {
   "cell_type": "code",
   "execution_count": 6,
   "metadata": {},
   "outputs": [
    {
     "data": {
      "text/latex": [
       "$$\\frac{\\sqrt{2}}{2} |00\\rangle+\\frac{\\sqrt{2}}{2} |11\\rangle$$"
      ],
      "text/plain": [
       "<IPython.core.display.Latex object>"
      ]
     },
     "execution_count": 6,
     "metadata": {},
     "output_type": "execute_result"
    }
   ],
   "source": [
    "from qiskit.quantum_info import Statevector\n",
    "\n",
    "Statevector(ideal_qc).draw('latex')"
   ]
  },
  {
   "cell_type": "markdown",
   "metadata": {},
   "source": [
    "This gives us our desired state so we can use a Hadamard gate as our reference circuit to get a better initial reference state."
   ]
  },
  {
   "cell_type": "code",
   "execution_count": 9,
   "metadata": {},
   "outputs": [
    {
     "data": {
      "image/png": "[encoded data removed]",
      "text/plain": [
       "<Figure size 705.35x200.667 with 1 Axes>"
      ]
     },
     "execution_count": 9,
     "metadata": {},
     "output_type": "execute_result"
    }
   ],
   "source": [
    "from qiskit.circuit.library import TwoLocal\n",
    "\n",
    "reference = QuantumCircuit(2)\n",
    "reference.h(0)\n",
    "# Include barrier to separate reference from variational form\n",
    "reference.barrier()\n",
    "\n",
    "ansatz = TwoLocal(\n",
    "    2,\n",
    "    rotation_blocks=[\"rz\", \"ry\"],\n",
    "    entanglement_blocks=\"cx\",\n",
    "    entanglement=\"linear\",\n",
    "    reps=1,\n",
    ")\n",
    "ref_ansatz = ansatz.decompose().compose(reference, front=True)\n",
    "\n",
    "ref_ansatz.draw(\"mpl\")"
   ]
  },
  {
   "cell_type": "markdown",
   "metadata": {},
   "source": [
    "### Change initial point"
   ]
  },
  {
   "cell_type": "markdown",
   "metadata": {},
   "source": [
    "We can also change the initial point to see what happens to our algorithm. When starting with an ideal solution, it should give fewer evaluations, iterations, and time."
   ]
  },
  {
   "cell_type": "markdown",
   "metadata": {},
   "source": [
    "## VQD example"
   ]
  },
  {
   "cell_type": "markdown",
   "metadata": {},
   "source": [
    "The VQD can be used to find all 4 eigenvalues instead of just the lowest. The coefficients of penalty can be passed to the circuit as shown below. For this observable, we expect the following eigenvalues: -7, 3, 5, 7."
   ]
  },
  {
   "cell_type": "code",
   "execution_count": 11,
   "metadata": {},
   "outputs": [
    {
     "name": "stdout",
     "output_type": "stream",
     "text": [
      "{   'aux_operators_evaluated': None,\n",
      "    'cost_function_evals': array([ 143,  146, 1000,  131]),\n",
      "    'eigenvalues': array([-6.99999998+0.j,  3.00000003+0.j,  5.21541851+0.j,  6.789921  +0.j]),\n",
      "    'optimal_circuits': [   <qiskit.circuit.library.n_local.two_local.TwoLocal object at 0x7fdfcc1362b0>,\n",
      "                            <qiskit.circuit.library.n_local.two_local.TwoLocal object at 0x7fdfcc326790>,\n",
      "                            <qiskit.circuit.library.n_local.two_local.TwoLocal object at 0x7fdfcc326ee0>,\n",
      "                            <qiskit.circuit.library.n_local.two_local.TwoLocal object at 0x7fdfcc29be80>],\n",
      "    'optimal_parameters': [   {   ParameterVectorElement(θ[0]): -4.216421215476956,\n",
      "                                  ParameterVectorElement(θ[5]): 2.4259828797431626,\n",
      "                                  ParameterVectorElement(θ[7]): -2.765198431207107,\n",
      "                                  ParameterVectorElement(θ[6]): 0.37632565980553834,\n",
      "                                  ParameterVectorElement(θ[4]): 5.56756442130925,\n",
      "                                  ParameterVectorElement(θ[3]): 3.1416172279298085,\n",
      "                                  ParameterVectorElement(θ[2]): 1.57074963263764,\n",
      "                                  ParameterVectorElement(θ[1]): -6.2915150385526175},\n",
      "                              {   ParameterVectorElement(θ[0]): -2.685157818411371,\n",
      "                                  ParameterVectorElement(θ[5]): 1.6676384921564655,\n",
      "                                  ParameterVectorElement(θ[7]): -1.4861480886284166,\n",
      "                                  ParameterVectorElement(θ[6]): -1.6554342931704162,\n",
      "                                  ParameterVectorElement(θ[4]): 4.809228197666993,\n",
      "                                  ParameterVectorElement(θ[3]): 3.1416137774362185,\n",
      "                                  ParameterVectorElement(θ[2]): 4.712517385209127,\n",
      "                                  ParameterVectorElement(θ[1]): -6.300346979799215},\n",
      "                              {   ParameterVectorElement(θ[0]): -2.782891056486223,\n",
      "                                  ParameterVectorElement(θ[5]): 3.268412626778788,\n",
      "                                  ParameterVectorElement(θ[7]): -0.368547650346468,\n",
      "                                  ParameterVectorElement(θ[6]): 0.2982306297185432,\n",
      "                                  ParameterVectorElement(θ[4]): 3.3499222732787524,\n",
      "                                  ParameterVectorElement(θ[3]): 3.356470912718704,\n",
      "                                  ParameterVectorElement(θ[2]): 2.173997130623569,\n",
      "                                  ParameterVectorElement(θ[1]): -5.48019248514153},\n",
      "                              {   ParameterVectorElement(θ[0]): -2.3991173723494237,\n",
      "                                  ParameterVectorElement(θ[5]): 1.377533465386167,\n",
      "                                  ParameterVectorElement(θ[7]): 0.00013257568781155124,\n",
      "                                  ParameterVectorElement(θ[6]): 0.00020905075610350304,\n",
      "                                  ParameterVectorElement(θ[4]): 4.606997741021118,\n",
      "                                  ParameterVectorElement(θ[3]): 3.142062039117134,\n",
      "                                  ParameterVectorElement(θ[2]): 0.8942296073585395,\n",
      "                                  ParameterVectorElement(θ[1]): -6.687165564808183}],\n",
      "    'optimal_points': array([[-4.21642122e+00, -6.29151504e+00,  1.57074963e+00,\n",
      "         3.14161723e+00,  5.56756442e+00,  2.42598288e+00,\n",
      "         3.76325660e-01, -2.76519843e+00],\n",
      "       [-2.68515782e+00, -6.30034698e+00,  4.71251739e+00,\n",
      "         3.14161378e+00,  4.80922820e+00,  1.66763849e+00,\n",
      "        -1.65543429e+00, -1.48614809e+00],\n",
      "       [-2.78289106e+00, -5.48019249e+00,  2.17399713e+00,\n",
      "         3.35647091e+00,  3.34992227e+00,  3.26841263e+00,\n",
      "         2.98230630e-01, -3.68547650e-01],\n",
      "       [-2.39911737e+00, -6.68716556e+00,  8.94229607e-01,\n",
      "         3.14206204e+00,  4.60699774e+00,  1.37753347e+00,\n",
      "         2.09050756e-04,  1.32575688e-04]]),\n",
      "    'optimal_values': array([-6.99999998,  3.00000003,  5.21541851,  6.789921  ]),\n",
      "    'optimizer_results': [   <qiskit.algorithms.optimizers.optimizer.OptimizerResult object at 0x7fdfca3e6d00>,\n",
      "                             <qiskit.algorithms.optimizers.optimizer.OptimizerResult object at 0x7fdfca5823a0>,\n",
      "                             <qiskit.algorithms.optimizers.optimizer.OptimizerResult object at 0x7fdfca3e6250>,\n",
      "                             <qiskit.algorithms.optimizers.optimizer.OptimizerResult object at 0x7fdfca3f1550>],\n",
      "    'optimizer_times': array([ 0.464854  ,  1.12557626, 10.65282202,  1.78842592])}\n"
     ]
    }
   ],
   "source": [
    "from qiskit.primitives import Estimator\n",
    "from qiskit.primitives import Sampler\n",
    "from qiskit.algorithms.optimizers import COBYLA\n",
    "from qiskit.algorithms.state_fidelities import ComputeUncompute\n",
    "from qiskit.algorithms.eigensolvers import VQD\n",
    "\n",
    "optimizer = COBYLA()\n",
    "sampler = Sampler()\n",
    "estimator = Estimator()\n",
    "fidelity = ComputeUncompute(sampler)\n",
    "\n",
    "k = 4\n",
    "betas = [40, 60, 30, 30]\n",
    "\n",
    "vqd = VQD(estimator, fidelity, ansatz, optimizer, k=k, betas=betas)\n",
    "\n",
    "observable_2 = SparsePauliOp.from_list([(\"II\", 2), (\"XX\", -3), (\"YY\", 2), (\"ZZ\", -4)])\n",
    "\n",
    "result = vqd.compute_eigenvalues(observable_2)\n",
    "print(result)"
   ]
  },
  {
   "cell_type": "markdown",
   "metadata": {},
   "source": [
    "### Change betas"
   ]
  },
  {
   "cell_type": "markdown",
   "metadata": {},
   "source": [
    "A requirement of the VQD is that the values of $\\Beta$ should be bigger than the difference between the eigenvalues. The qiskit notebook shows what happens when they do not satisfy that condition. Essentially, if the penalization term is not big enough, it won't minimize the eigenstate in the successive cost functions so it returns the same state, $\\ket{\\phi_0}$ for all k's.\n",
    "\n",
    "<font color=\"red\">Question: </font>If you are using the QVD to _find_ the eigenvalues, then how would you know what the minimum values for $\\beta$ should be? I guess this is something you just have to experiment with."
   ]
  },
  {
   "cell_type": "markdown",
   "metadata": {},
   "source": [
    "## Quantum Chemistry: Ground State & Excited Energy Solver"
   ]
  },
  {
   "cell_type": "code",
   "execution_count": null,
   "metadata": {},
   "outputs": [],
   "source": [
    "from qiskit_nature.units import DistanceUnit\n",
    "from qiskit_nature.second_q.drivers import PySCFDriver\n",
    "from qiskit_nature.second_q.circuit.library import HartreeFock, UCC\n",
    "from qiskit_nature.second_q.mappers import JordanWignerMapper\n",
    "from qiskit.quantum_info import SparsePauliOp\n",
    "\n",
    "H2_op = SparsePauliOp.from_list(\n",
    "    [\n",
    "        (\"II\", -1.052373245772859),\n",
    "        (\"IZ\", 0.39793742484318045),\n",
    "        (\"ZI\", -0.39793742484318045),\n",
    "        (\"ZZ\", -0.01128010425623538),\n",
    "        (\"XX\", 0.18093119978423156),\n",
    "    ]\n",
    ")\n",
    "\n",
    "driver = PySCFDriver(\n",
    "    atom=\"H 0 0 0; H 0 0 0.735\",\n",
    "    basis=\"sto3g\",\n",
    "    charge=0,\n",
    "    spin=0,\n",
    "    unit=DistanceUnit.ANGSTROM,\n",
    ")\n",
    "\n",
    "h2_problem = driver.run()\n",
    "\n",
    "mapper = JordanWignerMapper()\n",
    "\n",
    "h2_reference_state = HartreeFock(\n",
    "    num_spatial_orbitals=h2_problem.num_spatial_orbitals,\n",
    "    num_particles=h2_problem.num_particles,\n",
    "    qubit_mapper=mapper,\n",
    ")\n",
    "\n",
    "ansatz = UCC(\n",
    "    num_spatial_orbitals=h2_problem.num_spatial_orbitals,\n",
    "    num_particles=h2_problem.num_particles,\n",
    "    qubit_mapper=mapper,\n",
    "    initial_state=h2_reference_state,\n",
    "    excitations=2,\n",
    ")\n",
    "\n",
    "ansatz.decompose().decompose().draw(\"mpl\")"
   ]
  },
  {
   "cell_type": "code",
   "execution_count": null,
   "metadata": {},
   "outputs": [],
   "source": [
    "from qiskit.algorithms.minimum_eigensolvers import VQE\n",
    "from qiskit.primitives import Sampler, Estimator\n",
    "from qiskit.algorithms.state_fidelities import ComputeUncompute\n",
    "from qiskit_nature.second_q.algorithms import GroundStateEigensolver\n",
    "\n",
    "estimator = Estimator()\n",
    "sampler = Sampler()\n",
    "fidelity = ComputeUncompute(sampler)\n",
    "\n",
    "vqe = VQE(\n",
    "    estimator=estimator,\n",
    "    ansatz=ansatz,\n",
    "    optimizer=optimizer,\n",
    "    initial_point=np.zeros(ansatz.num_parameters),\n",
    ")\n",
    "gse = GroundStateEigensolver(qubit_mapper=mapper, solver=vqe)\n",
    "result = gse.solve(h2_problem)\n",
    "\n",
    "print(result)"
   ]
  },
  {
   "cell_type": "code",
   "execution_count": null,
   "metadata": {},
   "outputs": [],
   "source": [
    "from qiskit.algorithms.eigensolvers import VQD\n",
    "\n",
    "h2_operators, _ = gse.get_qubit_operators(h2_problem)\n",
    "\n",
    "optimizer = COBYLA()\n",
    "sampler = Sampler()\n",
    "estimator = Estimator()\n",
    "fidelity = ComputeUncompute(sampler)\n",
    "\n",
    "k = 3\n",
    "betas = [33, 33, 33]\n",
    "\n",
    "vqd = VQD(\n",
    "    estimator=estimator,\n",
    "    ansatz=ansatz,\n",
    "    optimizer=optimizer,\n",
    "    fidelity=fidelity,\n",
    "    initial_point=np.zeros(ansatz.num_parameters),\n",
    "    k=k,\n",
    "    betas=betas,\n",
    ")\n",
    "result = vqd.compute_eigenvalues(operator=h2_operators)\n",
    "vqd_values = result.optimal_values\n",
    "print(vqd_values)"
   ]
  },
  {
   "cell_type": "markdown",
   "metadata": {},
   "source": [
    "## Optimization: Max-Cut"
   ]
  },
  {
   "cell_type": "markdown",
   "metadata": {},
   "source": [
    "The Max-Cut is the same as in the Cost Functions page under \"Example mapping to non-physical systems\"."
   ]
  },
  {
   "cell_type": "code",
   "execution_count": 12,
   "metadata": {},
   "outputs": [
    {
     "data": {
      "image/png": "[encoded data removed]",
      "text/plain": [
       "<Figure size 640x480 with 1 Axes>"
      ]
     },
     "metadata": {},
     "output_type": "display_data"
    }
   ],
   "source": [
    "import networkx as nx\n",
    "\n",
    "n = 4\n",
    "G = nx.Graph()\n",
    "G.add_nodes_from(range(n))\n",
    "edge_list = [(0, 1, 1.0), (0, 2, 1.0), (0, 3, 1.0), (1, 2, 1.0), (2, 3, 1.0)]\n",
    "G.add_weighted_edges_from(edge_list)\n",
    "\n",
    "colors = [\"red\" for i in range(n)]\n",
    "\n",
    "\n",
    "def draw_graph(G, colors):\n",
    "    \"\"\"Draws the graph with the chose colors\"\"\"\n",
    "    layout = nx.shell_layout(G)\n",
    "    nx.draw_networkx(G, node_color=colors, pos=layout)\n",
    "    edge_labels = nx.get_edge_attributes(G, \"weight\")\n",
    "    nx.draw_networkx_edge_labels(G, pos=layout, edge_labels=edge_labels)\n",
    "\n",
    "\n",
    "draw_graph(G, colors)"
   ]
  },
  {
   "cell_type": "code",
   "execution_count": 13,
   "metadata": {},
   "outputs": [
    {
     "name": "stdout",
     "output_type": "stream",
     "text": [
      "[[0. 1. 1. 1.]\n",
      " [1. 0. 1. 0.]\n",
      " [1. 1. 0. 1.]\n",
      " [1. 0. 1. 0.]]\n"
     ]
    }
   ],
   "source": [
    "w = nx.to_numpy_array(G)\n",
    "print(w)"
   ]
  },
  {
   "cell_type": "code",
   "execution_count": 14,
   "metadata": {},
   "outputs": [
    {
     "name": "stdout",
     "output_type": "stream",
     "text": [
      "Problem name: Max-cut\n",
      "\n",
      "Maximize\n",
      "  -2*x_0*x_1 - 2*x_0*x_2 - 2*x_0*x_3 - 2*x_1*x_2 - 2*x_2*x_3 + 3*x_0 + 2*x_1\n",
      "  + 3*x_2 + 2*x_3\n",
      "\n",
      "Subject to\n",
      "  No constraints\n",
      "\n",
      "  Binary variables (4)\n",
      "    x_0 x_1 x_2 x_3\n",
      "\n"
     ]
    }
   ],
   "source": [
    "from qiskit_optimization.applications import Maxcut\n",
    "\n",
    "max_cut = Maxcut(w)\n",
    "\n",
    "quadratic_program = max_cut.to_quadratic_program()\n",
    "print(quadratic_program.prettyprint())"
   ]
  },
  {
   "cell_type": "code",
   "execution_count": 15,
   "metadata": {},
   "outputs": [
    {
     "name": "stdout",
     "output_type": "stream",
     "text": [
      "Offset: -2.5\n",
      "Ising Hamiltonian:\n",
      "0.5 * IIZZ\n",
      "+ 0.5 * IZIZ\n",
      "+ 0.5 * IZZI\n",
      "+ 0.5 * ZIIZ\n",
      "+ 0.5 * ZZII\n"
     ]
    }
   ],
   "source": [
    "observable, offset = quadratic_program.to_ising()\n",
    "print(\"Offset:\", offset)\n",
    "print(\"Ising Hamiltonian:\")\n",
    "print(str(observable))"
   ]
  },
  {
   "cell_type": "code",
   "execution_count": 16,
   "metadata": {},
   "outputs": [
    {
     "name": "stdout",
     "output_type": "stream",
     "text": [
      "{   'aux_operators_evaluated': None,\n",
      "    'cost_function_evals': 132,\n",
      "    'eigenvalue': -1.4999999927846193,\n",
      "    'optimal_circuit': <qiskit.circuit.library.n_local.two_local.TwoLocal object at 0x7fdfada093a0>,\n",
      "    'optimal_parameters': {   ParameterVectorElement(θ[0]): -0.24520204107182722,\n",
      "                              ParameterVectorElement(θ[2]): -1.2597623076427074,\n",
      "                              ParameterVectorElement(θ[1]): 1.1324676715479791,\n",
      "                              ParameterVectorElement(θ[3]): 2.6381628610553904,\n",
      "                              ParameterVectorElement(θ[7]): 0.5034758180239107,\n",
      "                              ParameterVectorElement(θ[4]): 0.24517138147075115,\n",
      "                              ParameterVectorElement(θ[6]): 1.2597830920863473,\n",
      "                              ParameterVectorElement(θ[5]): 2.00901715618674},\n",
      "    'optimal_point': array([-0.24520204,  1.13246767, -1.25976231,  2.63816286,  0.24517138,\n",
      "        2.00901716,  1.25978309,  0.50347582]),\n",
      "    'optimal_value': -1.4999999927846193,\n",
      "    'optimizer_evals': None,\n",
      "    'optimizer_result': <qiskit.algorithms.optimizers.optimizer.OptimizerResult object at 0x7fdfada092e0>,\n",
      "    'optimizer_time': 0.4976818561553955}\n"
     ]
    }
   ],
   "source": [
    "from qiskit.primitives import Estimator\n",
    "from qiskit.algorithms.minimum_eigensolvers import VQE\n",
    "from qiskit.algorithms.optimizers import COBYLA\n",
    "from qiskit.circuit.library import TwoLocal\n",
    "import numpy as np\n",
    "\n",
    "ansatz = TwoLocal(observable.num_qubits, \"rx\", reps=1)\n",
    "optimizer = COBYLA()\n",
    "\n",
    "vqe = VQE(\n",
    "    estimator=Estimator(),\n",
    "    ansatz=ansatz,\n",
    "    optimizer=optimizer,\n",
    "    initial_point=np.zeros(ansatz.num_parameters),\n",
    ")\n",
    "\n",
    "result = vqe.compute_minimum_eigenvalue(observable)\n",
    "\n",
    "print(result)"
   ]
  },
  {
   "cell_type": "code",
   "execution_count": 17,
   "metadata": {},
   "outputs": [
    {
     "name": "stdout",
     "output_type": "stream",
     "text": [
      "energy: -1.4999999927846193\n",
      "time: 0.4976818561553955\n",
      "max-cut objective: -3.9999999927846193\n",
      "solution: [0. 1. 0. 1.]\n",
      "solution objective: 4.0\n"
     ]
    },
    {
     "data": {
      "image/png": "[encoded data removed]",
      "text/plain": [
       "<Figure size 640x480 with 1 Axes>"
      ]
     },
     "metadata": {},
     "output_type": "display_data"
    }
   ],
   "source": [
    "from qiskit.quantum_info import Statevector\n",
    "\n",
    "optimal_circuit = result.optimal_circuit.bind_parameters(result.optimal_parameters)\n",
    "\n",
    "x = max_cut.sample_most_likely(Statevector(optimal_circuit))\n",
    "print(\"energy:\", result.eigenvalue.real)\n",
    "print(\"time:\", result.optimizer_time)\n",
    "print(\"max-cut objective:\", result.eigenvalue.real + offset)\n",
    "print(\"solution:\", x)\n",
    "print(\"solution objective:\", quadratic_program.objective.evaluate(x))\n",
    "\n",
    "# plot results\n",
    "colors = [\"red\" if x[i] == 0 else \"orange\" for i in range(n)]\n",
    "draw_graph(G, colors)"
   ]
  }
 ],
 "metadata": {
  "kernelspec": {
   "display_name": "Python 3",
   "language": "python",
   "name": "python3"
  },
  "language_info": {
   "codemirror_mode": {
    "name": "ipython",
    "version": 3
   },
   "file_extension": ".py",
   "mimetype": "text/x-python",
   "name": "python",
   "nbconvert_exporter": "python",
   "pygments_lexer": "ipython3",
   "version": "3.9.17"
  },
  "orig_nbformat": 4
 },
 "nbformat": 4,
 "nbformat_minor": 2
}
