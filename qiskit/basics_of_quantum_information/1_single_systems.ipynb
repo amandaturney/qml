{
 "cells": [
  {
   "cell_type": "markdown",
   "metadata": {},
   "source": [
    "# Single Systems"
   ]
  },
  {
   "cell_type": "markdown",
   "metadata": {},
   "source": [
    "This lesson will introduce the basics of quantum information, specifically for single systems. There are 2 different mathematical descriptions of quantum information and this section will go through the simpler, albeit less powerful, version. Density matrices which are typically used and have the ability to model the effects of noise or the state of one piece of an entangled pair will be covered in a later section. "
   ]
  },
  {
   "cell_type": "markdown",
   "metadata": {},
   "source": [
    "## Classical Information"
   ]
  },
  {
   "cell_type": "markdown",
   "metadata": {},
   "source": [
    "This section will take some time to review classical information because of the foundation and analogies to quantum information that exist in classical. "
   ]
  },
  {
   "cell_type": "markdown",
   "metadata": {},
   "source": [
    "### Classical states and probability vectors"
   ]
  },
  {
   "cell_type": "markdown",
   "metadata": {},
   "source": [
    "Let's consider a system of classical states. Examples of the range of things that could model this would be bits (0 and 1), standard six-sided die (1-6), nucelobases in DNA (A, C, G, and T), and a switch on an electrical fan (off, low, medium, high). We will refer this classical system as $X$ and $\\Sigma$ is the set of classical states within $X$. The minimum assumptions we must make right now is that $\\Sigma$ is finite and nonempty.\n",
    "\n",
    "Oftentimes in information processing, we don't know what state $X$ is in so we simply assign probabilities to each classical state within $\\Sigma$. For example, given a bit where we believe that there's a 75% chance it is 0 and a 25% chance it is 1, we can represent it like the following:\n",
    "\n",
    "$Pr(X =0) = \\frac{3}{4} and Pr(X=1) = \\frac{1}{4}$\n",
    "\n",
    "or \n",
    "\n",
    "$\\begin{bmatrix}\\frac{3}{4} \\\\ \\frac{1}{4} \\end{bmatrix}$\n",
    "\n",
    "Where the second representation shows it in a column vector. We can always represent any probabilistic state like this such that 1) all entries of the vector are nonnegative real numbers and 2) the sum of entries is equal to 1. "
   ]
  },
  {
   "cell_type": "markdown",
   "metadata": {},
   "source": [
    "### Measuring probability states"
   ]
  },
  {
   "cell_type": "markdown",
   "metadata": {},
   "source": [
    "When we measure a system, we unambiguously recognize whatever classical state it is. Therefore, measurement changes our knowledge of the system and its probabalistic state where its measured value has a probability of 1 and every other classical state has a probability of 0. This represents certainty of our state of $X$.\n",
    "\n",
    "If the value we measured/observed is a, then we would describe it as |a> which is read as _ket a_. <font color=orange>Vectors of this type where there is absolute certainty in a single state are called **standard basis vectors**.</font> For example, a computer bit can be described by the two standard basis vectors:\n",
    "\n",
    "$|0> = (1, 0) and |1> = (0, 1)$\n",
    "\n",
    "where any probabilistic state can be described as a linear combination of these two such as 3/4*|0> + 1/4*|1>. Upon measuring a system (such as flipping a coin), the system will then change to have a certain state (heads for example). Measuring the system again will always result in that same result (heads) time after time. This is the same for quantum systems so it shouldn't be too confusing.\n",
    "\n",
    "<font color=orange>One thing to remark here is that probabilistic states describe a _knowledge or belief_, not necessarily something actual/physical. When flipping a coin, it is either heads or tails but looking at the coin does not change it's state; **only our knowledge of it**. If someone else didn't see the coin, then their probabilistic state remains unchanged.</font>\n"
   ]
  },
  {
   "cell_type": "markdown",
   "metadata": {},
   "source": [
    "### Classical operations"
   ]
  },
  {
   "cell_type": "markdown",
   "metadata": {},
   "source": [
    "#### Deterministic operations\n",
    "\n",
    "One type of classical operations are called deterministic operations where each state a in $\\Sigma$ is mapped to another state in $\\Sigma$. For example, in a single bit system, you could have the following possibilities of operations f(a):\n",
    "\n",
    "* $f_1(a)$: 0 -> 0, 1 -> 0\n",
    "* $f_2(a)$: 0 -> 0, 1 -> 1\n",
    "* $f_3(a)$: 0 -> 1, 1 -> 0\n",
    "* $f_4(a)$: 0 -> 1, 1 -> 1\n",
    "\n",
    "The first and last of these functions are **constant** becuase they always map to the same output given any input. The middle two functions are **balanced** meaning that there is an equal chance for every output given all inputs. The $f_2$ function is the **identity function** and $f_3$ is known as the NOT function since it reverses the states.\n",
    "\n",
    "The action of a deterministic operation on a probabilistic state can be represented by matrix-vector multiplication where:\n",
    "\n",
    "$ M|a> = |f(a)>$\n",
    "\n",
    "Lets now create a _row_ vector, bra a, as <a|. Then <0| = (1, 0) and <1| = (0, 1). When we take the dot product of 2 vectors, we multiple a row vector by a column vector. This means a (1 x n)(n x 1) = (1 x 1) = scalar output. However, if we multiple a column vector by a row vector, we are doing (n x 1)(1 x n) = (n x n) so we can create matrices this way. This is represented by |b><a|.\n",
    "\n",
    "In the case of our bits, it corresponds to a matrix that has a 1 in the row entry corresponding to b and the column corresponding to a and 0's elsewhere. Given 2 vectors with n possible states, this matriix describes the joint state of the two vectors where the certainty (1) is observed in a position of the n x n matrix that maps to a description of the set of vectors. Using this notation, we can create our matrices for the $f_n$ with $n = {1, 2, 3, 4}$ as shown below:\n",
    "\n",
    "$ M = \\Sigma|f(a)><a| $.\n",
    "\n",
    "The terminology of \"bra\" and \"ket\" means that putting a \"bra\" with a \"ket\" yields a \"bracket\" <a|b>. This is from Paul Dirac and is known as the Dirac notation."
   ]
  },
  {
   "cell_type": "markdown",
   "metadata": {},
   "source": [
    "#### Probabilistic operations and stochastic matrices\n",
    "\n",
    "Consider the matrix shown below:\n",
    "\n",
    "$\\begin{bmatrix}1 & \\frac{1}{2} \\\\ 0 & \\frac{1}{2} \\end{bmatrix}$\n",
    "\n",
    "It meets our definition of summing to 1 for each column and having nonnegative real numbers but the outcome does not cast to a certain state like our deterministic operators did. When this matrix acts on state 0, it does nothing, but when it acts on state 1, its transformed into a state that has half probability of state 0 and half probability of state 1.\n",
    "\n",
    "These matrices can be viewed as a column vector representation of the resulting probability vector for whatever classical state input corresponds to that column. For instance, an input state of 0 maps to the 0th column which is (1, 0) which is |0>; an input state of 1 maps to the 1th column which is (1/2, 1/2) which is 1/2|0> + 1/2|1>.\n",
    "\n",
    "We can also look at probabilistic operations as random choices in deterministic operations. So, the above matrix could be represented as 1/2*(identity function) + 1/2*(constant 0 function). So either the entire operation itself is randomness of determinism or the operation is determined to have probabilistic outcomes."
   ]
  },
  {
   "cell_type": "markdown",
   "metadata": {},
   "source": [
    "#### Compositions of probabilistic operations\n",
    "\n",
    "Lastly, if we consider a system $X$ having classical state set $\\Sigma$ and $M_n for n = 1, ..., n$ being stochasic matrices then we can set some ground rules for how these interact.\n",
    "\n",
    "1. Matrix multiplication is **associative** meaning that $M_2(M_1u) = (M_2M_1)u$\n",
    "2. Matrix multiplication is **not commutative** in general, meaning that the ordering of $M_n$ in successive multiplications is important and impacts the outcome. "
   ]
  },
  {
   "cell_type": "markdown",
   "metadata": {},
   "source": [
    "## Quantum Information"
   ]
  },
  {
   "cell_type": "markdown",
   "metadata": {},
   "source": [
    "### Quantum state vectors"
   ]
  },
  {
   "cell_type": "markdown",
   "metadata": {},
   "source": [
    "Quantum state vectors are similar to the classical probability vectors but abide by 2 special traits:\n",
    "\n",
    "1. The entries are complex numbers\n",
    "2. The sum of the absolute values squared of the entries must equal 1, meaning they are unit vectors\n",
    "\n",
    "Thus, we no longer need to only have nonnegative real numbers and we are instead looking at the sum of the absolute values squared instead of the entry values themselves. While these seem mathematically simple, all the speedup of a quantum computer comes from these changes.\n",
    "\n",
    "Qubits are bits that are allowed to be in a quantum state. Below are a couple examples:\n",
    "\n",
    "* $(1, 0) = |0>$ and $(0, 1) = |1>$\n",
    "<br>\n",
    "\n",
    "* $(\\frac{1}{\\sqrt{2}}, \\frac{1}{\\sqrt{2}}) = \\frac{1}{\\sqrt{2}}|0> + \\frac{1}{\\sqrt{2}}|1>$\n",
    "<br>\n",
    "\n",
    "* $(\\frac{1+2i}{3}, -\\frac{2}{3}) = \\frac{1+2i}{3}|0> - \\frac{2}{3}|1>$\n",
    "\n",
    "<br>\n",
    "\n",
    "The first example shows a set of quantum states that are just the standard basis elements. These are complex numbers (imaginary part is 0) and their Euclidean norm is equal to 1 so they are valid quantum states.\n",
    "\n",
    "The second and third example are linear combinations of the states |0> and |1>, or _superpositions_ of the 0 and 1 states. The second example is what we typically refer to as the **plus state** or |+> whereas the negative probability amplitude for the |1> state would be the **minus state** |->. \n",
    "\n",
    "Same as in classical probability vectors, we can take a product $<a|\\psi>$ where the result is the entry in the vector $\\psi$ whose index corresponds to a in $\\Sigma$. \n",
    "\n",
    "<font color=orange>One difference between quantum and classical though is when we take $<\\psi|$ (the row vector of the state), this is obtained by taking the _conjugate-transpose_ instead of just the transpose. Technically we could say the classical version takes the conjugate-transpose too but since they are always real numbers, we never have to deal with conjugating anything.</font>"
   ]
  },
  {
   "cell_type": "markdown",
   "metadata": {},
   "source": [
    "The Dirac notation is a compact and precise way to represent quantum states. Row or column vectors are fine for small numbers of standard basis states but are a mess to deal with if we have a large number of basis states. Therefore, its convenient to describe a probability vector in the form of $\\Sigma a_i|a_i>$ for all states a and all probability amplitude values $a_i$ for all i in the set of standard basis states.\n",
    "\n",
    "Another advantage to the Dirac Notation of a|a> + b|b> + c|c> ... etc is that there is no implicit order required like there would be for a vector where the index must map to a specific standard basis vector. We could just as easily write b|b> + a|a> + c|c> ... and it is an equivalent state."
   ]
  },
  {
   "cell_type": "markdown",
   "metadata": {},
   "source": [
    "### Measuring quantum states"
   ]
  },
  {
   "cell_type": "markdown",
   "metadata": {},
   "source": [
    "Same as the classical probability vectors, when a measurement is made on a system, the observer won't see a quantum state vector but rather a classical state. The results follow the <font color=orange>**Born rule** in QM which states: each classical state of the system results with probability equal to the _absolute value squared_ of the entry in the quantum state vector</font>. \n",
    "\n",
    "When it comes to measurement results, because we are squaring the probability amplitude, the |+> state and |-> look exactly the same."
   ]
  },
  {
   "cell_type": "markdown",
   "metadata": {},
   "source": [
    "### Unitary operations"
   ]
  },
  {
   "cell_type": "markdown",
   "metadata": {},
   "source": [
    "The quantum operators are also matrices but differ from the stochastic classical operators in the requirement that all quantum operators must be unitary. A square matrix U is unitary if:\n",
    "\n",
    "$UU^\\dagger = 1$\n",
    "$U^{\\dagger}U  = 1$\n",
    "\n",
    "where 1 is the identity matrix and $U^\\dagger$ is the conjugate transpose of U. This also means:\n",
    "\n",
    "$U^{-1} = U^{\\dagger}$\n",
    "\n",
    "All of this means that U is its own inverse so U will undo itself. Whatever probability vector it has to map an input state to something means that that something will map it back to the original input state. Another outcome of the unitary matrix is that is does not change the Euclidean norm of a vector. Thus a quantum operator will never transform a quantum state to a nonvalid quantum state.\n",
    "\n",
    "<font color=red>Question:</font> What examples of stochastic matrices would cause a quantum state to become invalid (change Euclidean norm)?\n",
    "\n",
    "\n",
    "Overall though, unitary matrices are the set of linear mappings which transform quantum state vectors to other quantum state vectors.\n"
   ]
  },
  {
   "cell_type": "markdown",
   "metadata": {},
   "source": [
    "Some important unitary operations on qubits include:\n",
    "\n",
    "**Pauli operations** <br>\n",
    "$1 = \\begin{bmatrix} 1 & 0 \\\\ 0 & 1\\end{bmatrix}, \\sigma_x = \\begin{bmatrix}0 & 1 \\\\ 1 & 0\\end{bmatrix}, \\sigma_y = \\begin{bmatrix}0 & -i \\\\ i & 0\\end{bmatrix}, \\sigma_z = \\begin{bmatrix}1 & 0 \\\\ 0 & -1\\end{bmatrix}$ <br>\n",
    "where common notation is $X$ = $\\sigma_x$, $Y$ = $\\sigma_y$, and $Z$ = $\\sigma_z$. The X operator is commonly called the bit flip whereas the Z operator is called a phase flip.\n",
    "\n",
    "**Hadamard operation** <br>\n",
    "\n",
    "$H =\\begin{bmatrix} \\frac{1}{\\sqrt{2}} &\\frac{1}{\\sqrt{2}} \\\\ \\frac{1}{\\sqrt{2}} & \\frac{1}{\\sqrt{2}}\\end{bmatrix}$\n",
    "\n",
    "**Phase operations** <br>\n",
    "$P_{\\theta} = \\begin{bmatrix}1 & 0 \\\\ 0 & e^{i\\theta}\\end{bmatrix}$\n",
    "\n",
    "for any choice of real number $\\theta$. There are some notable ones such as S = P($\\pi$/2) and T = P($\\pi$/4).\n",
    "\n",
    "One of the important observations is that H|0> = |+>, H|1> = |->, H|+> = |0>, and H|-> = |1>. So while we could never distinguish the plus state and minus state from each other by simply measuring it, we _do_ see a difference when we apply the Hadamard operator and then measure. This is where the a phase difference, while not always measureable directly, does play an important role.\n",
    "\n",
    "Another really interesting example of how the quantum computing differs from classical can be seen with a unitary operator called R defined as HSH (hadamard, P($\\pi$/2), then hadamard again). If you apply this operator twice, you end up getting a NOT operation. Therefore, R is the _square root of the NOT operation_. In classical computing, there is no equivalent on a single bit which is related to the fact that you can't take the square root of a negative number and stay on the real line."
   ]
  },
  {
   "cell_type": "markdown",
   "metadata": {},
   "source": [
    "## Code Examples"
   ]
  },
  {
   "cell_type": "markdown",
   "metadata": {},
   "source": [
    "### Vectors and matrices in python"
   ]
  },
  {
   "cell_type": "code",
   "execution_count": 70,
   "metadata": {},
   "outputs": [
    {
     "data": {
      "text/plain": [
       "array([0.5, 0.5])"
      ]
     },
     "execution_count": 70,
     "metadata": {},
     "output_type": "execute_result"
    }
   ],
   "source": [
    "import numpy as np\n",
    "\n",
    "ket0 = np.array([1, 0]) # represents state |0> = (1, 0)\n",
    "ket1 = np.array([0, 1]) # represents state |1> = (0, 1)\n",
    "\n",
    "ket0/2 + ket1/2"
   ]
  },
  {
   "cell_type": "code",
   "execution_count": 71,
   "metadata": {},
   "outputs": [
    {
     "data": {
      "text/plain": [
       "array([[1. , 1. ],\n",
       "       [0.5, 0. ]])"
      ]
     },
     "execution_count": 71,
     "metadata": {},
     "output_type": "execute_result"
    }
   ],
   "source": [
    "# We can also define some matrices\n",
    "M1 = np.array([ [1, 1], [0, 0] ])\n",
    "M2 = np.array([ [1, 1], [1, 0] ])\n",
    "\n",
    "M1/2 + M2/2"
   ]
  },
  {
   "cell_type": "code",
   "execution_count": 72,
   "metadata": {},
   "outputs": [
    {
     "name": "stdout",
     "output_type": "stream",
     "text": [
      "[1 0]\n",
      "[[2 1]\n",
      " [0 0]]\n",
      "[[1 1]\n",
      " [1 1]]\n"
     ]
    }
   ],
   "source": [
    "# Matrices and/or vectors can be multiplied using numpy's matmul\n",
    "print(np.matmul(M1, ket1))\n",
    "print(np.matmul(M1, M2))\n",
    "print(np.matmul(M2, M1))"
   ]
  },
  {
   "cell_type": "markdown",
   "metadata": {},
   "source": [
    "### States, measurements, and operations in Qiskit"
   ]
  },
  {
   "cell_type": "code",
   "execution_count": 73,
   "metadata": {},
   "outputs": [
    {
     "name": "stdout",
     "output_type": "stream",
     "text": [
      "State vectors u, v, and w have been defined.\n"
     ]
    }
   ],
   "source": [
    "from qiskit.quantum_info import Statevector\n",
    "\n",
    "# We can declare and assign variables to quantum states as shown below \n",
    "u = Statevector([1/np.sqrt(2), 1/np.sqrt(2)])\n",
    "v = Statevector([(1+2.j)/3, -2/3])\n",
    "w = Statevector([1/3, 2/3])\n",
    "\n",
    "print(\"State vectors u, v, and w have been defined.\")"
   ]
  },
  {
   "cell_type": "code",
   "execution_count": 74,
   "metadata": {},
   "outputs": [
    {
     "data": {
      "text/latex": [
       "$$\\frac{\\sqrt{2}}{2} |0\\rangle+\\frac{\\sqrt{2}}{2} |1\\rangle$$"
      ],
      "text/plain": [
       "<IPython.core.display.Latex object>"
      ]
     },
     "execution_count": 74,
     "metadata": {},
     "output_type": "execute_result"
    }
   ],
   "source": [
    "# Statevector object displays values depending on which backend you specify, ex latex\n",
    "u.draw('latex')"
   ]
  },
  {
   "cell_type": "code",
   "execution_count": 75,
   "metadata": {},
   "outputs": [
    {
     "data": {
      "text/plain": [
       "[ 0.33333333+0.66666667j,-0.66666667+0.j        ]"
      ]
     },
     "execution_count": 75,
     "metadata": {},
     "output_type": "execute_result"
    }
   ],
   "source": [
    "# ex text\n",
    "v.draw('text')"
   ]
  },
  {
   "cell_type": "code",
   "execution_count": 76,
   "metadata": {},
   "outputs": [
    {
     "name": "stdout",
     "output_type": "stream",
     "text": [
      "True\n",
      "True\n",
      "False\n"
     ]
    }
   ],
   "source": [
    "# Statevector object includes a is_valid method to ensure values are valid quantum state\n",
    "print(u.is_valid())\n",
    "print(v.is_valid())\n",
    "print(w.is_valid())"
   ]
  },
  {
   "cell_type": "code",
   "execution_count": 81,
   "metadata": {},
   "outputs": [
    {
     "data": {
      "text/plain": [
       "('0',\n",
       " Statevector([0.4472136+0.89442719j, 0.       +0.j        ],\n",
       "             dims=(2,)))"
      ]
     },
     "execution_count": 81,
     "metadata": {},
     "output_type": "execute_result"
    }
   ],
   "source": [
    "# Measurement outcomes are probabilistic\n",
    "# run multiple times for different results (measurement result, new quantum state of system)\n",
    "v = Statevector([(1+2.j)/3, -2/3])\n",
    "v.measure()"
   ]
  },
  {
   "cell_type": "code",
   "execution_count": 82,
   "metadata": {},
   "outputs": [
    {
     "data": {
      "text/plain": [
       "{'0': 570, '1': 430}"
      ]
     },
     "metadata": {},
     "output_type": "display_data"
    },
    {
     "data": {
      "image/png": "[encoded data removed]",
      "text/plain": [
       "<Figure size 700x500 with 1 Axes>"
      ]
     },
     "execution_count": 82,
     "metadata": {},
     "output_type": "execute_result"
    }
   ],
   "source": [
    "from qiskit.visualization import plot_histogram\n",
    "\n",
    "# While we can measure a statevector once as shown above, sample_counts lets us measure\n",
    "# many times in a row to simulate what the distribution of sampling measurements would be\n",
    "statistics = v.sample_counts(1000)\n",
    "display(statistics)\n",
    "plot_histogram(statistics)"
   ]
  },
  {
   "cell_type": "code",
   "execution_count": 83,
   "metadata": {},
   "outputs": [
    {
     "data": {
      "text/latex": [
       "$$(0.8535533906 + 0.3535533906 i) |0\\rangle+(-0.3535533906 + 0.1464466094 i) |1\\rangle$$"
      ],
      "text/plain": [
       "<IPython.core.display.Latex object>"
      ]
     },
     "execution_count": 83,
     "metadata": {},
     "output_type": "execute_result"
    }
   ],
   "source": [
    "from qiskit.quantum_info import Operator\n",
    "\n",
    "# We can also define operators and apply them on statevectors\n",
    "X = Operator([ [0,1],[1,0] ])\n",
    "Y = Operator([ [0,-1.j],[1.j,0] ])\n",
    "Z = Operator([ [1,0],[0,-1] ])\n",
    "H = Operator([ [1/np.sqrt(2),1/np.sqrt(2)],[1/np.sqrt(2),-1/np.sqrt(2)] ])\n",
    "S = Operator([ [1,0],[0,1.j] ])\n",
    "T = Operator([ [1,0],[0,(1+1.j)/np.sqrt(2)] ])\n",
    "\n",
    "v = Statevector([1,0])\n",
    "\n",
    "v = v.evolve(H)\n",
    "v = v.evolve(T)\n",
    "v = v.evolve(H)\n",
    "v = v.evolve(T)\n",
    "v = v.evolve(Z)\n",
    "\n",
    "v.draw('latex')"
   ]
  },
  {
   "cell_type": "code",
   "execution_count": 84,
   "metadata": {},
   "outputs": [
    {
     "data": {
      "image/png": "[encoded data removed]",
      "text/plain": [
       "<Figure size 519.897x117.056 with 1 Axes>"
      ]
     },
     "execution_count": 84,
     "metadata": {},
     "output_type": "execute_result"
    }
   ],
   "source": [
    "from qiskit import QuantumCircuit\n",
    "\n",
    "# We can also define quantum circuits with 1 qubit\n",
    "circuit = QuantumCircuit(1)\n",
    "\n",
    "# Now apply the same operators as we did above on this qubit\n",
    "circuit.h(0)\n",
    "circuit.t(0)\n",
    "circuit.h(0)\n",
    "circuit.t(0)\n",
    "circuit.z(0)\n",
    "\n",
    "circuit.draw()"
   ]
  },
  {
   "cell_type": "code",
   "execution_count": 85,
   "metadata": {},
   "outputs": [
    {
     "data": {
      "text/latex": [
       "$$(0.8535533906 + 0.3535533906 i) |0\\rangle+(-0.3535533906 + 0.1464466094 i) |1\\rangle$$"
      ],
      "text/plain": [
       "<IPython.core.display.Latex object>"
      ]
     },
     "execution_count": 85,
     "metadata": {},
     "output_type": "execute_result"
    }
   ],
   "source": [
    "# Lets first define a statevector and then evolve it as per our circuit\n",
    "ket0 = Statevector([1,0])\n",
    "v = ket0.evolve(circuit)\n",
    "v.draw('latex')"
   ]
  },
  {
   "cell_type": "code",
   "execution_count": 86,
   "metadata": {},
   "outputs": [
    {
     "data": {
      "image/png": "[encoded data removed]",
      "text/plain": [
       "<Figure size 700x500 with 1 Axes>"
      ]
     },
     "execution_count": 86,
     "metadata": {},
     "output_type": "execute_result"
    }
   ],
   "source": [
    "# Lastly, we can simulate the sample distribution of measurements would be\n",
    "statistics = v.sample_counts(4000)\n",
    "plot_histogram(statistics)"
   ]
  }
 ],
 "metadata": {
  "kernelspec": {
   "display_name": "Python 3",
   "language": "python",
   "name": "python3"
  },
  "language_info": {
   "codemirror_mode": {
    "name": "ipython",
    "version": 3
   },
   "file_extension": ".py",
   "mimetype": "text/x-python",
   "name": "python",
   "nbconvert_exporter": "python",
   "pygments_lexer": "ipython3",
   "version": "3.9.17"
  },
  "orig_nbformat": 4
 },
 "nbformat": 4,
 "nbformat_minor": 2
}
