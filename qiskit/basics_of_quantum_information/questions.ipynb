{
 "cells": [
  {
   "cell_type": "markdown",
   "metadata": {},
   "source": [
    "# Questions/Comments"
   ]
  },
  {
   "cell_type": "markdown",
   "metadata": {},
   "source": [
    "## Single Systems"
   ]
  },
  {
   "cell_type": "markdown",
   "metadata": {},
   "source": [
    "1. What examples of stochastic matrices would cause a quantum state to become invalid (change Euclidean norm)? Assuming that the stochastic matrix always had valid transition probabilities, what mathematical conditions need to be met for it to be non-valid for quantum states?"
   ]
  },
  {
   "cell_type": "markdown",
   "metadata": {},
   "source": [
    "## Multiple Systems"
   ]
  },
  {
   "cell_type": "markdown",
   "metadata": {},
   "source": [
    "1. What would a non-deterministic matrix look like? The text talks about how measurements are not a quantum operator because they're not deterministic so if being deterministic is a requirement of an operator matrix, what dooes a non-deterministic matrix look like?"
   ]
  },
  {
   "cell_type": "markdown",
   "metadata": {},
   "source": [
    "## Quantum Circuits"
   ]
  },
  {
   "cell_type": "markdown",
   "metadata": {},
   "source": [
    "1. Can we discuss the limitation of quantum algorithm regarding how non-orthogonal states cannot be discriminated perfectly? I'm not sure I really understand what this means in practice and/or how its a limitation (rather than a design) of quantum computing? While not perfectly discriminated but can't we take measurement samples to get a relative distance between states?"
   ]
  },
  {
   "cell_type": "markdown",
   "metadata": {},
   "source": [
    "## Entanglement in Action"
   ]
  },
  {
   "cell_type": "markdown",
   "metadata": {},
   "source": [
    "1. I don't have a specific question but rather a comment regarding the examples of entanglement: overall, after looking at the experimental setup and math, the results felt more expected/reasonable than \"magical\", especially the superdense coding example. In the superdense coding example, you have two particles that mirror each other in some sense and then Alice performs some operations on her particle and then gives that particle back to Bob. Then Bob does some _relative_ measurements between the _two_ from his particle which obviously would tell him what Alice did because they both had the same/chiral starting point. So that doesn't seem nearly as flashy as the whole \"transmitting 2 bits of information with 1 particle\" headline...it seems like there could be some physical analog. For example...lets say I tell Alice and Bob to both start at a given intersection in a city. Then, Alice walks (unbeknownst to Bob) 1 block north and 1 block east then calls Bob and tells him where she is. Bob didn't knowo where she walked but he knows her relative distance from her and knows she could only have gotten there by going east for 1 block and north for another. Something classical like this seems to capture the essense of what superdense coding does where the CNOT measures in the north-south orientation and the Hadamard measures in the E-W orientation. \n",
    "\n",
    "2. I'm also going through some math for the CHSH game...I understand how qiskit calculated everything but just looking at the math through another lens so may have a question about that on Monday..."
   ]
  },
  {
   "cell_type": "markdown",
   "metadata": {},
   "source": []
  }
 ],
 "metadata": {
  "language_info": {
   "name": "python"
  },
  "orig_nbformat": 4
 },
 "nbformat": 4,
 "nbformat_minor": 2
}
