{
 "cells": [
  {
   "cell_type": "markdown",
   "metadata": {},
   "source": [
    "# Multiple Systems"
   ]
  },
  {
   "cell_type": "markdown",
   "metadata": {},
   "source": [
    "Below are notes from each section of the qiskit course documentation found on this page: https://learn.qiskit.org/course/basics/multiple-systems"
   ]
  },
  {
   "cell_type": "markdown",
   "metadata": {},
   "source": [
    "## Combining Classical Systems"
   ]
  },
  {
   "cell_type": "markdown",
   "metadata": {},
   "source": [
    "Once again, we start with a discrussion of classical systems because they work similarly to quantum systems and thus are helpful for understanding the quantum systems."
   ]
  },
  {
   "cell_type": "markdown",
   "metadata": {},
   "source": [
    "### Classical states via the Cartesian product"
   ]
  },
  {
   "cell_type": "markdown",
   "metadata": {},
   "source": [
    "We can view classical states of multiple systems as a cartesian product of each system's individual set of states. For example, for system X with states a in $\\Sigma$ and system Y with states b in $\\Gamma$, we can view our multi-system state XY as the set of (a, b) = $\\Sigma$ x $\\Gamma$ = {(a, b)} for all possible combinations of a and b."
   ]
  },
  {
   "cell_type": "markdown",
   "metadata": {},
   "source": [
    "In a classical system, we can consider the bit which has states {0, 1}. Therefore, if we consider 10 different bits, our multiple system represents a total of 2^10 = 1024 classical states overall. Using the notation above, we have \n",
    "\n",
    "$\\Sigma_1 x \\Sigma_2 x \\Sigma_3 x \\Sigma_4 x \\Sigma_5 x \\Sigma_6 x \\Sigma_7  x \\Sigma_8  x \\Sigma_9 x \\Sigma_10 = {(x_1, x_2, x_3, x_4, x_5, x_6, x_7, x_8, x_9, x_10)}$\n",
    "\n",
    "for all combinations of $x_i$ for n=1-10. Instead of writing the different states as ($x_1, x_2, ..., x_10$), we can drop the parentheses and commas and just represent it as $x_1x_2x_3...x_10$ in a single string like this: 0000000000,  or like this: 0001000101."
   ]
  },
  {
   "cell_type": "markdown",
   "metadata": {},
   "source": [
    "### Probabilistic states"
   ]
  },
  {
   "cell_type": "markdown",
   "metadata": {},
   "source": [
    "We can define the probabilistic state for our multi-system just as we did for a single system where we have probabilities associated with each cartesian product of the state sets. For example, consider XY where each represent a classical bit.\n",
    "\n",
    "$Pr((X,Y) = (0, 0)) = \\frac{1}{2}$ <br>\n",
    "$Pr((X,Y) = (0, 1)) = 0$ <br>\n",
    "$Pr((X,Y) = (1, 0)) = 0$ <br>\n",
    "$Pr((X,Y) = (1, 1)) = \\frac{1}{2}$ <br>\n",
    "\n",
    "In the above multiple system, each bit has a 50% chance of being 0 or 1, but the classical bits must always agree. This is an example of a _correlation_ between these systems."
   ]
  },
  {
   "cell_type": "markdown",
   "metadata": {},
   "source": [
    "Instead of specifying (X, Y) = (a, b) for whatever values of a, b, its often easier to specify an order for the multiple system states so that we can represent them as a column vector. This is done by alphabet ordering and is basically the equivalent of 2 for loops with one nested where the outer loop is the left part of the cartesian product and the inner loop represents the right part of the cartesian product."
   ]
  },
  {
   "cell_type": "code",
   "execution_count": 2,
   "metadata": {},
   "outputs": [
    {
     "name": "stdout",
     "output_type": "stream",
     "text": [
      "(0, 0)\n",
      "(0, 1)\n",
      "(1, 0)\n",
      "(1, 1)\n"
     ]
    }
   ],
   "source": [
    "for i in [0, 1]: # Outer loop is left most value\n",
    "    for j in [0, 1]: # inner loop is right most value\n",
    "        print((i, j))"
   ]
  },
  {
   "cell_type": "markdown",
   "metadata": {},
   "source": [
    "The opposite of the correlated states that we saw above are _independent_ states meaning that learning the classical state of either system has no effect on the probabilities associated with the other. Mathematically, it means Pr((X, Y) = (a,  b)) = Pr(X=a)Pr(Y=b). This is what we typically see when we have independent events such as two rolls of the die where we can specifiy the probabilities of all states in one system separately from the probabilities of all states from the other system and then the probabilities of the cartesian product states are simply the product of the associated probabilities."
   ]
  },
  {
   "cell_type": "markdown",
   "metadata": {},
   "source": [
    "The condition of independence can be more succinctly described with a _tensor product_, which is best described by an example. Given 2 vectors:\n",
    "\n",
    "$|\\phi> = \\Sigma \\alpha_{a}|a> and |\\psi> = \\Sigma \\beta_b|b>$\n",
    "\n",
    "the tensor product $\\phi \\otimes \\psi$ is a new vector over the joint state set defined as:\n",
    "\n",
    "$\\phi \\otimes \\psi = \\Sigma \\alpha_a\\beta_b|ab>$\n",
    "\n",
    "for (a,b) in $\\Sigma X \\Gamma$. This means you take the cartesian product of $\\phi$ and $\\psi$ and their probabilities are the product of the associated state probabilities. The tensor product of two single systems can then be described with a state probability of the multi-system, represented by $|\\pi>$ where:\n",
    "\n",
    "$<ab|\\pi> = <a|\\phi><b|\\psi>$\n",
    "\n",
    "which means the inner product of <ab| and |$\\pi$> "
   ]
  },
  {
   "cell_type": "markdown",
   "metadata": {},
   "source": [
    "### Measurements of probabilistic states"
   ]
  },
  {
   "cell_type": "markdown",
   "metadata": {},
   "source": [
    "### Operations on probabilistic states"
   ]
  },
  {
   "cell_type": "markdown",
   "metadata": {},
   "source": [
    "## Quantum Information"
   ]
  },
  {
   "cell_type": "markdown",
   "metadata": {},
   "source": [
    "## Code Examples"
   ]
  }
 ],
 "metadata": {
  "kernelspec": {
   "display_name": "Python 3",
   "language": "python",
   "name": "python3"
  },
  "language_info": {
   "codemirror_mode": {
    "name": "ipython",
    "version": 3
   },
   "file_extension": ".py",
   "mimetype": "text/x-python",
   "name": "python",
   "nbconvert_exporter": "python",
   "pygments_lexer": "ipython3",
   "version": "3.9.17"
  },
  "orig_nbformat": 4
 },
 "nbformat": 4,
 "nbformat_minor": 2
}
