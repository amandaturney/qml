{
 "cells": [
  {
   "cell_type": "markdown",
   "metadata": {},
   "source": [
    "# Multiple Systems"
   ]
  },
  {
   "cell_type": "markdown",
   "metadata": {},
   "source": [
    "Below are notes from each section of the qiskit course documentation found on this page: https://learn.qiskit.org/course/basics/multiple-systems"
   ]
  },
  {
   "cell_type": "markdown",
   "metadata": {},
   "source": [
    "## Combining Classical Systems"
   ]
  },
  {
   "cell_type": "markdown",
   "metadata": {},
   "source": [
    "Once again, we start with a discrussion of classical systems because they work similarly to quantum systems and thus are helpful for understanding the quantum systems."
   ]
  },
  {
   "cell_type": "markdown",
   "metadata": {},
   "source": [
    "### Classical states via the Cartesian product"
   ]
  },
  {
   "cell_type": "markdown",
   "metadata": {},
   "source": [
    "We can view classical states of multiple systems as a cartesian product of each system's individual set of states. For example, for system X with states a in $\\Sigma$ and system Y with states b in $\\Gamma$, we can view our multi-system state XY as the set of (a, b) = $\\Sigma$ x $\\Gamma$ = {(a, b)} for all possible combinations of a and b."
   ]
  },
  {
   "cell_type": "markdown",
   "metadata": {},
   "source": [
    "In a classical system, we can consider the bit which has states {0, 1}. Therefore, if we consider 10 different bits, our multiple system represents a total of 2^10 = 1024 classical states overall. Using the notation above, we have \n",
    "\n",
    "$\\Sigma_1 x \\Sigma_2 x \\Sigma_3 x \\Sigma_4 x \\Sigma_5 x \\Sigma_6 x \\Sigma_7  x \\Sigma_8  x \\Sigma_9 x \\Sigma_10 = {(x_1, x_2, x_3, x_4, x_5, x_6, x_7, x_8, x_9, x_10)}$\n",
    "\n",
    "for all combinations of $x_i$ for n=1-10. Instead of writing the different states as ($x_1, x_2, ..., x_10$), we can drop the parentheses and commas and just represent it as $x_1x_2x_3...x_10$ in a single string like this: 0000000000,  or like this: 0001000101."
   ]
  },
  {
   "cell_type": "markdown",
   "metadata": {},
   "source": [
    "### Probabilistic states"
   ]
  },
  {
   "cell_type": "markdown",
   "metadata": {},
   "source": [
    "We can define the probabilistic state for our multi-system just as we did for a single system where we have probabilities associated with each cartesian product of the state sets. For example, consider XY where each represent a classical bit.\n",
    "\n",
    "$Pr((X,Y) = (0, 0)) = \\frac{1}{2}$ <br>\n",
    "$Pr((X,Y) = (0, 1)) = 0$ <br>\n",
    "$Pr((X,Y) = (1, 0)) = 0$ <br>\n",
    "$Pr((X,Y) = (1, 1)) = \\frac{1}{2}$ <br>\n",
    "\n",
    "In the above multiple system, each bit has a 50% chance of being 0 or 1, but the classical bits must always agree. This is an example of a _correlation_ between these systems."
   ]
  },
  {
   "cell_type": "markdown",
   "metadata": {},
   "source": [
    "Instead of specifying (X, Y) = (a, b) for whatever values of a, b, its often easier to specify an order for the multiple system states so that we can represent them as a column vector. This is done by alphabet ordering and is basically the equivalent of 2 for loops with one nested where the outer loop is the left part of the cartesian product and the inner loop represents the right part of the cartesian product."
   ]
  },
  {
   "cell_type": "code",
   "execution_count": 1,
   "metadata": {},
   "outputs": [
    {
     "name": "stdout",
     "output_type": "stream",
     "text": [
      "(0, 0)\n",
      "(0, 1)\n",
      "(1, 0)\n",
      "(1, 1)\n"
     ]
    }
   ],
   "source": [
    "for i in [0, 1]: # Outer loop is left most value\n",
    "    for j in [0, 1]: # inner loop is right most value\n",
    "        print((i, j))"
   ]
  },
  {
   "cell_type": "markdown",
   "metadata": {},
   "source": [
    "The opposite of the correlated states that we saw above are _independent_ states meaning that learning the classical state of either system has no effect on the probabilities associated with the other. Mathematically, it means Pr((X, Y) = (a,  b)) = Pr(X=a)Pr(Y=b). This is what we typically see when we have independent events such as two rolls of the die where we can specifiy the probabilities of all states in one system separately from the probabilities of all states from the other system and then the probabilities of the cartesian product states are simply the product of the associated probabilities."
   ]
  },
  {
   "cell_type": "markdown",
   "metadata": {},
   "source": [
    "The condition of independence can be more succinctly described with a _tensor product_, which is best described by an example. Given 2 vectors:\n",
    "\n",
    "$|\\phi> = \\Sigma \\alpha_{a}|a> and |\\psi> = \\Sigma \\beta_b|b>$\n",
    "\n",
    "the tensor product $\\phi \\otimes \\psi$ is a new vector over the joint state set defined as:\n",
    "\n",
    "$\\phi \\otimes \\psi = \\Sigma \\alpha_a\\beta_b|ab>$\n",
    "\n",
    "for (a,b) in $\\Sigma X \\Gamma$. This means you take the cartesian product of $\\phi$ and $\\psi$ and their probabilities are the product of the associated state probabilities. The tensor product of two single systems can then be described with a state probability of the multi-system, represented by $|\\pi>$ where:\n",
    "\n",
    "$<ab|\\pi> = <a|\\phi><b|\\psi>$\n",
    "\n",
    "which means the inner product of <ab| and |$\\pi$> is simply the probability of a multiplied by the probability of b. Because we can describe $|\\pi$ in terms of $|\\psi>$ and $|\\phi>$, it is called a _product state_ or _product vector_.\n",
    "\n",
    "Tensor products can be represented in all the following ways:\n",
    "\n",
    "* $|\\phi> \\otimes |\\psi>$\n",
    "* $|\\phi>|\\psi>$\n",
    "* $|\\phi \\otimes \\psi>$\n",
    "* $|ab>$ where a and b are standard basis vectors\n",
    "* $|a,b>$ where a and b are standard basis vectors"
   ]
  },
  {
   "cell_type": "markdown",
   "metadata": {},
   "source": [
    "### Measurements of probabilistic states"
   ]
  },
  {
   "cell_type": "markdown",
   "metadata": {},
   "source": [
    "If we have the probabilistic multiple system of 2 bits (X, Y) described by 1/2*|00> + 1/2*|11>, then the outcome of 00 is obtained with 50% chance and the outcome of 11 is obtained with 50% chance. In each case though, both X and Y are measured and we update the probabilistic state to be in a state of certainty for 00 or 11.\n",
    "\n",
    "However, we may not measure all systems but rather a proper subset of the systems. In the example of our XY system, we may only measure X. <font color=orange>The **reduced** or **marginal** probabilistic state of X asserts that the probability of measuring a within $\\Sigma$ is the summation of probabilities of the subset of the cartesian product of (a, b) for a and all b within $\\Gamma$.</font> This intuitively makes sense; if it was not true, then it would mean the probabilities for X are influenced by measurements of Y.\n",
    "\n",
    "Measuring only one of the two systems can be described as a conditional probability statement as follows:\n",
    "\n",
    "$Pr(Y = b | X = a) = \\frac{Pr((X,Y) = (a, b))}{Pr(X=a)}$\n",
    "\n",
    "which is read as _the probability of Y equal to b given that X is equal to a_ and basically just calculates the fraction of the probability for (a, b) divided by probability of a (instead of 1, which is probability of entire set)."
   ]
  },
  {
   "cell_type": "markdown",
   "metadata": {},
   "source": [
    "### Operations on probabilistic states"
   ]
  },
  {
   "cell_type": "markdown",
   "metadata": {},
   "source": [
    "Operations on multiple systems in probabilistic states is done similarly to single systems. There exists operator matrices of size 2^n x 2^n for n systems that can be applied such as the CNOT matrix. CNOT is an example of an operation that acts on both systems.\n",
    "\n",
    "However, sometimes we apply operations on just single systems within our multi-system. For example, we can apply a bit flip to just X in our XY system and a constant function to our Y. However, the bit flip matrices and constant function matrices we've seen in the past are of size 2 x 2 since they operate on just a single bit so how do we work out what matrix we need that should be 2^n x 2^n?\n",
    "\n",
    "The answer is to do the tensor products of matrices. This can be worked out through the ordering of cartesian products.\n"
   ]
  },
  {
   "cell_type": "markdown",
   "metadata": {},
   "source": [
    "The important thing to note here is that _tensor products represent independence_. In the case where we have a 2-bit system and want to apply an operation to only one, we can do that by doing the tensor product of the 1-bit operator of interest and the identity matrix."
   ]
  },
  {
   "cell_type": "markdown",
   "metadata": {},
   "source": [
    "## Quantum Information"
   ]
  },
  {
   "cell_type": "markdown",
   "metadata": {},
   "source": [
    "### Quantum states"
   ]
  },
  {
   "cell_type": "markdown",
   "metadata": {},
   "source": [
    "Quantum states of multiple systems are represented by column vectors having complex number entries and Euclidean norm equal to 1, just like single systems, and the ordering is the cartesian product ordering. As discussed before, quantum states can be written in different, but equivalent, forms such as |00>, |0>|0>, |0> $\\otimes$|0>, $|0>_X|0>_Y$, or a column vector."
   ]
  },
  {
   "cell_type": "markdown",
   "metadata": {},
   "source": [
    "The tensor product of two quantum state vectors is a _product state_ and can be interpretted as meaning one system is in state $|\\phi>$ and the other system is in state $|\\psi>$ and the states of each system have nothing to do with each other. It also means that the tensor product of two quantum state vectors is also a valid quantum state vector because the Euclidean norm is not changed.\n",
    "\n",
    "However, not all quantum state vectors of multiple systems are product states. This was shown even classically through the example of $\\frac{1}{\\sqrt{2}}|00> + \\frac{1}{\\sqrt{2}}|11>$. When there is a correlation between two systems, we say the systems are _entangled_."
   ]
  },
  {
   "cell_type": "markdown",
   "metadata": {},
   "source": [
    "**Bell states**\n",
    "\n",
    "Some noteable examples of entangled states of 2 qubits are bell states shown below.\n",
    "\n",
    "* $|\\phi^+> = \\frac{1}{\\sqrt{2}}|00> + \\frac{1}{\\sqrt{2}}|11>$<br>\n",
    "* $|\\phi^-> = \\frac{1}{\\sqrt{2}}|00> - \\frac{1}{\\sqrt{2}}|11>$<br>\n",
    "* $|\\psi^+> = \\frac{1}{\\sqrt{2}}|01> + \\frac{1}{\\sqrt{2}}|10>$<br>\n",
    "* $|\\psi^-> = \\frac{1}{\\sqrt{2}}|01> - \\frac{1}{\\sqrt{2}}|10>$<br>\n",
    "\n",
    "The collection of all 4 Bell states is known as _Bell basis_ and any quantum state vector of 2 qubits can be expressed in this basis."
   ]
  },
  {
   "cell_type": "markdown",
   "metadata": {},
   "source": [
    "### Measurements of quantum states"
   ]
  },
  {
   "cell_type": "markdown",
   "metadata": {},
   "source": [
    "Measuring the entire system of a quantum state is simple, where the probability of measuring one of the cartesian product states is the squared probability amplitude associated with that cartesian product state. \n",
    "\n",
    "Sometimes we want to only do a partial measurement of a quantum state of multiple systems though and this works as one would expect in the classical system. If we have a system XY and measure X, we need to update our probability vector (which holds information about our _belief_ or _knowledge_ of the state, not of the physical state itself) based on our knowledge _after_ measuring X. So now that we know X was measured with state a, we can now just look at Y as a probability vector of only catesian product states ab where a is fixed and then update those probability amplitudes accordingly. Especially in cases where states are entangled, measuring one subset of the system causes us to update our probability vector of the other system which can result in a \"collapsing\" of the state, meaning it eliminates all possible states except for 1. But this happens in classical systems too...if we have 2 coins, 1 heads up and one tails up, then swap them around a couple times and give one coin to one person the the other coin to another person; then we tell only 1 of the two persons to look at their coin and observe its value which will instantly \"collapse\" the set of possible states for the other person despite them not measuring it themselves."
   ]
  },
  {
   "cell_type": "markdown",
   "metadata": {},
   "source": [
    "### Unitary operations"
   ]
  },
  {
   "cell_type": "markdown",
   "metadata": {},
   "source": [
    "Unitary matrices of quantum systems can always be thought of as the transition probabilities being represented in the ith column of the matrix for the ith initial state. So the transition probabilities for |00> would be in the 0th column whereas the transition probabilities for the |11> would be in the last column.\n",
    "\n",
    "Operations that are both unitary and deterministic are called _reversible_ oeprations. This is why a measurement is not considered a quantum operator because its results are non-deterministic and there's no way to retrieve the original state after performing it.\n",
    "\n",
    "<font color=red>Question:</font> What would a non-deterministic matrix look like?\n",
    "\n",
    "Let's remind ourselves of the trick that we can represent the unitary operation on a multi-system by taking the tensor product of the independent oeprations on each subset. For example, if we have a system XY and wish to apply the Hadamard gate to X and do nothing to Y, then our unitary operator is H $\\otimes$ 1. Mathematically, the tensor product also gives us the correct size matrix we need for our multisystem state and this matrix is ensured to remain a unitary matrix.\n",
    "\n",
    "However, not every operation can be written as a tensor product of other unitary operations. For instance, the swap and CNOT gates can be described this way. In general, we can have many operations of the type CU which are controlled-unitary where the unitary operator can be anything such as an X, Z, SWAP(Fredkin), or CX (Toffoli).\n"
   ]
  },
  {
   "cell_type": "markdown",
   "metadata": {},
   "source": [
    "## Code Examples"
   ]
  },
  {
   "cell_type": "code",
   "execution_count": 2,
   "metadata": {},
   "outputs": [],
   "source": [
    "from qiskit.quantum_info import Statevector, Operator"
   ]
  },
  {
   "cell_type": "markdown",
   "metadata": {},
   "source": [
    "### Tensor products"
   ]
  },
  {
   "cell_type": "code",
   "execution_count": 6,
   "metadata": {},
   "outputs": [
    {
     "data": {
      "text/latex": [
       "$$ |01\\rangle$$"
      ],
      "text/plain": [
       "<IPython.core.display.Latex object>"
      ]
     },
     "execution_count": 6,
     "metadata": {},
     "output_type": "execute_result"
    }
   ],
   "source": [
    "# First define some state vectors\n",
    "zero = Statevector.from_label('0')\n",
    "one = Statevector.from_label('1')\n",
    "\n",
    "# We can  use the .tensor method to return the new `Statevector`(|0⟩⊗|1⟩)\n",
    "zero.tensor(one).draw('latex')"
   ]
  },
  {
   "cell_type": "code",
   "execution_count": 5,
   "metadata": {},
   "outputs": [
    {
     "data": {
      "text/latex": [
       "$$\\frac{1}{2} |00\\rangle+\\frac{i}{2} |01\\rangle+\\frac{1}{2} |10\\rangle+\\frac{i}{2} |11\\rangle$$"
      ],
      "text/plain": [
       "<IPython.core.display.Latex object>"
      ]
     },
     "execution_count": 5,
     "metadata": {},
     "output_type": "execute_result"
    }
   ],
   "source": [
    "import numpy as np\n",
    "\n",
    "plus = Statevector.from_label('+')\n",
    "i_state = Statevector([1/np.sqrt(2), 1j/np.sqrt(2)])\n",
    "\n",
    "psi = plus.tensor(i_state)\n",
    "psi.draw('latex')"
   ]
  },
  {
   "cell_type": "code",
   "execution_count": 8,
   "metadata": {},
   "outputs": [
    {
     "data": {
      "text/plain": [
       "Operator([[0.+0.j, 0.+0.j, 1.+0.j, 0.+0.j],\n",
       "          [0.+0.j, 0.+0.j, 0.+0.j, 1.+0.j],\n",
       "          [1.+0.j, 0.+0.j, 0.+0.j, 0.+0.j],\n",
       "          [0.+0.j, 1.+0.j, 0.+0.j, 0.+0.j]],\n",
       "         input_dims=(2, 2), output_dims=(2, 2))"
      ]
     },
     "execution_count": 8,
     "metadata": {},
     "output_type": "execute_result"
    }
   ],
   "source": [
    "# Define some operators now by their matrices\n",
    "X = Operator([ [0, 1], [1, 0] ])\n",
    "I = Operator([ [1, 0], [0, 1] ])\n",
    "\n",
    "# We can get the unitary operator that is a tensor product of these two operators\n",
    "# where we will see the output go from 2 2x2s to a 4x4\n",
    "X.tensor(I)"
   ]
  },
  {
   "cell_type": "code",
   "execution_count": 10,
   "metadata": {},
   "outputs": [
    {
     "data": {
      "text/latex": [
       "$$\\frac{i}{2} |00\\rangle+\\frac{1}{2} |01\\rangle+\\frac{i}{2} |10\\rangle+\\frac{1}{2} |11\\rangle$$"
      ],
      "text/plain": [
       "<IPython.core.display.Latex object>"
      ]
     },
     "execution_count": 10,
     "metadata": {},
     "output_type": "execute_result"
    }
   ],
   "source": [
    "# We can now easily have our 2 independent operators (X & I) act on 2 independent states\n",
    "# plus and i_state\n",
    "psi.evolve(I ^ X).draw('latex')"
   ]
  },
  {
   "cell_type": "code",
   "execution_count": 11,
   "metadata": {},
   "outputs": [
    {
     "data": {
      "text/latex": [
       "$$\\frac{1}{2} |00\\rangle+\\frac{i}{2} |01\\rangle+\\frac{i}{2} |10\\rangle+\\frac{1}{2} |11\\rangle$$"
      ],
      "text/plain": [
       "<IPython.core.display.Latex object>"
      ]
     },
     "execution_count": 11,
     "metadata": {},
     "output_type": "execute_result"
    }
   ],
   "source": [
    "# Here is our cnot operator matrix that we can apply to psi as well\n",
    "CNOT = Operator([ [1, 0, 0, 0],\n",
    "                 [0, 1, 0, 0],\n",
    "                 [0, 0, 0, 1],\n",
    "                 [0, 0, 1, 0] ])\n",
    "\n",
    "psi.evolve(CNOT).draw('latex')"
   ]
  },
  {
   "cell_type": "markdown",
   "metadata": {},
   "source": [
    "Note that we have done multiple psi.evolve(...) commands but it appears that these do not change the state of the psi object itself; it only _returns_ a _new_ state vector. Thus, the cell above is based off the state of psi as originally defined and not after applying I ^ X on it."
   ]
  },
  {
   "cell_type": "markdown",
   "metadata": {},
   "source": [
    "### Partial measurements"
   ]
  },
  {
   "cell_type": "code",
   "execution_count": 12,
   "metadata": {},
   "outputs": [
    {
     "data": {
      "text/latex": [
       "$$\\frac{\\sqrt{3}}{3} |001\\rangle+\\frac{\\sqrt{3}}{3} |010\\rangle+\\frac{\\sqrt{3}}{3} |100\\rangle$$"
      ],
      "text/plain": [
       "<IPython.core.display.Latex object>"
      ]
     },
     "execution_count": 12,
     "metadata": {},
     "output_type": "execute_result"
    }
   ],
   "source": [
    "# First we can define our state W\n",
    "W = Statevector([0, 1, 1, 0, 1, 0, 0, 0]/np.sqrt(3))\n",
    "W.draw('latex')"
   ]
  },
  {
   "cell_type": "code",
   "execution_count": 15,
   "metadata": {},
   "outputs": [
    {
     "name": "stdout",
     "output_type": "stream",
     "text": [
      "Measured: 0\n",
      "State after measurement:\n"
     ]
    },
    {
     "data": {
      "text/latex": [
       "$$\\frac{\\sqrt{2}}{2} |010\\rangle+\\frac{\\sqrt{2}}{2} |100\\rangle$$"
      ],
      "text/plain": [
       "<IPython.core.display.Latex object>"
      ]
     },
     "execution_count": 15,
     "metadata": {},
     "output_type": "execute_result"
    }
   ],
   "source": [
    "# Now lets only measure qubit 0 (the rightmost qubit)\n",
    "result, new_sv = W.measure([0])\n",
    "\n",
    "# Run this cell a few times but you'll see that if 1 is measured, then W is updated \n",
    "# to be the only possibility it can be: 001. However if 0 is measured, then it updates\n",
    "# to reflect that it still could be 010 or 100 with the updated probabilities\n",
    "print(f'Measured: {result}\\nState after measurement:')\n",
    "new_sv.draw('latex')"
   ]
  }
 ],
 "metadata": {
  "kernelspec": {
   "display_name": "Python 3",
   "language": "python",
   "name": "python3"
  },
  "language_info": {
   "codemirror_mode": {
    "name": "ipython",
    "version": 3
   },
   "file_extension": ".py",
   "mimetype": "text/x-python",
   "name": "python",
   "nbconvert_exporter": "python",
   "pygments_lexer": "ipython3",
   "version": "3.9.17"
  },
  "orig_nbformat": 4
 },
 "nbformat": 4,
 "nbformat_minor": 2
}
