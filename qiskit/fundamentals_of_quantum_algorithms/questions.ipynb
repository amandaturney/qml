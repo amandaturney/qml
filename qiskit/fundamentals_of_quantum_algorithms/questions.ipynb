{
 "cells": [
  {
   "cell_type": "markdown",
   "metadata": {},
   "source": [
    "# Questions/Topics"
   ]
  },
  {
   "cell_type": "markdown",
   "metadata": {},
   "source": [
    "## Quantum Query Algorithms"
   ]
  },
  {
   "cell_type": "markdown",
   "metadata": {},
   "source": [
    "1. Is it coincidence that the circuits that have CNOTs are the balanced ones and the ones without a mult-qubit gate are the constant functions? Or is that another example of the encoding on the problem tends to reveal the solution as we discussed with Grovers search?"
   ]
  },
  {
   "cell_type": "markdown",
   "metadata": {},
   "source": [
    "## Algorithmic Foundations"
   ]
  },
  {
   "cell_type": "markdown",
   "metadata": {},
   "source": [
    "1. Its interesting how the word \"copy\" is used for the behavior of the CNOT in the \"cleaning up the garbage\" quantum circuit. How does this reconcile with the no-cloning theorem?"
   ]
  },
  {
   "cell_type": "markdown",
   "metadata": {},
   "source": [
    "## Phase Estimation and Factoring"
   ]
  },
  {
   "cell_type": "markdown",
   "metadata": {},
   "source": [
    "1. In the N=2 case, we see that the QFT is the Hadamard, which makes sense because we have often referred to the action of applying the Hadamard and then measuring as \"measuring in the Hadamard basis\". So now we have these 2 bases covering the 2-dimensional space but what makes them special? Like given the standard basis vector, there are an infinitesmal number of orthonormal basis vectors that could have been chosen but why did QFT2 identify the Hadamard? Like does it satisfy some special mathematical quality as minimizing the dot product with the standard basis vectors or someting? I guess my same question applies to the case of N=3 or N=4...what makes these bases special?\n",
    "\n",
    "2. The qiskit course goes through a whole section of how to algorithmically construct a QFT circuit and while I could follow along the steps, I don't have a good intuition for why they did what they did. Is there some way to physically/spatially describe it so that its more than just math?\n",
    "\n",
    "3. In Shor's algorithm, the qiskit course first identified a single eigenvector of $M_a$ as below but it isn't obvious to me how/where they got that. Can we go through the math to understand where they so easily determined this was an eigenvector of that matrix?\n",
    "\n",
    "$\\ket{\\psi_0} = \\frac{\\ket{1} + \\ket{a} + ... + \\ket{a^{r-1}}}{\\sqrt{r}}$\n"
   ]
  }
 ],
 "metadata": {
  "language_info": {
   "name": "python"
  },
  "orig_nbformat": 4
 },
 "nbformat": 4,
 "nbformat_minor": 2
}
