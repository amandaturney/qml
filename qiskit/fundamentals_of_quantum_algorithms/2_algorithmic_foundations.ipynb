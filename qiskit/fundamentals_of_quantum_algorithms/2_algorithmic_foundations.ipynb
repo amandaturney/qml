{
 "cells": [
  {
   "cell_type": "markdown",
   "metadata": {},
   "source": [
    "# Algorithmic Foundations"
   ]
  },
  {
   "cell_type": "markdown",
   "metadata": {},
   "source": [
    "Below are notes from each section of the qiskit course documentation found on this page: https://learn.qiskit.org/course/algorithms/algorithmic-foundations"
   ]
  },
  {
   "cell_type": "markdown",
   "metadata": {},
   "source": [
    "## Introduction"
   ]
  },
  {
   "cell_type": "markdown",
   "metadata": {},
   "source": [
    "We saw clear advantages of quantum over classical in the query model - but all of these had the form of an input function coming in the form of an oracle or a black box versus something that we are explicitly. Thus in the latter case, can we still show quantum advantage?"
   ]
  },
  {
   "cell_type": "markdown",
   "metadata": {},
   "source": [
    "## Two examples: factoring and GCDs"
   ]
  },
  {
   "cell_type": "markdown",
   "metadata": {},
   "source": [
    "One such problem is the _Integer Factorization_ problem which looks like the following:\n",
    "\n",
    "Input: an integer $N \\ge 2$ <br>\n",
    "Output: the prime factorization of $N$\n",
    "\n",
    "where the _prime factorization_ of $N$ means a list of prime factors of $N$ and the powers to which they must be raised to obtain $N$ by multiplication. For instance, the prime factors of 12 are 2 and 3 where 12 = 2 x 2 x 3. For each positive integer of $N \\ge 2$, there is only one prime factorization which is a fact known as the _fundamental theorem of arithmetic_.\n",
    "\n",
    "While there are some python packages that can help factor numbers, the larger the input the longer it takes to calculate an answer. And for larger values of N, things can become impossibly difficult. For example, there was an RSA Factoring Challenge run by RSA Laboratories from 1991 to 2007 that offered $100,000 to factor a number that had 309 decimal digits but the prize was never collected and its prime factors remain unknown.\n",
    "\n",
    "The fastest known algorithm for factoring large integers is known as the _number field sieve_ and was able to win the RSA250 challenge back in 2020 using thousands of CPU core-years. This is the basis of RSA public-key cryptosystems."
   ]
  },
  {
   "cell_type": "markdown",
   "metadata": {},
   "source": [
    "Another problem is the _Greatest Common Divisor (GCD)_ problem which looks like the following:\n",
    "\n",
    "Input: nonnegative integers $N$ and $M$, at least one of which is positive <br>\n",
    "Output: the greatest common divisor of N and M\n",
    "\n",
    "where the GCD is the largest integer that evenly divides both of them. This problem is easy for computers - we can run it on 2 numbers larger than the RSA1024 each in a blink of an eye. This is possible because we have a very efficient algorithm for computing GCDs known as Euclids algorithm (discovered 2000+ yrs ago)."
   ]
  },
  {
   "cell_type": "markdown",
   "metadata": {},
   "source": [
    "Could there be a fast algorithm then for integer factorization that we just haven't yet discovered? The answer could be yes, although many experts for many years have searched for it."
   ]
  },
  {
   "cell_type": "markdown",
   "metadata": {},
   "source": [
    "## Measuring computational cost"
   ]
  },
  {
   "cell_type": "markdown",
   "metadata": {},
   "source": [
    "### Encodings and input length"
   ]
  },
  {
   "cell_type": "markdown",
   "metadata": {},
   "source": [
    "We'll first focus on the input and output aspects of computational problems and for this lesson, we are limiting to just binary strings (although symbols and other stuff could be considered). Through binary strings, we can encode a variety of interesting objects such as numbers, vectors, matrices, and graphs, as well as lists of these and other objects. Below are some examples:\n",
    "\n",
    "* Binary notation: Encodes nonnegative integers where 100 is 4, 101 is 5, 111 is 7, etc.\n",
    "* Binary notation with sign bit: Encodes positive & negative Integers with an additional _sign bit_ (+ or -)\n",
    "* Unary: Encodes nonnegative integers through 0 vector strings where the length encodes the integer\n",
    "\n",
    "However our inputs/outputs are encoded, we interpret the _length_ of the input string as a representation of the _size_ of the problem instance. Using binary notation, we need $1 + log_2(N)$ bits to represent this value so that is the _size_ of our problem.\n",
    "\n",
    "Computation tasks can be viewed as abstractly transforming input binary strings to output binary strings and at that point, we have already selected the encoding scheme. Thus the encoding scheme is important to the computations at some level. However, we assume"
   ]
  },
  {
   "cell_type": "markdown",
   "metadata": {},
   "source": [
    "### Elementary operations"
   ]
  },
  {
   "cell_type": "markdown",
   "metadata": {},
   "source": [
    "Elementary operations are operations that involve a small, fixed number of bits/qubits that can be performed quickly and easily. For circuit based models of computation, it is typical that each _gate_ is viewed as an elementary operation. Qiskit is going to adopt the following as the default gate set for quantum circuits: $X, Y, Z, H, S, S^{\\dagger}, T, T^{\\dagger}, CNOT$, and standard basis measurements. However, sometimes people view Toffoli, Hadamard, S gates, and standard basis measurements as being elementary.\n",
    "\n",
    "The unitary gates in the default set listed above are called the _universal_ gate set. This means that any unitary operation can be approximated on any number of qubits and to any degree of accuracy with circuits composed of these gates alone. So this just basically means that any state can be created using however many gates from this set as you want given the precision you're looking for.\n",
    "\n",
    "For Boolean circuits, the elementary operations are: AND, OR, NOT, and FANOUT. These form a universal set for deterministic computations meaning that any function from any fixed number of input bits to a fixed numberof output bits can be implemented with these gates."
   ]
  },
  {
   "cell_type": "markdown",
   "metadata": {},
   "source": [
    "An important aspect of quantum circuits is the idea of deferred measurement. Ideally, we don't want to be making measurements in the mdidle of our circuit; its just easier to have our quantum computations consist of a completely unitary part followed by a read-out measurement phase at the end. This can always be done provided we're willing to add an additional qubit for each measurement. Look at the circuits below: the left makes an instant measurement and writes to a classical bit (represented by double lined wires on the bottom) whereas the circuit on the right can be seen as \"writing the value of a qubit to another qubit\" and then we can continue using the initial qubit and can measure the other one later.\n",
    "\n",
    "![image deferred-measurment](./deferred-measurement.png)"
   ]
  },
  {
   "cell_type": "markdown",
   "metadata": {},
   "source": [
    "### Circuit size and depth"
   ]
  },
  {
   "cell_type": "markdown",
   "metadata": {},
   "source": [
    "The total number of gates within a circuiit is the circuit's size and thus its _computational cost_, represented by size(C). The number of gates/elementary operations is meant to be a proxy for the time it will take to perform a computation. But this isn't always a perfect proportion because sometimes gates can be performed in parallel leading to bigger circuits being run faster than smaller circuits if there is more parallelization available. Thus, a different way to measure efficiency for circuits is to measure their _depth_, which is the minimum number of layers of gates needed within the circuit. This is also the maximum number of gates encountered on any path from an input wire to an output wire."
   ]
  },
  {
   "cell_type": "markdown",
   "metadata": {},
   "source": [
    "Another aspect to our measurement cost is the cost of each individual gate. Up to now, we have assumed that its a uniform cost for each operation but that isn't always true. In our Boolean circuits, FANOUT gates are typically viewed as being free and having actually 0 cost. In our query models in the last section, we gave a unit cost for each query of the input function but said every other operation (such as the Hadamards before and after the query) was free. Lastly, on some hardware, some gates are more expensive than others. So while it is not necessarily true to say all elementary gates have the same cost, we'll keep to simpler models of computational cost."
   ]
  },
  {
   "cell_type": "markdown",
   "metadata": {},
   "source": [
    "### Cost as a function of input length"
   ]
  },
  {
   "cell_type": "markdown",
   "metadata": {},
   "source": [
    "We are primarily interested ini how computational costs scale as inputs become larger and larger. Thus we want to represent the cost of algorithms as a _function_ of the input length. We are ultimately looking for $t(n) = siize(C_n)$ where $t(n)$ is the computational cost of the circuit where our input has a length of n.\n",
    "\n",
    "If we consider the case of addition for a boolean circuit, it can be worked out that we need 21*n - 11 gates to implement for 2 nonnegative integers of size n-bits consider the set of default gates assigned above. Thus, this circuit grows linearly with the length of our input.\n",
    "\n",
    "While the specific number of gates (21n-11) is great, we typically don't look at complexity with that much detail and instead we just look at their _order_ size, whiich is known as _Big-O_ notation. Formally, we say that given 2 functions $g(n)$ and $h(n)$, then $g(n) = O(h(n))$ if there exists a positive real number $c \\gt 0$ and a positive integer $n_0$ such that:\n",
    "\n",
    "$g(n) \\le c \\cdot h(n)$\n",
    "\n",
    "for all $n \\ge n_0$. Typically, $h(n)$ is chosen to be as simple as possible for the statement to hold true. So given $17n^3 - 257n^2 + 65537$, we say its $O(n^3)$. This generality allows us to observe what we saw before with the addition Boolean circuit: it scales linearly. This statement is true whether we consider XOR gates as elementary or not, FANOUTS as not, etc; it still is linear and thus this level of complexity analysis is not sensitive to low level details like that.\n",
    "\n",
    "<font color=orange>Algorithms that have a **polynomial** cost are of the form O(n^c) for some choice of a fixed constant c > 0.</font> In general, algorithms that have a polynomial cost are viewed as representing _efficient_ algorithms. <font color=orange>Algorithms that have an **exponential** cost have the form 0(2^n).</font> Examples of this include the classical algorithms for integer factoring. The so-called _NP-complete_ problems are a class of problems not known to (and widely conjectured not to) have polynomial-cost algorithms and the _exponential-time hypothesis_ posits that no NP-complete problem can have a sub-exponential cost algorithm.\n",
    "\n",
    "When it comes to quantum advantages, there tends to be a focus on exponential, or at least super-polynomial, classical algorithms and finding a polynomial quantum algorithm for the max quantum advantage to be seen. At this scale of benefit, there is the greatest chances of actual practical advantages but this is very difficult and only a few examples have been found. However, even quantum algorithms that offer polynomial improvements over classical algorithms are still important."
   ]
  },
  {
   "cell_type": "markdown",
   "metadata": {},
   "source": [
    "One final cost of circuit computation is the cost associated with the pattern of the circuits themselves. For example, the description of each member $C_n$ in a circuit family could be determined by some extremely difficult to compute function of $n$. This is definitely a problem and thus this course only introduces families of circuits that have _uniformity_ meaning they are computationally easy to obtain the descriptoin of each circuit in a family. So while a circuit could be simply to run, it could be very computationally difficult to describe and that is the cost that we are 1) ignorinig here and 2) assuming is low and neglible."
   ]
  },
  {
   "cell_type": "markdown",
   "metadata": {},
   "source": [
    "## Classical computations on quantum computers"
   ]
  },
  {
   "cell_type": "markdown",
   "metadata": {},
   "source": [
    "### Simulating Boolean circuits with quantum circuits"
   ]
  },
  {
   "cell_type": "markdown",
   "metadata": {},
   "source": [
    "Boolean circuits are composed of AND, OR, NOT, and FANOUT gates. We can convert each of these to quantum gates using the set of quantum operators of NOT, CNOT, and Toffoli gates.\n",
    "\n",
    "Toffoli gates are CCX gates and work similarly to the AND gate but since they're not a part of our default elementary set, we can construct them using H, T, Tdagger, and CNOT. "
   ]
  },
  {
   "cell_type": "code",
   "execution_count": 1,
   "metadata": {},
   "outputs": [
    {
     "data": {
      "image/png": "[encoded data removed]",
      "text/plain": [
       "<Figure size 1040x284.278 with 1 Axes>"
      ]
     },
     "metadata": {},
     "output_type": "display_data"
    },
    {
     "data": {
      "text/latex": [
       "$$\n",
       "\n",
       "\\begin{bmatrix}\n",
       "1 & 0 & 0 & 0 & 0 & 0 & 0 & 0  \\\\\n",
       " 0 & 1 & 0 & 0 & 0 & 0 & 0 & 0  \\\\\n",
       " 0 & 0 & 1 & 0 & 0 & 0 & 0 & 0  \\\\\n",
       " 0 & 0 & 0 & 0 & 0 & 0 & 0 & 1  \\\\\n",
       " 0 & 0 & 0 & 0 & 1 & 0 & 0 & 0  \\\\\n",
       " 0 & 0 & 0 & 0 & 0 & 1 & 0 & 0  \\\\\n",
       " 0 & 0 & 0 & 0 & 0 & 0 & 1 & 0  \\\\\n",
       " 0 & 0 & 0 & 1 & 0 & 0 & 0 & 0  \\\\\n",
       " \\end{bmatrix}\n",
       "$$"
      ],
      "text/plain": [
       "<IPython.core.display.Latex object>"
      ]
     },
     "execution_count": 1,
     "metadata": {},
     "output_type": "execute_result"
    }
   ],
   "source": [
    "from qiskit import QuantumCircuit\n",
    "from qiskit.quantum_info import Statevector, Operator\n",
    "from qiskit.visualization import array_to_latex\n",
    "\n",
    "Toffoli = QuantumCircuit(3)\n",
    "\n",
    "Toffoli.h(2)\n",
    "Toffoli.cx(1, 2)\n",
    "Toffoli.tdg(2)\n",
    "Toffoli.cx(0, 2)\n",
    "Toffoli.t(2)\n",
    "Toffoli.cx(1, 2)\n",
    "Toffoli.tdg(2)\n",
    "Toffoli.cx(0, 2)\n",
    "Toffoli.t(1)\n",
    "Toffoli.t(2)\n",
    "Toffoli.cx(0, 1)\n",
    "Toffoli.t(0)\n",
    "Toffoli.tdg(1)\n",
    "Toffoli.h(2)\n",
    "Toffoli.cx(0, 1)\n",
    "\n",
    "display(Toffoli.draw())\n",
    "U = Operator(Toffoli)\n",
    "\n",
    "array_to_latex(U)"
   ]
  },
  {
   "cell_type": "markdown",
   "metadata": {},
   "source": [
    "A Tofolli gate can be combined with some NOT gates to also create the equivalent of an OR gate. FANOUT gates are easily implemented by CNOT gates in the same way that the _deferred measurement_ was done. Lastly, NOT gates are implemented through an NOT unitary operator (X gate). Ultimately, we can take a classical Boolean circuit (left) and convert it to a quantum circuit (right) where we have our input state $\\ket{x}$ in the top n qubits and $\\ket{f(x)}$ encoded in the top n qubits after the circuit is run, as well as k workspace qubits on the bottom that we can mostly disregard.\n",
    "\n",
    "![image circuits](./reversible-circuit-simulation.png)\n",
    "\n",
    "<font color=orange>A swap gate can be implemented with 3 CNOTs in a row with target, contol like (1,0), (0, 1), (1, 0).</font> The qiskit course brought this up regarding f(x) being on the top n qubits and the workspace qubits being on the bottom k qubits but I'm making note of this because it's an interesting observation."
   ]
  },
  {
   "cell_type": "markdown",
   "metadata": {},
   "source": [
    "### Cleaning up the garbage"
   ]
  },
  {
   "cell_type": "markdown",
   "metadata": {},
   "source": [
    "If all we want our circuit to do is compute f(x), then the above quantum circuit is fine. However, if we wish to use it as a subroutine, then we need to clean up the \"garbage\" or the stuff encoded in the workspace qubits because otherwise, they will interfere with other components of the overall computational routine/circuit. This is pretty straightforward for a quantum circuit because all we need to do to \"clean up the garbage\" is to reset the workspace by running the circuit in reverse on them. What this becomes then is the addition of _another_ m qubits for which we can \"copy\" the output $\\ket{f(x)}$ to using CNOT, and then we can run the reverse of our circuit to get back the final registers of $\\ket{x}, \\ket{0^k}, \\ket{y \\oplus f(x)}$.\n",
    "\n",
    "![image garbage-comp](./garbage-free-computation.png)"
   ]
  },
  {
   "cell_type": "markdown",
   "metadata": {},
   "source": [
    "If our classical algorithm has t gates, then the circuit above has O(t) gates so its a linear scale of t. In the circuit above, if we ignore the k qubits for the workspace, it looks like a query gate. We can use it such that if we encode an input x into the top register and have the y register be all 0s, when we run the circuit, we'll get f(x) on the bottom m qubits. Or we could encode the y register to be something different to maybe take advantage of phase kickback like in Deutsch's or Deutsch-Jozsa algorithm. This shows that any query algorithm that can be computed on a Boolean circuiit can be converted to a unitary implementation."
   ]
  },
  {
   "cell_type": "markdown",
   "metadata": {},
   "source": [
    "<font color=red>Comment: </font>It's interesting to see qiskit (and even myself earlier) use the word \"copy\" for the middle part of the circuit shown above with all the CNOTs considering the no-copy/cloning theorem. But its hard _not_ to describe it as copying."
   ]
  }
 ],
 "metadata": {
  "kernelspec": {
   "display_name": "Python 3",
   "language": "python",
   "name": "python3"
  },
  "language_info": {
   "codemirror_mode": {
    "name": "ipython",
    "version": 3
   },
   "file_extension": ".py",
   "mimetype": "text/x-python",
   "name": "python",
   "nbconvert_exporter": "python",
   "pygments_lexer": "ipython3",
   "version": "3.9.17"
  },
  "orig_nbformat": 4
 },
 "nbformat": 4,
 "nbformat_minor": 2
}
