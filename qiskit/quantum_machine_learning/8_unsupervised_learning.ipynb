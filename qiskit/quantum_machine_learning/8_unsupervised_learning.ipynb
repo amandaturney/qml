{
 "cells": [
  {
   "cell_type": "markdown",
   "metadata": {},
   "source": [
    "# Unsupervised learning"
   ]
  },
  {
   "cell_type": "markdown",
   "metadata": {},
   "source": [
    "Below are notes from each section of the qiskit course documentation found on this page: https://learn.qiskit.org/course/machine-learning/unsupervised-learning"
   ]
  },
  {
   "cell_type": "markdown",
   "metadata": {},
   "source": [
    "Unsupervised learning is the ML task of finding and learning patterns and trends in data based on only unlabelled data. There are a number of different classical and quantum algorithms for different unsupervised learning tasks that include PCA, clustering, variational autoencoders, and generative adversarial networks."
   ]
  },
  {
   "cell_type": "markdown",
   "metadata": {},
   "source": [
    "## Quantum generative adversarial networks"
   ]
  },
  {
   "cell_type": "markdown",
   "metadata": {},
   "source": [
    "There has been a large focus recently in research on quantum analogues of GANs. Given a set of data (classical or quantum) from a probability distribution $P_{real}$, GANs train a generator, $G_{\\theta}$, and discriminator, $D_{\\phi}$, simultaneously create samples from $P_G$ that are indistinguishable from $P_real$. This model is coverred in more detail in the next page."
   ]
  }
 ],
 "metadata": {
  "language_info": {
   "name": "python"
  },
  "orig_nbformat": 4
 },
 "nbformat": 4,
 "nbformat_minor": 2
}
