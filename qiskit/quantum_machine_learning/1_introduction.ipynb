{
 "cells": [
  {
   "cell_type": "markdown",
   "metadata": {},
   "source": [
    "# Introduction"
   ]
  },
  {
   "cell_type": "markdown",
   "metadata": {},
   "source": [
    "Below are notes from each section of the qiskit course documentation found on this page: https://learn.qiskit.org/course/machine-learning/introduction"
   ]
  },
  {
   "cell_type": "markdown",
   "metadata": {},
   "source": [
    "## Machine Learning (ML)"
   ]
  },
  {
   "cell_type": "markdown",
   "metadata": {},
   "source": [
    "Fields of quantum machine learning:\n",
    "\n",
    "* Supervised learning: given tuples of labeled data (x, y), aim to learn the function that maps x to y and generalizes to unseen inputs\n",
    "* Unsupervised learning: given a collection of unlabeled data (x), aim to learn some structure of the data; for example, grouping/clustering\n",
    "* Reinforcement learning: given access to an environment that rewards based on actions, aim to maximize the expected reward, for example, learning to play a game"
   ]
  },
  {
   "cell_type": "markdown",
   "metadata": {},
   "source": [
    "## Quantum Machine Learning (QML)"
   ]
  },
  {
   "cell_type": "markdown",
   "metadata": {},
   "source": [
    "QML is broken down into 4 areas based on whether the data is classical or quantum, and whether the algorithms are run on classical or quantum resources. In this context. quantum datasets are observations from a natural or artificial quantum system whereas classical dataset is observations such as time series, text, or images.\n",
    "\n",
    "* CC: classical data & classical computers, uses algorithms inspired by quantum computing\n",
    "* CQ: classical data & quantum algorithms and is what this chapter focuses on\n",
    "* QC: quantum data & classical computers\n",
    "* QQ: quantum data & quantum algorithms, very much in its infancy"
   ]
  }
 ],
 "metadata": {
  "language_info": {
   "name": "python"
  },
  "orig_nbformat": 4
 },
 "nbformat": 4,
 "nbformat_minor": 2
}
