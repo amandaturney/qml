{
 "cells": [
  {
   "cell_type": "markdown",
   "metadata": {},
   "source": [
    "# Supervised Learning"
   ]
  },
  {
   "cell_type": "markdown",
   "metadata": {},
   "source": [
    "Below are notes from each section of the qiskit course documentation found on this page: https://learn.qiskit.org/course/machine-learning/supervised-learning"
   ]
  },
  {
   "cell_type": "markdown",
   "metadata": {},
   "source": [
    "Supervised learning is the ML task of learning a function that maps an input to an output based on example input-output pairs. There are 2 type of problems in supervised learning:\n",
    "\n",
    "* <b>Classification</b> where data is assigned a category\n",
    "* <b>Regression</b> where a relationship is learned between dependent and independent variables\n",
    "\n",
    "The majority of QML research in supervised learning has been on classification."
   ]
  },
  {
   "cell_type": "markdown",
   "metadata": {},
   "source": [
    "## Quantum variational classification"
   ]
  },
  {
   "cell_type": "markdown",
   "metadata": {},
   "source": [
    "The general procedure for QVC is to first encode datapoints from a classical dataset into the quantum states using a quantum feature map. Those states are then processed with a parameterized quantum circuit, $W(\\theta)$. The parameters of the quantum model are optimized such that the resultant state matches the target state $\\ket{y_i}$ where $y_i$ is the label of the training points.\n",
    "\n",
    "This is discussed in further detail in next section."
   ]
  },
  {
   "cell_type": "markdown",
   "metadata": {},
   "source": [
    "## Quantum kernel estimation"
   ]
  },
  {
   "cell_type": "markdown",
   "metadata": {},
   "source": [
    "The general procedure for QKE is that datapoints are encoded into a quantum state using a quantum feature map. The inner product of two quantum encoded quantum states defines a kernel which is analogous to a kernel in classical machine learning.\n",
    "\n",
    "This is covered in more detail in 2 sections ahead."
   ]
  }
 ],
 "metadata": {
  "language_info": {
   "name": "python"
  },
  "orig_nbformat": 4
 },
 "nbformat": 4,
 "nbformat_minor": 2
}
