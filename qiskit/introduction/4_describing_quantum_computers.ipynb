{
 "cells": [
  {
   "cell_type": "markdown",
   "metadata": {},
   "source": [
    "# Describing Quantum Computers"
   ]
  },
  {
   "cell_type": "markdown",
   "metadata": {},
   "source": [
    "Below are notes from each section of the qiskit course documentation found on this page: https://learn.qiskit.org/course/introduction/describing-quantum-computers"
   ]
  },
  {
   "cell_type": "markdown",
   "metadata": {},
   "source": [
    "## Amplitudes"
   ]
  },
  {
   "cell_type": "markdown",
   "metadata": {},
   "source": [
    "Probability amplitudes have both a magnitude and a direction. A natural candidate for describing such a system is a complex number. As a reminder, the amplitude's magnitude squared is the probability."
   ]
  },
  {
   "cell_type": "markdown",
   "metadata": {},
   "source": [
    "## State vectors"
   ]
  },
  {
   "cell_type": "markdown",
   "metadata": {},
   "source": [
    "A state vector is a vector of length 2^n that keeps track of the 2^n possible outcomes of n qubits and their probability amplitudes after each computation. Below is an example of a state vector for a quantum computer with two qubits:\n",
    "\n",
    "$|x> := [\\sqrt{1/2}, \\sqrt{1/2}, 0, 0]$\n",
    "\n",
    "which describes our state (ket) x as having a probability ampltide of square root of 1/2 for 00 and 01 and 0 for 10 and 11. We can also say that these qubits have a _probability_ of being measured in state 00 of 1/2."
   ]
  },
  {
   "cell_type": "markdown",
   "metadata": {},
   "source": [
    "## Adding and multiplying vectors"
   ]
  },
  {
   "cell_type": "markdown",
   "metadata": {},
   "source": [
    "While vectors were introduced as a \"list of numbers\", they are bit more special than that as they follow some rules. A vector multiplied by a scalar means that each element within the vector gets multiplied by that scalar. Therefore, we could have rewritten our state vector for |x> above as follows:\n",
    "\n",
    "$|x> = \\sqrt{1/2}[1, 1, 0, 0]$"
   ]
  },
  {
   "cell_type": "markdown",
   "metadata": {},
   "source": [
    "Two vectors can also be added together but only if they are of the same length and will give back a new vector of the same length as the two inputs. The resulting vector has elements that are the addition of the corresponding elements of the two inputs. For example:\n",
    "\n",
    "$[a_0, a_1, ..., a_n] + [b_0, b_1, ..., b_n] = [a_0+b_0, a_1+b_1, ..., a_n+b_n]$\n",
    "\n",
    "This means we can add and subtract vectors to create new vectors. For example, if we define the vectors |00> and |01> like below:\n",
    "\n",
    "$|00> := [1, 0, 0, 0]$<br>\n",
    "$|01> := [0, 1, 0, 0]$\n",
    "\n",
    "Then we  can write |x> in the form:\n",
    "\n",
    "$|x> = \\sqrt{1/2}(|00> + |01>)$"
   ]
  },
  {
   "cell_type": "markdown",
   "metadata": {},
   "source": [
    "<font color=orange>We call adding quantum states like this **superposing** them so we can say |x> is a superposition of the states |00> and |01>.</font> Its actually convention in quantum computing to define the _computational basis_ states like so:\n",
    "\n",
    "$|00> := [1, 0, 0, 0]$<br>\n",
    "$|01> := [0, 1, 0, 0]$<br>\n",
    "$|10> := [0, 0, 1, 0]$<br>\n",
    "$|11> := [0, 0, 0, 1]$<br>\n",
    "\n",
    "and thus we can write any quantum state as a superposition of these state vectors in the form of:\n",
    "\n",
    "$|\\psi> = a_{00}|00> + a_{01}|01> + a_{10}|10> + a_{11}|11>$\n",
    "\n",
    "For sigle qubits, a popular basis is formed by the vectors |+> and |-> which are defined below:\n",
    "\n",
    "$|+> = \\sqrt{1/2}[1, 1]$<br>\n",
    "$|-> = \\sqrt{1/2}[1, -1]$"
   ]
  },
  {
   "cell_type": "markdown",
   "metadata": {},
   "source": [
    "## How many different state vectors are there?"
   ]
  },
  {
   "cell_type": "markdown",
   "metadata": {},
   "source": [
    "A valid state vector must have amplitudes that have a square sum equal to 1. In other words:\n",
    "\n",
    "$\\Sigma a_i^2 = 1$"
   ]
  },
  {
   "cell_type": "markdown",
   "metadata": {},
   "source": [
    "Another aspect of state vectors are \"global phases\". We only know phases exist because of the interference behavior between multiple quantum objects. Therefore, we can only ever meausre phase _differences_. There is no way to measure phase directly from a quantum object. Thus, $|a> = \\sqrt{1/2}[1, 0, 0, 1]$ and $-|a> =\\sqrt{1/2}[-1, 0, 0, -1]$ look identical for all intents and purposes because the differences between each of the amplitudes is the same. They are mathematically different but physicall the same."
   ]
  },
  {
   "cell_type": "markdown",
   "metadata": {},
   "source": [
    "## Quantum operations"
   ]
  },
  {
   "cell_type": "markdown",
   "metadata": {},
   "source": [
    "Quantum operations describe the _transition amplitude_ for each starting state and end state of the qubits. For a system of n qubits, there are 2^n possible states. A quantum operation should describe the transition amplitudes of how those 2^n possible starting states get mapped to the 2^n possible output states. Thus, our quantum operation needs to hold (2^n)^2 values. For instance, for 2 qubits, a quantum operation should have (2^2)^2 = 16 values. One such example is the CNOT gate:\n",
    "\n",
    "$CNOT = \\begin{bmatrix} 1 & 0 & 0 & 0 \\\\ 0 & 0 & 0 & 1 \\\\ 0 & 0 & 1 & 0 \\\\ 0 & 1 & 0 & 0 \\end{bmatrix}$\n",
    "\n",
    "which if we map each row in our state vector to each column, we see tha 00 gets mapped to 00 as shown by the first column; an input of 01 gets mapped to 11 as shown by the second column; the state 10 gets mapped to 10; and the state 11 gets mapped to 01. In this matrix, the target qubit is the first and the control is the second qubit.\n",
    "\n",
    "The Hadamard gate, which was discussed in previous pages, is represented by the following matrix of transition amplitudes:\n",
    "\n",
    "$H = \\sqrt{\\frac{1}{2}}\\begin{bmatrix} 1 & 1 \\\\ 1 & -1 \\end{bmatrix}$\n",
    "\n",
    "Quantum operations mathematically look like matrix-vector multiplication. The probability amplitudes of our state vector get multiplied by the transition amplitudes of our quantum operators, resulting in a new state vector that describes the possible set of outcomes after the quanum operation."
   ]
  },
  {
   "cell_type": "markdown",
   "metadata": {},
   "source": [
    "## Rules of quantum operations"
   ]
  },
  {
   "cell_type": "markdown",
   "metadata": {},
   "source": [
    "Seeing as our quantum operators contain transition amplitudes, it makes sense that the total probability of the output state must equal 1. For example, the below matrix could not be a real quantum operator because the sum of the first column is 2 and the sum of the second column is 0.\n",
    "\n",
    "$\\begin{bmatrix} 1 & 0 \\\\ 1 & 0 \\end{bmatrix}$\n",
    "\n",
    "To preserve the total probability in all cases, <font color=orange>quantum operators need to be **reversible** meaning that the gates can be performed backwards to 'undo' them and return back to the initial state.</font> Matrices with this property are **unitary**."
   ]
  }
 ],
 "metadata": {
  "kernelspec": {
   "display_name": "Python 3",
   "language": "python",
   "name": "python3"
  },
  "language_info": {
   "codemirror_mode": {
    "name": "ipython",
    "version": 3
   },
   "file_extension": ".py",
   "mimetype": "text/x-python",
   "name": "python",
   "nbconvert_exporter": "python",
   "pygments_lexer": "ipython3",
   "version": "3.9.17"
  },
  "orig_nbformat": 4
 },
 "nbformat": 4,
 "nbformat_minor": 2
}
