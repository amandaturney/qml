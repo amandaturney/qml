{
 "cells": [
  {
   "cell_type": "markdown",
   "metadata": {},
   "source": [
    "# Why Quantum Computing?"
   ]
  },
  {
   "cell_type": "markdown",
   "metadata": {},
   "source": [
    "Below are notes from each section of the qiskit course documentation found on this page: https://learn.qiskit.org/course/introduction/why-quantum-computing"
   ]
  },
  {
   "cell_type": "code",
   "execution_count": 1,
   "metadata": {},
   "outputs": [],
   "source": [
    "import qiskit"
   ]
  },
  {
   "cell_type": "markdown",
   "metadata": {},
   "source": [
    "## What is a computer?"
   ]
  },
  {
   "cell_type": "markdown",
   "metadata": {},
   "source": [
    "A computer can look like a lot of things: a laptop, a phone, systems controlliing traffic lights, etc. Some of the machines are more generalized and used for a wide range of things whereas some are very complex and highly specialized. But what they all have in common is that _all computers carry out a set of instructions on some input information and give back some new (output) information_. \n",
    "\n",
    "<font color=orange>The specific and unambiguous instructions given to a computer are called an **algorithm**</font>, which is an active area of research in computer science."
   ]
  },
  {
   "cell_type": "markdown",
   "metadata": {},
   "source": [
    "## Classifying computer algorithms"
   ]
  },
  {
   "cell_type": "markdown",
   "metadata": {},
   "source": [
    "One important way to describe and compare algorithms is by their performance. <font color=orange>An algorithm's **complexity** is a description of how the resources (time or space such as computer memory to run) it needs to use grows with the size of the input.</font> \n",
    "\n",
    "The different types of complexity are:\n",
    "\n",
    "* **Constant**: the time the algorithm takes to complete does _not_ depend on the size of the input.\n",
    "    * Ex - algorithm to decide if a number is even or odd only needs to look at the last digit so input size does not affect resources required to compute an output.\n",
    "* **Linear**: the time the algorithm takes grows linearly (proportionally) wiith the size of the input.\n",
    "    * Ex - an addition algorithm that takes two numbers adds them column by column (starting with 1s column, then 10s columns, etc) thus the time is proportional to the size (length/# columns) of the input\n",
    "</br>\n",
    "* **Exponential**: the time the algorithm takes grows exponentially with the length of the input.\n",
    "    * Ex - randomly guessing a d-digit number through brute force requires trying every possible number and thus the time to solve grows proportionally to 10^d where d is the length of the input.\n",
    "\n"
   ]
  },
  {
   "cell_type": "markdown",
   "metadata": {},
   "source": [
    "## Why do we measure algorithms like this?"
   ]
  },
  {
   "cell_type": "markdown",
   "metadata": {},
   "source": [
    "Studying the algorithm itself allows us to isolate and discern if _how_ we are trying to solve the problem is efficient separate from different hardware implementations. This also allows us to determine whether an algorithm will be manageable or not as input sizes scale.\n",
    "\n",
    "For example, if our addition algorithm can add two 10-digit numbers in 1 second then it should be able to add two 20-digit numbers in 2 seconds. So adding two 1000 digit numbers, which are _very_ large values, will only take 100 seconds which is reasonable.\n",
    "\n",
    "On the other hand, a PIN cracking brute-force algorithm may take 1 second to find a 10-digit PIN (10^10 possible numbers with average success after 1/2 tries) but for a 20-digit PIN, this would take 10^20 tries which is 10^10 times more possible inputs and thus 10^10 seconds to crack (~317 years). We can see how easily that scaling this to the same size input as the additional algorithm (1000 digit number) would be an unmanageable/impossible task to carry out.\n",
    "\n",
    "Problems such as this are described as <font color=orange>**intractable**, which is a type of problem that can be solved in theory but requires too many resources in practice.</font> The goal is to find new algorithms that grow more efficiently and that's where quantum computing comes in."
   ]
  },
  {
   "cell_type": "code",
   "execution_count": 8,
   "metadata": {},
   "outputs": [
    {
     "data": {
      "text/plain": [
       "317.09791983764586"
      ]
     },
     "execution_count": 8,
     "metadata": {},
     "output_type": "execute_result"
    }
   ],
   "source": [
    "(10**10)/(60*60*24*365)"
   ]
  },
  {
   "cell_type": "markdown",
   "metadata": {},
   "source": [
    "## How can quantum computing help?"
   ]
  },
  {
   "cell_type": "markdown",
   "metadata": {},
   "source": [
    "Quantum computers are based off quantum physics which describes behavior that computer scientists believe can be exploited for more efficient algorithms. As a result, there are certain problems that are intractable for conventional computers but very manageable for a quantum computer. One example is _integer factorisation_.\n",
    "\n",
    "<font color=orange>**Integer factorisation** of `x` means finiding the integers `p` and `q` such that  `p x q = x`</font>. This becomes very difficult when `x` is the product of two large, prime numbers."
   ]
  },
  {
   "cell_type": "code",
   "execution_count": 9,
   "metadata": {},
   "outputs": [],
   "source": [
    "# A 250-digit number\n",
    "x = 2140324650240744961264423072839333563008614715144755017797754920881418023447140136643345519095804679610992851872470914587687396261921557363047454770520805119056493106687691590019759405693457452230589325976697471681738069364894699871578494975937497937"
   ]
  },
  {
   "cell_type": "markdown",
   "metadata": {},
   "source": [
    "In 2020, researchers were able to factorise this number using a classical supercomputer and ~2700 core-years of processing power. This was a large effort and record breaking at the time of writing. Verification of their results are shown below:"
   ]
  },
  {
   "cell_type": "code",
   "execution_count": 10,
   "metadata": {},
   "outputs": [
    {
     "data": {
      "text/plain": [
       "True"
      ]
     },
     "execution_count": 10,
     "metadata": {},
     "output_type": "execute_result"
    }
   ],
   "source": [
    "p = 64135289477071580278790190170577389084825014742943447208116859632024532344630238623598752668347708737661925585694639798853367\n",
    "q = 33372027594978156556226010605355114227940760344767554666784520987023841729210037080257448673296881877565718986258036932062711\n",
    "\n",
    "p*q == x  # Evaluates to 'True'"
   ]
  },
  {
   "cell_type": "markdown",
   "metadata": {},
   "source": [
    "While not mathematically proven, it is widely believed that there is no efficient algorithm for factoring on classical computers. This is good because much of the internet's encryption relies on this being an intractable problem usnig a 617-digit RSA number. However,  quantum computers _can_ solve this problem efficiently and once the hardware is large enough, it can crack these encryptions in under a day."
   ]
  },
  {
   "cell_type": "markdown",
   "metadata": {},
   "source": [
    "## Where are we now?"
   ]
  },
  {
   "cell_type": "markdown",
   "metadata": {},
   "source": [
    "While quantum computers can carry out more efficient algorithms, they have some limiting factors in their practical use. The first of which is their size: current QCs can only store and work on a small number of qubits which limits the size of problems they can work on. The second issue is the error rate: quantum effects are delicate and thus the QCs are noisy.\n",
    "\n",
    "At the moment, QCs are limited by qubit counts and error rates so the largest problems they can solve can also easily be managed by classical computers. However, as QCs keep being developed and improved, the belief is they will overtake classical computers and there will be a `quantum advantage`. Right now, IBM has a 65-qubit machine and will have a 1000 qubits by 2023. The estimate for solving the 617-digit RSA encryption assumed ~20 million qubits so we're still a while off from that, but this time period could be reminescent of the early days of the first transistor being invented in 1947. Here we are 70 years later with modern computer chips that contain _billions_ of transistors."
   ]
  }
 ],
 "metadata": {
  "kernelspec": {
   "display_name": "Python 3",
   "language": "python",
   "name": "python3"
  },
  "language_info": {
   "codemirror_mode": {
    "name": "ipython",
    "version": 3
   },
   "file_extension": ".py",
   "mimetype": "text/x-python",
   "name": "python",
   "nbconvert_exporter": "python",
   "pygments_lexer": "ipython3",
   "version": "3.9.17"
  },
  "orig_nbformat": 4
 },
 "nbformat": 4,
 "nbformat_minor": 2
}
