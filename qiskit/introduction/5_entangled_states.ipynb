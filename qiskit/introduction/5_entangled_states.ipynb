{
 "cells": [
  {
   "cell_type": "markdown",
   "metadata": {},
   "source": [
    "# Entangled States"
   ]
  },
  {
   "cell_type": "markdown",
   "metadata": {},
   "source": [
    "Below are notes from each section of the qiskit course documentation found on this page: https://learn.qiskit.org/course/introduction/entangled-states"
   ]
  },
  {
   "cell_type": "markdown",
   "metadata": {},
   "source": [
    "## Product and entangled states"
   ]
  },
  {
   "cell_type": "markdown",
   "metadata": {},
   "source": [
    "### Product States"
   ]
  },
  {
   "cell_type": "markdown",
   "metadata": {},
   "source": [
    "Let's look at the state vector for |+0> below:\n",
    "\n",
    "$+0> = \\frac{1}{\\sqrt{2}}\\begin{bmatrix}1 \\\\ 0 \\\\ 1 \\\\ 0 \\end{bmatrix} = \\frac{1}{\\sqrt{2}}(|00> + |10>)$\n",
    "\n",
    "We notice that this state is in a superposition of two terms, |00> and |10>. Both of these states agree that the qubit on the right is in the state |0>, therefore all of the superposition is on the left qubit. The left qubit is in a superposition of |0> and |1> which is described by the |+> state. That is why this state is called |+0>, indicating the left qubit is in the state |+> and the right qubit is in the state |0>. Thus, <font color=orange>we have a **product state** meaning we can describe our two qubit state vector as a pair of single qubit states.</font>\n",
    "\n",
    "We can formulate what product states look like by taking the product of their single qubit states. The general formula is:\n",
    "\n",
    "$|a> = \\begin{bmatrix}a_0 \\\\ a_1 \\end{bmatrix} , |b> = \\begin{bmatrix}b_0 \\\\ b_1 \\end{bmatrix}$\n",
    "\n",
    "$|ba> = \\begin{bmatrix}b_0a_0 \\\\ b_0a_1 \\\\ b_1a_0 \\\\ b_1a_1 \\end{bmatrix}$\n",
    "\n",
    "This just follows from traditional probability rules of finding the probability of two _unrelated events_ and just multiplying their probabilities together.\n",
    "\n",
    "<br>\n",
    "<br>"
   ]
  },
  {
   "cell_type": "markdown",
   "metadata": {},
   "source": [
    "### Entangled States"
   ]
  },
  {
   "cell_type": "markdown",
   "metadata": {},
   "source": [
    "Let's now look at another state vector, $|\\Phi^+>$:\n",
    "\n",
    "$|\\Phi^+> = \\frac{1}{\\sqrt{2}}\\begin{bmatrix}1 \\\\ 0 \\\\ 0 \\\\ 1 \\end{bmatrix} = \\frac{1}{\\sqrt{2}}(|00> + |11>)$\n",
    "\n",
    "The difference between $\\Phi^+$ and the state vector shown before is that it _cannot_ be written as two separate, single qubits; there is just no set of $a_0$, $a_1$, $b_0$, and $b_1$ that would satisfy the state defined by $\\Phi^+$. In all fields of numbers (real and complex), if the product of xy = 0 then x or y (or both) must be 0. Therefore, if $b_0*a_0$ is non-zero, we know both of those cannot be 0, and if $b_1*a_1$ is non-zero, then we know both of those cannot be 0. So how can $b_0*a_1$ and $b_1*a_0$ be zero if we just showed that $a_0$, $a_1$, $b_0$, and $b_1$ are all non-zero yet we need at least 1 zero in the $b_0*a_1$ and $b_1*a_0$ products for it to be zero? <font color=orange>Therefore, we simply _cannot_ write this is a product state becuase it is instead an **entangled state**.</font>"
   ]
  },
  {
   "cell_type": "markdown",
   "metadata": {},
   "source": [
    "## Entangling gates"
   ]
  },
  {
   "cell_type": "markdown",
   "metadata": {},
   "source": [
    "Single qubit gates will only create systems that are product states of the qubits; it is required to apply multi-qubit gates in order to create entanglement with cx and cz being common examples."
   ]
  },
  {
   "cell_type": "markdown",
   "metadata": {},
   "source": [
    "### The cx gate"
   ]
  },
  {
   "cell_type": "code",
   "execution_count": 1,
   "metadata": {},
   "outputs": [
    {
     "data": {
      "text/plain": [
       "'Statevector([1.+0.j, 0.+0.j, 0.+0.j, 0.+0.j],\\n            dims=(2, 2))'"
      ]
     },
     "execution_count": 1,
     "metadata": {},
     "output_type": "execute_result"
    }
   ],
   "source": [
    "from qiskit import QuantumCircuit\n",
    "from qiskit.quantum_info import Statevector\n",
    "\n",
    "qc = QuantumCircuit(2)\n",
    "\n",
    "# This calculates what the state vector of our qubits would be\n",
    "# after passing through the circuit 'qc'\n",
    "ket = Statevector(qc)\n",
    "\n",
    "# The code below writes down the state vector.\n",
    "# Since it's the last line in the cell, the cell will display it as output\n",
    "ket.draw()"
   ]
  },
  {
   "cell_type": "markdown",
   "metadata": {},
   "source": [
    "Our state vector shows  we are in a state of [1, 0, 0, 0] meaning |00>. In order for entanglment to occur, our qubit(s) must be in a state  of superposition."
   ]
  },
  {
   "cell_type": "code",
   "execution_count": 4,
   "metadata": {},
   "outputs": [
    {
     "data": {
      "text/plain": [
       "'Statevector([0.70710678+0.j, 0.        +0.j, 0.70710678+0.j,\\n             0.        +0.j],\\n            dims=(2, 2))'"
      ]
     },
     "execution_count": 4,
     "metadata": {},
     "output_type": "execute_result"
    }
   ],
   "source": [
    "qc = QuantumCircuit(2)\n",
    "qc.h(1)\n",
    "\n",
    "ket = Statevector(qc)\n",
    "ket.draw()"
   ]
  },
  {
   "cell_type": "code",
   "execution_count": 5,
   "metadata": {},
   "outputs": [
    {
     "data": {
      "text/plain": [
       "'Statevector([0.70710678+0.j, 0.        +0.j, 0.        +0.j,\\n             0.70710678+0.j],\\n            dims=(2, 2))'"
      ]
     },
     "execution_count": 5,
     "metadata": {},
     "output_type": "execute_result"
    }
   ],
   "source": [
    "qc.cx(1,0)\n",
    "\n",
    "ket = Statevector(qc)\n",
    "ket.draw()"
   ]
  },
  {
   "cell_type": "markdown",
   "metadata": {},
   "source": [
    "Now we've recreated the $|\\Phi^+>$ state as described earlier."
   ]
  },
  {
   "cell_type": "markdown",
   "metadata": {},
   "source": [
    "### The cz gate"
   ]
  },
  {
   "cell_type": "markdown",
   "metadata": {},
   "source": [
    "The cz gate is similar to the cx gate where a control qubit in state 0 does nothing to the target qubit and a control qubit in state 1 triggers a `z` to be performed on the target. However, the `z` operator does nothing to a qubit in state 0 and applies a phase of -1 to the state 1. So the cz gate only has an effect when _both_ the target and control qubits are in states |1>. We could have equally have defined the target as the control and the control as the target."
   ]
  },
  {
   "cell_type": "markdown",
   "metadata": {},
   "source": [
    "### The cx gate revisited"
   ]
  },
  {
   "cell_type": "markdown",
   "metadata": {},
   "source": [
    "We can revist our interpretation of the CX gate as flipping the target qubit when the control is in a state |1>. For example, lets start with the case where both qubits are in the |+> state."
   ]
  },
  {
   "cell_type": "code",
   "execution_count": 6,
   "metadata": {},
   "outputs": [
    {
     "data": {
      "text/plain": [
       "'Statevector([0.5+0.j, 0.5+0.j, 0.5+0.j, 0.5+0.j],\\n            dims=(2, 2))'"
      ]
     },
     "execution_count": 6,
     "metadata": {},
     "output_type": "execute_result"
    }
   ],
   "source": [
    "qc = QuantumCircuit(2)\n",
    "\n",
    "qc.h(0)\n",
    "qc.h(1)\n",
    "\n",
    "ket = Statevector(qc)\n",
    "ket.draw()"
   ]
  },
  {
   "cell_type": "code",
   "execution_count": 7,
   "metadata": {},
   "outputs": [
    {
     "data": {
      "text/plain": [
       "'Statevector([0.5+0.j, 0.5+0.j, 0.5+0.j, 0.5+0.j],\\n            dims=(2, 2))'"
      ]
     },
     "execution_count": 7,
     "metadata": {},
     "output_type": "execute_result"
    }
   ],
   "source": [
    "qc.cx(1, 0) # lists control, target qubits\n",
    "\n",
    "ket = Statevector(qc)\n",
    "ket.draw()"
   ]
  },
  {
   "cell_type": "markdown",
   "metadata": {},
   "source": [
    "Regardless of which qubit we make the control and which we make the target, the output is still the same; there is no effect from the cx gate.\n",
    "\n",
    "However, lets now look at the state where we put our target qubit in the |-> state by applying our z gate."
   ]
  },
  {
   "cell_type": "code",
   "execution_count": 8,
   "metadata": {},
   "outputs": [
    {
     "data": {
      "text/plain": [
       "'Statevector([ 0.5+0.j, -0.5+0.j,  0.5+0.j, -0.5+0.j],\\n            dims=(2, 2))'"
      ]
     },
     "execution_count": 8,
     "metadata": {},
     "output_type": "execute_result"
    }
   ],
   "source": [
    "qc.z(0)\n",
    "\n",
    "ket = Statevector(qc)\n",
    "ket.draw()"
   ]
  },
  {
   "cell_type": "code",
   "execution_count": 9,
   "metadata": {},
   "outputs": [
    {
     "data": {
      "text/plain": [
       "'Statevector([ 0.5+0.j, -0.5+0.j, -0.5+0.j,  0.5+0.j],\\n            dims=(2, 2))'"
      ]
     },
     "execution_count": 9,
     "metadata": {},
     "output_type": "execute_result"
    }
   ],
   "source": [
    "qc.cx(1, 0)\n",
    "\n",
    "ket = Statevector(qc)\n",
    "ket.draw()"
   ]
  },
  {
   "cell_type": "markdown",
   "metadata": {},
   "source": [
    "The statevector above can be rewritten as |--> meaning that our CX gate ended up flipping our _control_ qubit to |-> as well. <font color=orange>This effect is known as **phase kickback**, when there is a superposition on both the control and target quibits and some features of the target superposition can feed back into the control.</font>\n",
    "\n",
    "This can also allow us to make an alternative interpretation of the CX; it applies a `z` to the control if the target is in state |-> and does nothing if it is in state |+>. "
   ]
  },
  {
   "cell_type": "markdown",
   "metadata": {},
   "source": [
    "## The power of entanglement"
   ]
  },
  {
   "cell_type": "markdown",
   "metadata": {},
   "source": [
    "Entanglement is important to the algorithms and methods that provide a quantum advantage. Specific examples of entanglment in action are reviewed below."
   ]
  },
  {
   "cell_type": "markdown",
   "metadata": {},
   "source": [
    "## Entangled states and simulation"
   ]
  },
  {
   "cell_type": "markdown",
   "metadata": {},
   "source": [
    "For n qubits, there are 2^n amplitudes to keep track of. However, if only single qubit gates are applied and there is no effects of entanglement, our state vector is a product vector meaning it can be represented by the 2 states for each n individual qubits. That is just 2*n which is much less than  2^n states. This is not unmanageable for a classical computer to process  so there is no quantum advantage here. Therefore, entanglement is a necessary ingredient for any quantum advantage."
   ]
  },
  {
   "cell_type": "markdown",
   "metadata": {},
   "source": [
    "## Qubits working together: Superdense coding"
   ]
  },
  {
   "cell_type": "markdown",
   "metadata": {},
   "source": [
    "Lets look at an application of quantum communication. Suppose we have 2 people: Alice & Bob. Alice wishes to send a 2-bit message to Bob (00, 01, 10, or 11) and wants to do it by sending qubits. The simplest way to do this is with two qubits: encoding by using an `x` to flip the qubits to state 1 when needed and then all Bob has to do is measure them. This process did not involve any entanglement and provides no advantage over classical bits which can transmit n pieces of information in n bits.\n",
    "\n",
    "We can instead look  at the case of adding an h  and cx gate  after encoding the information, as shown below:"
   ]
  },
  {
   "cell_type": "code",
   "execution_count": 10,
   "metadata": {},
   "outputs": [
    {
     "data": {
      "text/plain": [
       "'Statevector([0.70710678+0.j, 0.        +0.j, 0.        +0.j,\\n             0.70710678+0.j],\\n            dims=(2, 2))'"
      ]
     },
     "execution_count": 10,
     "metadata": {},
     "output_type": "execute_result"
    }
   ],
   "source": [
    "MESSAGE = '00'\n",
    "\n",
    "qc_alice = QuantumCircuit(2,2)\n",
    "\n",
    "# Alice encodes the message\n",
    "if MESSAGE[-1]=='1':\n",
    "    qc_alice.x(0)\n",
    "if MESSAGE[-2]=='1':\n",
    "    qc_alice.x(1)\n",
    "\n",
    "# then she creates entangled states\n",
    "qc_alice.h(1)\n",
    "qc_alice.cx(1,0)\n",
    "\n",
    "ket = Statevector(qc_alice)\n",
    "ket.draw()"
   ]
  },
  {
   "cell_type": "markdown",
   "metadata": {},
   "source": [
    "This is our $\\Phi^+$ state but there are other 2-qubit entangled states such as $\\Phi^-$, $\\Psi^+$, and $\\Psi^-$. When Bob receives this particle, we simply can apply the h and cx gates to undo them and then can measure the message. However, again, if Bob has to measure 2 qubits to receive 2 bits of information, this does no better than our classical limit. If we look at our 4 entangled states, we see that they're all pretty closely related. For instance:\n",
    "\n",
    "* $\\Phi^+$ and $\\Psi^+$ can be converted between each other by the application of an `x` on one of the qubits (11 + 00 --> 10 + 01); the same is true of $\\Phi^-$ and $\\Psi^-$\n",
    "\n",
    "* $\\Phi^+$ and $\\Phi^-$ can also be converted between each other with the application of a `z` to introduce/remove a phase; the same is true between $\\Psi^+$ and $\\Psi^-$\n",
    "\n",
    "So Alice could first create an entanlged state (say $\\Phi^+$) and then modify it using `x` and `z` to encode the correct message. This puts us back into a similar position as the beginning except instead of encoding 00, 01, 10, or 11, Alice is encoding $\\Phi^+$, $\\Phi^-$, $\\Psi^+$, or $\\Psi^-$."
   ]
  },
  {
   "cell_type": "code",
   "execution_count": 11,
   "metadata": {},
   "outputs": [
    {
     "data": {
      "text/plain": [
       "'Statevector([0.70710678+0.j, 0.        +0.j, 0.        +0.j,\\n             0.70710678+0.j],\\n            dims=(2, 2))'"
      ]
     },
     "execution_count": 11,
     "metadata": {},
     "output_type": "execute_result"
    }
   ],
   "source": [
    "MESSAGE = '00'\n",
    "\n",
    "qc_alice = QuantumCircuit(2,2)\n",
    "qc_alice.h(1)\n",
    "qc_alice.cx(1,0)\n",
    "\n",
    "if MESSAGE[-2]=='1':\n",
    "    qc_alice.z(1)\n",
    "if MESSAGE[-1]=='1':\n",
    "    qc_alice.x(1)\n",
    "\n",
    "ket = Statevector(qc_alice)\n",
    "ket.draw()"
   ]
  },
  {
   "cell_type": "markdown",
   "metadata": {},
   "source": [
    "The important thing to note here though is that the `x` and `z` gates only need to be applied to a single qubit. This is different than the regular case of 00, 01, 10, and 11 because Alice could send qubit 0 to Bob as soon as she's created the entangled pair and then by applying a `z` or `x` gate on her single qubit, it would result in 4 possible outcome states to be measured. This is not the case if the qubits are not entangled; if a qubit in state 0 (or 1) is sent to Bob and then Alice encodes her qubit, then she can at most encode only 2 possible states since the qubit that was sent to Bob initially had a fixed/unrelated qubit state of 0 (or 1). Thus, Alice could only encode the states 01 or 00 (or 11 or 10). "
   ]
  },
  {
   "cell_type": "markdown",
   "metadata": {},
   "source": [
    "## Unique correlations: The Hardy paradox"
   ]
  },
  {
   "cell_type": "markdown",
   "metadata": {},
   "source": [
    "Given a qubit, we can measure different aspects of it. For example, we can measure it z-basis and in the x-basis. However, unlike classical objects, which we can measure two aspects simultaneously and with definitive results (such as color and shape of an object), the same cannot be done for quantum objects.\n",
    "\n",
    "A couple of quantum circuit examples showed the following results:\n",
    "\n",
    "1. A qubit with certain output in the z-axis (such as the |0> state), has completely random output in the x-axis (50% in |+> and 50% in |->)\n",
    "\n",
    "2. A qubit with certain output in the x-axis (such as the |+> state), has completely random output in the z-axis (50% in the |0> and 50% in the |1>)\n",
    "\n",
    "3. A qubits can be rotated to have effects somewhere in the middle such that there is _some_ degree of certainty (but not total) of the output in 1 axis which will have a corresponding degree of certainty in an orthogonal axis.\n",
    "\n",
    "To expand upon point 3, if we take a qubit in state |0> and apply a rotation about the y-axis of -pi/4, we will measure it in the |0> state about 85% of the time and in the |1> about ~15% of the time, and we will measure it in the |+> state 15% of the time and the |-> state about 85% of the time. Therefore, while we're not totally certain of the state in the z-axis, the measurement in the x-axis isn't completely random. \n",
    "\n",
    "Ultimately, <font color=orange>these observations reveal the effects of the **uncertainty princple**, which states that for pairs of attributes of a quantum system, it is impossible to know both with certainty.</font> . If the expecatation value of a qubit measured in the Z direction is as follows:\n",
    "\n",
    "$<Z> = p_z(0) - p_z(1)$\n",
    "\n",
    "then Z has a maximum value of 1 when we know it is in state 0 and has a minimum value of -1 when we know it is in state 1. For completely random results though, the expectation value of Z is 0. We can define the same for an expectation of measurement in the x-axis. Ultimately we find the following condition to always be true:\n",
    "\n",
    "$<Z>^2 + <X>^2  \\le 1$"
   ]
  },
  {
   "cell_type": "markdown",
   "metadata": {},
   "source": [
    "## Unique quantum correlations"
   ]
  },
  {
   "cell_type": "markdown",
   "metadata": {},
   "source": [
    "A third party generates a pair of qubits in an unknown state $\\phi$ as described by the circuit below:"
   ]
  },
  {
   "cell_type": "code",
   "execution_count": 12,
   "metadata": {},
   "outputs": [
    {
     "data": {
      "image/png": "[encoded data removed]",
      "text/plain": [
       "<Figure size 538.128x284.278 with 1 Axes>"
      ]
     },
     "execution_count": 12,
     "metadata": {},
     "output_type": "execute_result"
    }
   ],
   "source": [
    "qc_charlie = QuantumCircuit(2,2)\n",
    "qc_charlie.ry(1.911,1)\n",
    "qc_charlie.cx(1,0)\n",
    "qc_charlie.ry(0.785,0)\n",
    "qc_charlie.cx(1,0)\n",
    "qc_charlie.ry(2.356,0)\n",
    "\n",
    "qc_charlie.draw()"
   ]
  },
  {
   "cell_type": "code",
   "execution_count": 13,
   "metadata": {},
   "outputs": [
    {
     "data": {
      "text/plain": [
       "<qiskit.circuit.instructionset.InstructionSet at 0x7fc0ba195d90>"
      ]
     },
     "execution_count": 13,
     "metadata": {},
     "output_type": "execute_result"
    }
   ],
   "source": [
    "meas_zz = QuantumCircuit(2,2)\n",
    "meas_zz.measure([0,1],[0,1])"
   ]
  },
  {
   "cell_type": "code",
   "execution_count": 14,
   "metadata": {},
   "outputs": [
    {
     "name": "stdout",
     "output_type": "stream",
     "text": [
      "Results for z measurements:\n"
     ]
    },
    {
     "data": {
      "image/png": "[encoded data removed]",
      "text/plain": [
       "<Figure size 700x500 with 1 Axes>"
      ]
     },
     "execution_count": 14,
     "metadata": {},
     "output_type": "execute_result"
    }
   ],
   "source": [
    "from qiskit import Aer\n",
    "from qiskit.visualization import plot_histogram\n",
    "\n",
    "backend = Aer.get_backend('aer_simulator')\n",
    "\n",
    "print('Results for z measurements:')\n",
    "counts = backend.run(qc_charlie.compose(meas_zz)).result().get_counts()\n",
    "plot_histogram(counts)"
   ]
  },
  {
   "cell_type": "code",
   "execution_count": 15,
   "metadata": {},
   "outputs": [
    {
     "name": "stdout",
     "output_type": "stream",
     "text": [
      "Results for a z and an x measurement:\n"
     ]
    },
    {
     "data": {
      "image/png": "[encoded data removed]",
      "text/plain": [
       "<Figure size 700x500 with 1 Axes>"
      ]
     },
     "execution_count": 15,
     "metadata": {},
     "output_type": "execute_result"
    }
   ],
   "source": [
    "meas_zx = QuantumCircuit(2,2)\n",
    "meas_zx.h(0)\n",
    "meas_zx.measure([0,1],[0,1])\n",
    "\n",
    "print('Results for a z and an x measurement:')\n",
    "counts = backend.run(qc_charlie.compose(meas_zx)).result().get_counts()\n",
    "plot_histogram(counts)"
   ]
  },
  {
   "cell_type": "markdown",
   "metadata": {},
   "source": [
    "Alice and Bob do not know the state but they can make measurements on 1 qubit each and share their findings. From many samples of this 2-qubit quantum system state, they have deteremined the following correlations in their measurements as shown above:\n",
    "\n",
    "* When both Alice & Bob do measurements in the z-axis, they are never both 0\n",
    "\n",
    "* When one qubit is measured as 1 in the x-axis, a z measurement will always be 0 because we never observe any 11 results\n",
    "\n",
    "Using the observations above, Alice & Bob think about what the results might be if the particles are both measured in the x direction. Since a measurement in the x-axis of 1 means a 0 measurement in the z direction and we know we never see both particles measured in the 0 state for z, they conclude that they will never seen both particles in the 11 state for the x measurement."
   ]
  },
  {
   "cell_type": "code",
   "execution_count": 16,
   "metadata": {},
   "outputs": [
    {
     "name": "stdout",
     "output_type": "stream",
     "text": [
      "Results for an x and an x measurement:\n"
     ]
    },
    {
     "data": {
      "image/png": "[encoded data removed]",
      "text/plain": [
       "<Figure size 700x500 with 1 Axes>"
      ]
     },
     "execution_count": 16,
     "metadata": {},
     "output_type": "execute_result"
    }
   ],
   "source": [
    "meas_xx = QuantumCircuit(2,2)\n",
    "meas_xx.h([0,1])\n",
    "meas_xx.measure([0,1],[0,1])\n",
    "\n",
    "print('Results for an x and an x measurement:')\n",
    "counts = backend.run(qc_charlie.compose(meas_xx)).result().get_counts()\n",
    "plot_histogram(counts)"
   ]
  },
  {
   "cell_type": "markdown",
   "metadata": {},
   "source": [
    "However, this is wrong since we do see some probability of the particles being measured as 11 in the x-axis. This shows how the quantum probabilities work differently than what one would expect in the classical world."
   ]
  }
 ],
 "metadata": {
  "kernelspec": {
   "display_name": "Python 3",
   "language": "python",
   "name": "python3"
  },
  "language_info": {
   "codemirror_mode": {
    "name": "ipython",
    "version": 3
   },
   "file_extension": ".py",
   "mimetype": "text/x-python",
   "name": "python",
   "nbconvert_exporter": "python",
   "pygments_lexer": "ipython3",
   "version": "3.9.17"
  },
  "orig_nbformat": 4
 },
 "nbformat": 4,
 "nbformat_minor": 2
}
