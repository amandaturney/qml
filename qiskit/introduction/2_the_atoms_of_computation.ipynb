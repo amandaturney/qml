{
 "cells": [
  {
   "cell_type": "markdown",
   "metadata": {},
   "source": [
    "# The Atoms of Computation"
   ]
  },
  {
   "cell_type": "markdown",
   "metadata": {},
   "source": [
    "Below are notes from each section of the qiskit course documentation found on this page: https://learn.qiskit.org/course/introduction/the-atoms-of-computation"
   ]
  },
  {
   "cell_type": "markdown",
   "metadata": {},
   "source": [
    "## Introduction"
   ]
  },
  {
   "cell_type": "markdown",
   "metadata": {},
   "source": [
    "In order to understand a quantum program and quantum computing, we'll first look at the basic principles of traditional devices. This will help us compare against and then understand quantum computers."
   ]
  },
  {
   "cell_type": "markdown",
   "metadata": {},
   "source": [
    "## Splitting information into bits"
   ]
  },
  {
   "cell_type": "markdown",
   "metadata": {},
   "source": [
    "<font color=orange>A **bit** is the smallest unit of information that a classical computer can hold and it can store either a 0 or 1.</font> Using bits, computers can store numbers using the binary system. For example:\n",
    "\n",
    "213 = (**1** x 2^7) + (**1** x 2^6) + (**0** x 2^5) + (**1** x 2^4) + (**0** x 2^3) + (**1** x 2^2) + (**0** x 2^1) + (**1** x 2^0)\n",
    "\n",
    "213 = 11010101"
   ]
  },
  {
   "cell_type": "code",
   "execution_count": 8,
   "metadata": {},
   "outputs": [
    {
     "data": {
      "text/plain": [
       "'0b11010101'"
      ]
     },
     "execution_count": 8,
     "metadata": {},
     "output_type": "execute_result"
    }
   ],
   "source": [
    "# We can verify the binary string above using the bin function in python\n",
    "bin(213)"
   ]
  },
  {
   "cell_type": "code",
   "execution_count": 9,
   "metadata": {},
   "outputs": [
    {
     "data": {
      "text/plain": [
       "213"
      ]
     },
     "execution_count": 9,
     "metadata": {},
     "output_type": "execute_result"
    }
   ],
   "source": [
    "# We can also get back the decimal representation of a binary using int\n",
    "int('11010101', base=2)"
   ]
  },
  {
   "cell_type": "markdown",
   "metadata": {},
   "source": [
    "The `11010101` string is known as a binary string and can be used to represent more than just numbers (although we'll ignore other uses of it for now). Quantum computers use the same basic idea except they use _qubits_, which will be defined later. For now, we'll treat them just as bits."
   ]
  },
  {
   "cell_type": "markdown",
   "metadata": {},
   "source": [
    "If you have `n` bits, you could write down `2^n` different numbers because each bit has 2 possible states (0 or 1). In comparison to the decimal system, if you have `n` bits, you could write down 10^n different numbers so we can see that the decimal system."
   ]
  },
  {
   "cell_type": "markdown",
   "metadata": {},
   "source": [
    "## Circuit diagrams"
   ]
  },
  {
   "cell_type": "markdown",
   "metadata": {},
   "source": [
    "<font color=orange>**Circuit diagrams** are representations of the process of manipulating input bits into an output.</font> The diagrams show the inputs on the left and outputs on the right. Classical circuit diagrams have operations (or gates) represented by arcane symbols. A quantum circuit is siimilar but has different conventions for representing the inputs, outputs, and symbols used for operations."
   ]
  },
  {
   "cell_type": "markdown",
   "metadata": {},
   "source": [
    "## Creating circuits with `Qiskit`"
   ]
  },
  {
   "cell_type": "markdown",
   "metadata": {},
   "source": [
    "To start, we need to import the `QuantumCircuit` class and instantiate a new `QuantumCircuit` object for which we will define the number of qubits and, optionally, the number of classical bits which are usedto store the measurements of qubits."
   ]
  },
  {
   "cell_type": "code",
   "execution_count": 10,
   "metadata": {},
   "outputs": [],
   "source": [
    "from qiskit import QuantumCircuit"
   ]
  },
  {
   "cell_type": "markdown",
   "metadata": {},
   "source": [
    "## Your first quantum circuit"
   ]
  },
  {
   "cell_type": "markdown",
   "metadata": {},
   "source": [
    "In a typical circuit, it will need to be able to do 3 jobs: 1) encode the input, 2) do some actual computation, and 3) extract an output. This circuit will just focus on the last of the 3 jobs."
   ]
  },
  {
   "cell_type": "code",
   "execution_count": 11,
   "metadata": {},
   "outputs": [
    {
     "data": {
      "image/png": "[encoded data removed]",
      "text/plain": [
       "<Figure size 162.08x367.889 with 1 Axes>"
      ]
     },
     "execution_count": 11,
     "metadata": {},
     "output_type": "execute_result"
    }
   ],
   "source": [
    "# Create quantum circuit with 3 qubits and 3 classical bits\n",
    "# (we'll explain why we need the classical bits later)\n",
    "qc = QuantumCircuit(3, 3)\n",
    "qc.draw()"
   ]
  },
  {
   "cell_type": "markdown",
   "metadata": {},
   "source": [
    "The circuit has no gates/operations so it simply shows our 3 qubits (top 3 lines) and our 3 classical bits (on the bottom). But now tell our quantum computer to measure our qubits and record the results."
   ]
  },
  {
   "cell_type": "code",
   "execution_count": 12,
   "metadata": {},
   "outputs": [
    {
     "data": {
      "image/png": "[encoded data removed]",
      "text/plain": [
       "<Figure size 371.107x367.889 with 1 Axes>"
      ]
     },
     "execution_count": 12,
     "metadata": {},
     "output_type": "execute_result"
    }
   ],
   "source": [
    "# measure qubits 0, 1, and 2 to classical bits 0, 1, and 2 respectively\n",
    "qc.measure([0, 1, 2], [0, 1, 2])\n",
    "qc.draw()"
   ]
  },
  {
   "cell_type": "markdown",
   "metadata": {},
   "source": [
    "Now that we've defined our circuit, we want to see what the output results of running it would be. To do this, we'll use a <font color=orange>**quantum simulator**, which is a standard computing calculating what an ideal quantum computer would do</font>. Classical computers do not simulate quantum algorithms very efficiently so we can only do this for up to a small number of qubits (~30). Qiskit's simulator is called Aer andd we can import it and set it as our backend."
   ]
  },
  {
   "cell_type": "code",
   "execution_count": 13,
   "metadata": {},
   "outputs": [],
   "source": [
    "from qiskit import Aer\n",
    "sim = Aer.get_backend('aer_simulator')  # make new simulator object"
   ]
  },
  {
   "cell_type": "markdown",
   "metadata": {},
   "source": [
    "**Note: This cell above differs from the tutorial as the tutorials code did not work due to being an older version of the package.**\n",
    "\n",
    "The simulator can be run using the simulators `.run` method which will return a job containing information about the experiment such as whether it is currently running or complete, the backend it ran on, and the results of the experiment. We can retrieve the results using the `.results` and can view those results as a dictionary of counts."
   ]
  },
  {
   "cell_type": "code",
   "execution_count": 14,
   "metadata": {},
   "outputs": [
    {
     "data": {
      "text/plain": [
       "{'000': 1024}"
      ]
     },
     "execution_count": 14,
     "metadata": {},
     "output_type": "execute_result"
    }
   ],
   "source": [
    "job = sim.run(qc)       # run the experiment\n",
    "result = job.result()   # get the results\n",
    "result.get_counts()     # view the results as a dictionary of counts"
   ]
  },
  {
   "cell_type": "markdown",
   "metadata": {},
   "source": [
    "Due to the randomness of results, quantum computers often run circuits multiple times. Here we see it ran 1024 times which is the default number. By default, qubits always start in state 0 so we will always get back state `000` for our 3 qubits in this circuit."
   ]
  },
  {
   "cell_type": "markdown",
   "metadata": {},
   "source": [
    "### Encoding an input"
   ]
  },
  {
   "cell_type": "markdown",
   "metadata": {},
   "source": [
    "We can encode our binary strings as inputs to our circuit. To do this, we can apply the NOT gate on our qubits to flip specific ones from 0 to 1. For qubits, this operation is known as the **X-gate** (the name of which will be explained later)."
   ]
  },
  {
   "cell_type": "code",
   "execution_count": 15,
   "metadata": {},
   "outputs": [
    {
     "data": {
      "image/png": "[encoded data removed]",
      "text/plain": [
       "<Figure size 371.107x367.889 with 1 Axes>"
      ]
     },
     "execution_count": 15,
     "metadata": {},
     "output_type": "execute_result"
    }
   ],
   "source": [
    "# create quantum circuit with 3 qubits and 3 classical bits:\n",
    "qc = QuantumCircuit(3, 3)\n",
    "qc.x([0, 1])       # Perform X-gates on qubits 0 & 1\n",
    "qc.measure([0, 1, 2], [0, 1, 2])\n",
    "qc.draw()"
   ]
  },
  {
   "cell_type": "code",
   "execution_count": 16,
   "metadata": {},
   "outputs": [
    {
     "data": {
      "text/plain": [
       "{'011': 1024}"
      ]
     },
     "execution_count": 16,
     "metadata": {},
     "output_type": "execute_result"
    }
   ],
   "source": [
    "job = sim.run(qc)\n",
    "result = job.result()\n",
    "result.get_counts()"
   ]
  },
  {
   "cell_type": "markdown",
   "metadata": {},
   "source": [
    "<font color=orange>**Note here that the binary string encode, 011, was the result of flipping qubits 0 and 1 (_not qubits 1 and 2_), meaning that the string is encoded from bottom up on our circuit diagram**"
   ]
  },
  {
   "cell_type": "markdown",
   "metadata": {},
   "source": [
    "## Creating an adder circuit"
   ]
  },
  {
   "cell_type": "markdown",
   "metadata": {},
   "source": [
    "Just as decimal numbers are added column-wise from the smallest place (right most digit) to the largest place (left most digit), so is adding binary numbers. The rules are mostly the same where 0 + 0 is 0, 0 + 1  = 1, 1 + 0 = , and 1 + 1 = 10 where the result is a 0 that column but a 1 is carried over to the next column and added to those values. If the next column also has 2 1's, 1 + 1 + 1 = 11 where the result for that column is a 1 and a 1 is also carried to the next column. This covers all possible situations and thus binary numbers can be added like this for all columns.\n",
    "\n",
    "The four basic sums shown below are called a half adder:\n",
    "\n",
    "0+0 = 00<br>\n",
    "0+1 = 01<br>\n",
    "1+0 = 01<br>\n",
    "1+1 = 10<br>"
   ]
  },
  {
   "cell_type": "markdown",
   "metadata": {},
   "source": [
    "We can analyze the pattern of the half adder and see that the right-most digit is determined by whether the inputs are the same or different (same is 0, different is 1). This is known as an exlusive or gate (XOR) in classical computing and a controlled-NOT gate on a quantum computer. Indicating a control qubit and a target qubit, the CNOT gate acts by flipping the target only qubit if the control is 1. It can be applied using the `.cx` method as shown below:"
   ]
  },
  {
   "cell_type": "code",
   "execution_count": 17,
   "metadata": {},
   "outputs": [
    {
     "data": {
      "image/png": "[encoded data removed]",
      "text/plain": [
       "<Figure size 454.517x284.278 with 1 Axes>"
      ]
     },
     "metadata": {},
     "output_type": "display_data"
    },
    {
     "name": "stdout",
     "output_type": "stream",
     "text": [
      "Result:  {'11': 1024}\n"
     ]
    }
   ],
   "source": [
    "# Create quantum circuit with 2 qubits and 2 classical bits\n",
    "qc = QuantumCircuit(2, 2)\n",
    "qc.x(0)\n",
    "qc.cx(0,1)  # CNOT controlled by qubit 0 and targeting qubit 1\n",
    "qc.measure([0,1], [0,1])\n",
    "display(qc.draw())     # display a drawing of the circuit\n",
    "\n",
    "job = sim.run(qc)      # run the experiment\n",
    "result = job.result()  # get the results\n",
    "# interpret the results as a \"counts\" dictionary\n",
    "print(\"Result: \", result.get_counts())"
   ]
  },
  {
   "cell_type": "markdown",
   "metadata": {},
   "source": [
    "For our circuit, we don't want to flip/change/alter our inputs so we use our inputs as controls and additional qubits in our circuit as the targets. Therefore, we can implement q0 XOR q1 using two CNOTs acting on our read-out qubit (qr) initialized in state 0. If q0 and q1 are both 0, then qr never gets flipped and stays in 0. If q0 and q1 are both 1 then qr will get flipped twice, 0 to 1 and then 1 back to 0, resulting in 0 again. However, if only one of the two input qubits is 1 then qr gets flipped once and will result in 1 which is what we want. "
   ]
  },
  {
   "cell_type": "markdown",
   "metadata": {},
   "source": [
    "The last thing we need to do for our half adder is to look at the case of the left most output digit. We see from below that the left digit is only flipped to 1 if both inputs are 1.\n",
    "\n",
    "0+0 = 00<br>\n",
    "0+1 = 01<br>\n",
    "1+0 = 01<br>\n",
    "1+1 = 10<br>\n",
    "\n",
    "For this case, we want a Toffoli gate (or a CCX for the double control) which only flips the target qubit if the 2 control qubits are _both_ 1s. This is basically and AND gate in the classical world.\n",
    "\n",
    "Now we can construct our half-adder circuit!"
   ]
  },
  {
   "cell_type": "code",
   "execution_count": 20,
   "metadata": {},
   "outputs": [
    {
     "data": {
      "image/png": "[encoded data removed]",
      "text/plain": [
       "<Figure size 789.163x451.5 with 1 Axes>"
      ]
     },
     "execution_count": 20,
     "metadata": {},
     "output_type": "execute_result"
    }
   ],
   "source": [
    "half_adder_qc = QuantumCircuit(4, 2)\n",
    "\n",
    "# First, lets incode the inputs 1 and 0\n",
    "half_adder_qc.x(0)\n",
    "half_adder_qc.barrier() # mark the end of the encoding part of the circuit\n",
    "\n",
    "# Next, it should carry out the adder circuit\n",
    "half_adder_qc.cx(0, 2)\n",
    "half_adder_qc.cx(1, 2)\n",
    "half_adder_qc.ccx(0, 1, 3)\n",
    "half_adder_qc.barrier() # mark the end of the computation part of the circuit\n",
    "\n",
    "# Finally, measure the bottom two qubits\n",
    "half_adder_qc.measure(2, 0)\n",
    "half_adder_qc.measure(3, 1)\n",
    "half_adder_qc.draw()"
   ]
  },
  {
   "cell_type": "code",
   "execution_count": 21,
   "metadata": {},
   "outputs": [
    {
     "data": {
      "text/plain": [
       "{'01': 1024}"
      ]
     },
     "execution_count": 21,
     "metadata": {},
     "output_type": "execute_result"
    }
   ],
   "source": [
    "job = sim.run(half_adder_qc)\n",
    "result = job.result()\n",
    "result.get_counts()"
   ]
  }
 ],
 "metadata": {
  "kernelspec": {
   "display_name": "Python 3",
   "language": "python",
   "name": "python3"
  },
  "language_info": {
   "codemirror_mode": {
    "name": "ipython",
    "version": 3
   },
   "file_extension": ".py",
   "mimetype": "text/x-python",
   "name": "python",
   "nbconvert_exporter": "python",
   "pygments_lexer": "ipython3",
   "version": "3.9.17"
  },
  "orig_nbformat": 4
 },
 "nbformat": 4,
 "nbformat_minor": 2
}
