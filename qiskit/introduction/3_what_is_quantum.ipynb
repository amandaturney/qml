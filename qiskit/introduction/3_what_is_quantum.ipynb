{
 "cells": [
  {
   "cell_type": "markdown",
   "metadata": {},
   "source": [
    "# What is quantum?"
   ]
  },
  {
   "cell_type": "markdown",
   "metadata": {},
   "source": [
    "Below are notes from each section of the qiskit course documentation found on this page: https://learn.qiskit.org/course/introduction/what-is-quantum"
   ]
  },
  {
   "cell_type": "markdown",
   "metadata": {},
   "source": [
    "## What is a bit?"
   ]
  },
  {
   "cell_type": "markdown",
   "metadata": {},
   "source": [
    "Bits have previously been introduced as abstract units of information. But what are they physically in the real world?\n",
    "\n",
    "* Punched cards: In the early dats of computing, bits were stored by making holes in paper cards. The cards were divided into grids and each cell in the grid represented a bit where a hole represented '1', and no hole represented '0'. Changing the value of a bit required punching a new hole or _patching_ the hole back up.\n",
    "\n",
    "* Compact disks: CDs were created in the 80s to store audio records using bits where pits and troughs on the surface to represented the bits' values and lasers were used to sweep over for reading/detecting the bits. The disk is read along a spiral line, divided into segments.\n",
    "\n",
    "* Electron orbitals: Electrons can be found in discretized/quantum distances away from a nucleus (shells). If the shell that an electron is in can be detected, then we can pick two shells and give the atom a state of 0 for being in one shell and a state of 1 for being in the other shell.\n",
    "\n",
    "\n",
    "The first two examples above follow the laws of classical mechanics/physics whereas the third behaves slightly differently at that scale and thus follows the laws of quantum physics."
   ]
  },
  {
   "cell_type": "markdown",
   "metadata": {},
   "source": [
    "## Exploring qubits"
   ]
  },
  {
   "cell_type": "markdown",
   "metadata": {},
   "source": [
    "All operations in the previous sections were <font color=orange>**deterministic**, meaning that acting on the same input state, they will always give the same output state and there is no randomness involved.</font> The quantum world however is not deterministic and can only be described by probability.\n",
    "\n",
    "For example, the Hadamard gate (H-gate), will transform a qubit into having a 50-50 chance of being measured in the 0 or 1 state. Let's show a couple different circuits to illustrate some interesting things..."
   ]
  },
  {
   "cell_type": "code",
   "execution_count": 3,
   "metadata": {},
   "outputs": [
    {
     "data": {
      "text/plain": [
       "{'1': 509, '0': 515}"
      ]
     },
     "execution_count": 3,
     "metadata": {},
     "output_type": "execute_result"
    }
   ],
   "source": [
    "from qiskit import QuantumCircuit, Aer\n",
    "\n",
    "# Show how the H-gate works\n",
    "qc1 = QuantumCircuit(1, 1)\n",
    "qc1.h(0)\n",
    "qc1.measure(0, 0)\n",
    "\n",
    "sim = Aer.get_backend('aer_simulator')\n",
    "job = sim.run(qc1)\n",
    "results = job.result()\n",
    "results.get_counts()"
   ]
  },
  {
   "cell_type": "markdown",
   "metadata": {},
   "source": [
    "The H-gate puts a qubit that is initially in a state 0 to be in state that ends up being ~50% of the time found in state 1 and ~50% of the time found in state 0."
   ]
  },
  {
   "cell_type": "code",
   "execution_count": 4,
   "metadata": {},
   "outputs": [
    {
     "data": {
      "text/plain": [
       "{'1': 1024}"
      ]
     },
     "execution_count": 4,
     "metadata": {},
     "output_type": "execute_result"
    }
   ],
   "source": [
    "# Apply an X-gate and show that our qubit has 100% chance of being in state 1\n",
    "qc2 = QuantumCircuit(1, 1)\n",
    "qc2.x(0)\n",
    "qc2.measure(0, 0)\n",
    "job = sim.run(qc2)\n",
    "results = job.result()\n",
    "results.get_counts()"
   ]
  },
  {
   "cell_type": "markdown",
   "metadata": {},
   "source": [
    "Now what is we combine an X-gate and an H-gate?"
   ]
  },
  {
   "cell_type": "code",
   "execution_count": 5,
   "metadata": {},
   "outputs": [
    {
     "data": {
      "text/plain": [
       "{'0': 506, '1': 518}"
      ]
     },
     "execution_count": 5,
     "metadata": {},
     "output_type": "execute_result"
    }
   ],
   "source": [
    "# Put an H-gate after the X-gate\n",
    "qc3 = QuantumCircuit(1, 1)\n",
    "qc3.x(0)\n",
    "qc3.h(0)\n",
    "qc3.measure(0, 0)\n",
    "job = sim.run(qc3)\n",
    "results = job.result()\n",
    "results.get_counts()"
   ]
  },
  {
   "cell_type": "markdown",
   "metadata": {},
   "source": [
    "We see that the H-gate will act similarly on an input qubit in state 1 by transforming it into a state that is found to be in state 1 about half the time and state 0 about half the time."
   ]
  },
  {
   "cell_type": "code",
   "execution_count": 6,
   "metadata": {},
   "outputs": [
    {
     "data": {
      "text/plain": [
       "{'0': 1024}"
      ]
     },
     "execution_count": 6,
     "metadata": {},
     "output_type": "execute_result"
    }
   ],
   "source": [
    "# Apply two H-gates in a row\n",
    "qc4 = QuantumCircuit(1, 1)\n",
    "qc4.h(0)\n",
    "qc4.h(0)\n",
    "qc4.measure(0, 0)\n",
    "job = sim.run(qc4)\n",
    "results = job.result()\n",
    "results.get_counts()"
   ]
  },
  {
   "cell_type": "code",
   "execution_count": 7,
   "metadata": {},
   "outputs": [
    {
     "data": {
      "text/plain": [
       "{'1': 1024}"
      ]
     },
     "execution_count": 7,
     "metadata": {},
     "output_type": "execute_result"
    }
   ],
   "source": [
    "# Inialize qubit to be in state 1 and then apply two H-gates in a row\n",
    "qc5 = QuantumCircuit(1, 1)\n",
    "qc5.x(0)\n",
    "qc5.h(0)\n",
    "qc5.h(0)\n",
    "qc5.measure(0, 0)\n",
    "job = sim.run(qc5)\n",
    "results = job.result()\n",
    "results.get_counts()"
   ]
  },
  {
   "cell_type": "markdown",
   "metadata": {},
   "source": [
    "A classical understanding of probability would lead us to think that after the first H-gate, there would be 50% chance of 0 and 50% chance of 1. Then after the second H-gate, there would be a 25% chance that a 0 from H-gate1 would be a 0, a 25% that a 0 from H-gate1 would 1, a 25% chance that a 1 from H-gate1 would be a 0, and a 25% chance that a 1 from H-gate1 would be a 1. This would effectively make things again 50% 0 and 50% 1.\n",
    "\n",
    "However, that is precisely what we do _not_ see. Instead, we see that applying the H-gate twice seems to add and then remove the randomness from the system. This cannot be described using typical probability trees."
   ]
  },
  {
   "cell_type": "markdown",
   "metadata": {},
   "source": [
    "## Beyond probabilities"
   ]
  },
  {
   "cell_type": "markdown",
   "metadata": {},
   "source": [
    "In quantum mechanics, we use probability _amplitudes_. <font color=orange>**Probability amplitudes** have a magnitude, a phase, and exist for each possible outcome with the magnitude of that outcome's amplitude inidicating how likely that outcome is to occur.</font>\n",
    "\n",
    "The phase of a probability amplitude can be introduced as simply an angle. This means that while a convential probability only have a magnitude, amplitudes have a magnitude and a direction. Specifically, amplitudes are complex numbers.\n",
    "\n",
    "The result of phase is that when adding amplitudes together, <font color=orange>phases can cancel each other out the way that positive and negative numbers do. This behavior is called **interference** and explains the weird behavior we see in quantum mechanics that we do not see in classical mechanics.</font>"
   ]
  },
  {
   "cell_type": "markdown",
   "metadata": {},
   "source": [
    "The probability of measuring a specific outcome can be calculated as the square of that outcome's magnitude. This ensures that everything adds up to 1 at the end. While the concepts of phase and amplitudes were introduces as mathematical tricks, they work _so_ well that scientists concluded that they must actually exist. <font color=orange>We cannot measure phase directly but we do know it exists because of the interference effects it produces.</font>"
   ]
  },
  {
   "cell_type": "markdown",
   "metadata": {},
   "source": [
    "Understanding what happens in our quantum circuit 4 and 5 requires the emphasis of two points:\n",
    "\n",
    "1. Mathematically speaking, the H-gate must apply a phase such that applying 2 H-gates in a row would produce this \"cancelling out\" effect we see, and \n",
    "\n",
    "2. In order for these amplitudes to \"cancel\" each other out, we must think of them physically existing at the same time. So instead of saying the qubit took the route of 0 -> 0 -> _or_ 0 -> 1 -> 0, we instead describe it as the qubit is in a _superposition_ of both 0 _and_ 1. "
   ]
  },
  {
   "cell_type": "markdown",
   "metadata": {},
   "source": [
    "## Neatening things up"
   ]
  },
  {
   "cell_type": "markdown",
   "metadata": {},
   "source": [
    "Quantum computer simulators can use vectors to keep track of the amplitudes of all possible outcomes of the qubits. This works fine but starts to become computationally unmanageable for larger amounts of quibits were the number of possible outcomes doubles with each qubit added and thus becomes an exponential complexity problem. However, this \"parallelization\" comes for free in quantum hardware which is what makes it a very appealing technology to use given the right problem."
   ]
  },
  {
   "cell_type": "markdown",
   "metadata": {},
   "source": [
    "## Summary"
   ]
  },
  {
   "cell_type": "markdown",
   "metadata": {},
   "source": [
    "Key takeaways are:\n",
    "\n",
    "* things that follow the rules of quantum mechanics can be used as qubits\n",
    "\n",
    "* qubits can be described using probability amplitudes which have a magnitude (like classical probabilities) and a phase (unlike classical probabilities)\n",
    "\n",
    "* amplitudes can cance each other out (interference)\n",
    "\n",
    "* the best algorithms for simulation qubits use exponential resources for the number of number qubits which makes it intractable for large numbers of qubits\n"
   ]
  }
 ],
 "metadata": {
  "kernelspec": {
   "display_name": "Python 3",
   "language": "python",
   "name": "python3"
  },
  "language_info": {
   "codemirror_mode": {
    "name": "ipython",
    "version": 3
   },
   "file_extension": ".py",
   "mimetype": "text/x-python",
   "name": "python",
   "nbconvert_exporter": "python",
   "pygments_lexer": "ipython3",
   "version": "3.9.17"
  },
  "orig_nbformat": 4
 },
 "nbformat": 4,
 "nbformat_minor": 2
}
