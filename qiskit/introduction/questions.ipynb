{
 "cells": [
  {
   "cell_type": "markdown",
   "metadata": {},
   "source": [
    "# Questions / Notes"
   ]
  },
  {
   "cell_type": "markdown",
   "metadata": {},
   "source": [
    "## 1) Why Quantum Computing?"
   ]
  },
  {
   "cell_type": "markdown",
   "metadata": {},
   "source": [
    "## 2) The Atoms of Computation"
   ]
  },
  {
   "cell_type": "markdown",
   "metadata": {},
   "source": [
    "## 3) What is Quantum?"
   ]
  },
  {
   "cell_type": "markdown",
   "metadata": {},
   "source": [
    "## 4) Describing Quantum Computers"
   ]
  },
  {
   "cell_type": "markdown",
   "metadata": {},
   "source": [
    "## 5) Entangled States"
   ]
  },
  {
   "cell_type": "markdown",
   "metadata": {},
   "source": [
    "## 6) Visualizing Entanglement"
   ]
  },
  {
   "cell_type": "markdown",
   "metadata": {},
   "source": [
    "1. This notebook was the weirdest with the interactive \"puzzles\" it had that I think made it kind of confusing to follow, especially compared to maybe some newer visualizations that I've seen from Qiskit. Maybe could check out some of them to get a better explanation?\n",
    "\n",
    "2. Despite the weird section, I did do a lot of reflecting on Bell's Inequality and understanding how the result of the experiment can only be described by a _relative difference_ in measurement angles rather than two absolute measurements for each. The result of each separate detector depends on a probability that is based on the other detector's measurement angle. This is why Bell's inequality cannot assume both locality and realism.\n",
    "\n",
    ">  Resources to checkout: \n",
    "> * Quantum  Mysteries for Anyone (David Mermin)\n",
    "> * Kochen-Specker Theorem\n",
    "> * https://mediacentral.princeton.edu/tag/tagid/free%20will\n",
    "> * John Conway - The Game of Life (Free will)"
   ]
  },
  {
   "cell_type": "markdown",
   "metadata": {},
   "source": [
    "## 7) Grover's Search Algorithm"
   ]
  },
  {
   "cell_type": "markdown",
   "metadata": {},
   "source": [
    "1. How does the qiskit `PhaseOracle.from_dimacs_file` method work and if it creates a circuit that can implement the matrix with negative phases for the solutions then do we even need to run the circuit at all? Or can we take the circuit operations, do the linear algebra to compute the $U_{oracle}$ matrix and check the columns that have -1's? In other words, is the encoding of the problem the solution itself rather than Grover's algorithm of superposition _+ oracle + diffuser?\n",
    "\n",
    "> Grover's algorithm is an example of a type of black box algorithm; several other types of famous algorithms fall in these category. The implication of this type of algorithm is that building the oracle already gives you the answer, or namely, you already have the answer in order to build the oracle. The diffuser is simply an efficient way to query this system rather than running through every possible input and checking the output, like we would classically. So yes, building the oracle means you already have the solution. However, the reason why these type of algorithms are still interesting to study is so that we can apply these to black box systems that we _don't_ build but rather find in nature and want to query. An example of this are molecules in chemistry which we know are quantum systems and may want to query for attributes such as resonant frequencies or energy levels or something. If we can manipulate these systems in a way that we could ensure that attributes we are interested in can interfere constructively, we can extract these values efficiently. The one example that is not a blackbox algorithm is Shor's algorithm which can be built and ran in polynomial time which outperforms our current classical benchmark of exponential. Shor's algorithm is the biggest evidence for a quantum advantage to date but only if we can prove that there isn't a classical algorithm that can beat it. \n",
    "\n",
    "\n",
    "2. Does Schoning's algorithm find only 1 solution? How does this compare to Grover's, which finds all solutions?\n",
    "\n",
    "> Both Schonings and Grover's only find 1 solution but Grover's algorithm gets run multiple times (as a consequence of error rate) which results in finding all solutions. So Schoning and Grover are similar in this fact and thus Schoning could also be repeated multiple times with different random starting binary strings so they're somewhat compatible. "
   ]
  },
  {
   "cell_type": "markdown",
   "metadata": {},
   "source": [
    "## Notes"
   ]
  },
  {
   "cell_type": "markdown",
   "metadata": {},
   "source": [
    "* The dimacs file implements the Conjective Normal Form which is an inconvenient representation for quantum circuits so this can be converted into the algebraic normal form (ANF) which uses xors which are much easier to map to quantum circuits.\n",
    "\n",
    "* Phil at IU runs the ion trap quantum lab, also works iwth Chris Monroe who uses same technology for INQ. This technology works for a few hundred qubits but has limitations to scaling beyond that. In one of the qiskit courses, it talked about how in order for some factorizaiton problem that took 2700 computing years to solve, it would only take a day on a quantum computer but this assumed millions of qubits. So how can we even jump from a few hundred to thousands or millions? Just as moving from vacuum tube transistors to semiconductor technology allowed for that jump in the classical world, the thought is that some \"new science\" would be needed for us to do the same for quantum computers. In the meantime though, there is a lot of focus on error reduction techniques and trying to see how far we can push the current technology. \n",
    "\n",
    "* As a fun example, can build a circui containing a large amount of even numbered X gates and in theory, it should result in the identity operator. However, when ran on the real quantum backend, it creates wrong results some large percentage of the time (60%) due to not perfect gate fidelity multiplied over and over again so short circuits are better. "
   ]
  }
 ],
 "metadata": {
  "kernelspec": {
   "display_name": "Python 3",
   "language": "python",
   "name": "python3"
  },
  "language_info": {
   "name": "python",
   "version": "3.9.17"
  },
  "orig_nbformat": 4
 },
 "nbformat": 4,
 "nbformat_minor": 2
}
