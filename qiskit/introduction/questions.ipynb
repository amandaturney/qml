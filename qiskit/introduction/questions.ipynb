{
 "cells": [
  {
   "cell_type": "markdown",
   "metadata": {},
   "source": [
    "# Questions / Notes"
   ]
  },
  {
   "cell_type": "markdown",
   "metadata": {},
   "source": [
    "## 1) Why quantum Computing?"
   ]
  },
  {
   "cell_type": "markdown",
   "metadata": {},
   "source": [
    "## 2) The Atoms of Computation"
   ]
  },
  {
   "cell_type": "markdown",
   "metadata": {},
   "source": [
    "## 3) What is Quantum?"
   ]
  },
  {
   "cell_type": "markdown",
   "metadata": {},
   "source": [
    "## 4) Describing Quantum Computers"
   ]
  },
  {
   "cell_type": "markdown",
   "metadata": {},
   "source": [
    "## 5) Entangled States"
   ]
  },
  {
   "cell_type": "markdown",
   "metadata": {},
   "source": [
    "## 6) Visualizing Entanglement"
   ]
  },
  {
   "cell_type": "markdown",
   "metadata": {},
   "source": [
    "1. This notebook was the weirdest with the interactive \"puzzles\" it had that I think made it kind of confusing to follow, especially compared to maybe some newer visualizations that I've seen from Qiskit. Maybe could check out some of them to get a better explanation?\n",
    "\n",
    "2. Despite the weird section, I did do a lot of reflecting on Bell's Inequality and understanding how the result of the experiment can only be described by a _relative difference_ in measurement angles rather than two absolute measurements for each. The result of each separate detector depends on a probability that is based on the other detector's measurement angle. This is why Bell's inequality cannot assume both locality and realism."
   ]
  },
  {
   "cell_type": "markdown",
   "metadata": {},
   "source": [
    "## 7) Grover's Search Algorithm"
   ]
  },
  {
   "cell_type": "markdown",
   "metadata": {},
   "source": [
    "1. How does the qiskit `PhaseOracle.from_dimacs_file` method work and if it creates a circuit that can implement the matrix with negative phases for the solutions then do we even need to run the circuit at all? Or can we take the circuit operations, do the linear algebra to compute the $U_{oracle}$ matrix and check the columns that have -1's? In other words, is the encoding of the problem the solution itself rather than Grover's algorithm of superposition _+ oracle + diffuser?\n",
    "\n",
    "\n",
    "2. Does Schoning's algorithm find only 1 solution? How does this compare to Grover's, which finds all solutions?"
   ]
  }
 ],
 "metadata": {
  "kernelspec": {
   "display_name": "Python 3",
   "language": "python",
   "name": "python3"
  },
  "language_info": {
   "name": "python",
   "version": "3.9.17"
  },
  "orig_nbformat": 4
 },
 "nbformat": 4,
 "nbformat_minor": 2
}
